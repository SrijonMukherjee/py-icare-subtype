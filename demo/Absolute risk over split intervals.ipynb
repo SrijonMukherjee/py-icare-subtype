{
 "cells": [
  {
   "cell_type": "markdown",
   "source": [
    "[![Open In Colab](https://colab.research.google.com/assets/colab-badge.svg)](https://colab.research.google.com/github/jeyabbalas/py-icare/blob/master/demo/Absolute%20risk%20over%20split%20intervals.ipynb)\n",
    "\n",
    "# Absolute risk over split intervals\n",
    "\n",
    "In this example, we demonstrate the use of iCARE to build and apply absolute risk models over split intervals. This option allows the user to build absolute risk models that relax the proportional hazards assumption, to some extent, by allowing the relationship between risk factors and the outcome to vary over time. For example, it is well-documented that the relationships between certain risk factors, such as body mass index, and breast cancer are different among pre-menopausal and post-menopausal women. Using `compute_absolute_risk_split_interval()`, users can specify a different set of relative risks, before and after a cut-point of 50 years (the median age of menopause), through the parameters `model_log_relative_risk_before_cutpoint_path` and `model_log_relative_risk_after_cutpoint_path`. The cutpoint is the age at which the relative risks change in the population. This function is also useful when the distribution of risk factors varies with age."
   ],
   "metadata": {
    "collapsed": false
   }
  },
  {
   "cell_type": "code",
   "execution_count": null,
   "outputs": [],
   "source": [
    "! pip install pyicare --quiet"
   ],
   "metadata": {
    "collapsed": false
   }
  },
  {
   "cell_type": "code",
   "execution_count": 3,
   "outputs": [],
   "source": [
    "import pathlib\n",
    "\n",
    "import pandas as pd\n",
    "import requests\n",
    "\n",
    "import icare\n",
    "\n",
    "seed = 1234"
   ],
   "metadata": {
    "collapsed": false,
    "ExecuteTime": {
     "end_time": "2023-05-27T02:33:32.973896Z",
     "start_time": "2023-05-27T02:33:32.969844Z"
    }
   }
  },
  {
   "cell_type": "markdown",
   "source": [
    "To specify a covariate model in iCARE, we need to provide: 1) a text file containing the covariate model formula description using the [Patsy formula language](https://patsy.readthedocs.io/en/latest/formulas.html) (`model_covariate_formula_before_cutpoint_path`), if the model formula changes after the cut-point, you must also provide the other formula at `model_covariate_formula_after_cutpoint_path`; 2) the breast cancer log odds ratios associated with each risk factor in the covariate model (`model_log_relative_risk_before_cutpoint_path`), if the relative risks change after the cut-point, provide them at `model_log_relative_risk_after_cutpoint_path`; 3) a reference dataset describing the distribution of the classical risk factors in the underlying population (`model_reference_dataset_before_cutpoint_path`) if the risk factor distributions change after the cut-point, provide them at `model_reference_dataset_after_cutpoint_path`; 4) a set of profiles, specifying the classical risk factors of individuals for whom, the absolute risk is to be estimated (`apply_covariate_profile_before_cutpoint_path`), if the risk factors for the same individuals are measured after the cut-point, provide them at `apply_covariate_profile_after_cutpoint_path`, 5) the marginal age-specific incidence rates of breast cancer (`model_disease_incidence_rates_path`), and 6) optionally, the age-specific incidence rates of competing risks (`model_competing_incidence_rates_path`). We include them in this example.\n",
    "\n",
    "To specify a SNP model using the special option, we must additionally input files containing: 1) the SNP information (`model_snp_info_path`), that has three columns named `snp_name`, `snp_odds_ratio`, and `snp_freq` corresponding to the SNP name, their odds ratios in association with breast cancer risk, and their minor allele frequencies, respectively, and 2) a set of profiles, specifying the SNPs of individuals (same as those specified in the covariate profile) for whom, the absolute risk is to be estimated (`apply_snp_profile_path`). Since the SNPs in Genome-Wide Association Studies (GWAS) measure germline variants, they cannot vary after the cut-point and therefore iCARE does not provide any option to specify different genetic parameters after the cut-point.\n",
    "\n",
    "The covariate model described in the file specified below is based on a logistic regression model adjusted for cohort and fine categories of age in the Breast and Prostate Cancer Cohort Consortium ([Campa et al. 2011](https://pubmed.ncbi.nlm.nih.gov/21791674/), [Joshi et al. 2014](https://pubmed.ncbi.nlm.nih.gov/25255808/), and [Maas et al. 2016](https://pubmed.ncbi.nlm.nih.gov/27228256/)). The reference dataset was created by simulation from [the National Health Interview Survey (NHIS)](ftp://ftp.cdc.gov/pub/Health_Statistics/NCHS/Dataset_Documentation/NHIS/2010/srvydesc.pdf) and [the National Health and Nutrition Examination Survey (NHANES)](https://wwwn.cdc.gov/nchs/nhanes/default.aspx), which are representative of the US population. `breast_cancer_72_snps_info.csv` contains published information on the odds-ratios and allele frequencies of 72 SNPs identified, among a larger set of markers, to be associated with breast cancer risk by [a recent genome-wide association study](https://www.nature.com/articles/nature24284) (Michailidou et al., 2017). `age_specific_breast_cancer_incidence_rates.csv` contains age-specific incidence rates of breast cancer from [Surveillance, Epidemiology and End Results (SEER) Program](https://seer.cancer.gov/), and `age_specific_all_cause_mortality_rates.csv` has age-specific incidence rates of all-cause mortality from [the CDC WONDER database](https://wonder.cdc.gov/). We indicate `model_family_history_variable_name = \"family_history\"` to allow the software to properly attenuate the log odds ratio for family history to account for the addition of the 72 SNPs."
   ],
   "metadata": {
    "collapsed": false
   }
  },
  {
   "cell_type": "code",
   "execution_count": 4,
   "outputs": [],
   "source": [
    "# Data files URLs\n",
    "github_source = \"https://raw.githubusercontent.com/jeyabbalas/py-icare/master/data/BPC3/\"\n",
    "\n",
    "model_covariate_formula_before_cutpoint_url = github_source + \"breast_cancer_covariate_model_formula.txt\"\n",
    "\n",
    "model_log_relative_risk_before_cutpoint_url = github_source + \"breast_cancer_model_log_odds_ratios.json\"\n",
    "model_log_relative_risk_after_cutpoint_url = github_source + \"breast_cancer_model_log_odds_ratios_post_50.json\"\n",
    "\n",
    "model_reference_dataset_before_cutpoint_url = github_source + \"reference_covariate_data.csv\"\n",
    "model_reference_dataset_after_cutpoint_url = github_source + \"reference_covariate_data_post_50.csv\"\n",
    "\n",
    "apply_covariate_profile_before_cutpoint_url = github_source + \"query_covariate_profile.csv\"\n",
    "model_snp_info_url = github_source + \"breast_cancer_72_snps_info.csv\"\n",
    "apply_snp_profile_url = github_source + \"query_snp_profile.csv\"\n",
    "model_disease_incidence_rates_url = github_source + \"age_specific_breast_cancer_incidence_rates.csv\"\n",
    "model_competing_incidence_rates_url = github_source + \"age_specific_all_cause_mortality_rates.csv\""
   ],
   "metadata": {
    "collapsed": false,
    "ExecuteTime": {
     "end_time": "2023-05-27T02:33:34.290731Z",
     "start_time": "2023-05-27T02:33:34.287051Z"
    }
   }
  },
  {
   "cell_type": "code",
   "execution_count": 5,
   "outputs": [],
   "source": [
    "# Data will be downloaded here\n",
    "data_dir = pathlib.Path(\"data\")\n",
    "data_dir.mkdir(exist_ok=True)\n",
    "\n",
    "model_covariate_formula_before_cutpoint_path = data_dir / \"breast_cancer_covariate_model_formula.txt\"\n",
    "\n",
    "model_log_relative_risk_before_cutpoint_path = data_dir / \"breast_cancer_model_log_odds_ratios.json\"\n",
    "model_log_relative_risk_after_cutpoint_path = data_dir / \"breast_cancer_model_log_odds_ratios_post_50.json\"\n",
    "\n",
    "model_reference_dataset_before_cutpoint_path = data_dir / \"reference_covariate_data.csv\"\n",
    "model_reference_dataset_after_cutpoint_path = data_dir / \"reference_covariate_data_post_50.csv\"\n",
    "\n",
    "apply_covariate_profile_before_cutpoint_path = data_dir / \"query_covariate_profile.csv\"\n",
    "model_snp_info_path = data_dir / \"breast_cancer_72_snps_info.csv\"\n",
    "apply_snp_profile_path = data_dir / \"query_snp_profile.csv\"\n",
    "model_disease_incidence_rates_path = data_dir / \"age_specific_breast_cancer_incidence_rates.csv\"\n",
    "model_competing_incidence_rates_path = data_dir / \"age_specific_all_cause_mortality_rates.csv\""
   ],
   "metadata": {
    "collapsed": false,
    "ExecuteTime": {
     "end_time": "2023-05-27T02:33:35.097226Z",
     "start_time": "2023-05-27T02:33:35.089742Z"
    }
   }
  },
  {
   "cell_type": "code",
   "execution_count": 6,
   "outputs": [
    {
     "name": "stdout",
     "output_type": "stream",
     "text": [
      "Downloading https://raw.githubusercontent.com/jeyabbalas/py-icare/master/data/breast_cancer_covariate_model_formula.txt to data/breast_cancer_covariate_model_formula.txt\n",
      "Downloading https://raw.githubusercontent.com/jeyabbalas/py-icare/master/data/breast_cancer_model_log_odds_ratios.json to data/breast_cancer_model_log_odds_ratios.json\n",
      "Downloading https://raw.githubusercontent.com/jeyabbalas/py-icare/master/data/breast_cancer_model_log_odds_ratios_post_50.json to data/breast_cancer_model_log_odds_ratios_post_50.json\n",
      "Downloading https://raw.githubusercontent.com/jeyabbalas/py-icare/master/data/reference_covariate_data.csv to data/reference_covariate_data.csv\n",
      "Downloading https://raw.githubusercontent.com/jeyabbalas/py-icare/master/data/reference_covariate_data_post_50.csv to data/reference_covariate_data_post_50.csv\n",
      "Downloading https://raw.githubusercontent.com/jeyabbalas/py-icare/master/data/query_covariate_profile.csv to data/query_covariate_profile.csv\n",
      "Downloading https://raw.githubusercontent.com/jeyabbalas/py-icare/master/data/breast_cancer_72_snps_info.csv to data/breast_cancer_72_snps_info.csv\n",
      "Downloading https://raw.githubusercontent.com/jeyabbalas/py-icare/master/data/query_snp_profile.csv to data/query_snp_profile.csv\n",
      "Downloading https://raw.githubusercontent.com/jeyabbalas/py-icare/master/data/age_specific_breast_cancer_incidence_rates.csv to data/age_specific_breast_cancer_incidence_rates.csv\n",
      "Downloading https://raw.githubusercontent.com/jeyabbalas/py-icare/master/data/age_specific_all_cause_mortality_rates.csv to data/age_specific_all_cause_mortality_rates.csv\n"
     ]
    }
   ],
   "source": [
    "# Download the data\n",
    "for url, path in zip(\n",
    "    [\n",
    "        model_covariate_formula_before_cutpoint_url,\n",
    "        model_log_relative_risk_before_cutpoint_url,\n",
    "        model_log_relative_risk_after_cutpoint_url,\n",
    "        model_reference_dataset_before_cutpoint_url,\n",
    "        model_reference_dataset_after_cutpoint_url,\n",
    "        apply_covariate_profile_before_cutpoint_url,\n",
    "        model_snp_info_url,\n",
    "        apply_snp_profile_url,\n",
    "        model_disease_incidence_rates_url,\n",
    "        model_competing_incidence_rates_url,\n",
    "    ],\n",
    "    [\n",
    "        model_covariate_formula_before_cutpoint_path,\n",
    "        model_log_relative_risk_before_cutpoint_path,\n",
    "        model_log_relative_risk_after_cutpoint_path,\n",
    "        model_reference_dataset_before_cutpoint_path,\n",
    "        model_reference_dataset_after_cutpoint_path,\n",
    "        apply_covariate_profile_before_cutpoint_path,\n",
    "        model_snp_info_path,\n",
    "        apply_snp_profile_path,\n",
    "        model_disease_incidence_rates_path,\n",
    "        model_competing_incidence_rates_path,\n",
    "    ],\n",
    "):\n",
    "    print(f\"Downloading {url} to {path}\")\n",
    "    response = requests.get(url)\n",
    "    response.raise_for_status()\n",
    "    with open(path, \"wb\") as f:\n",
    "        f.write(response.content)"
   ],
   "metadata": {
    "collapsed": false,
    "ExecuteTime": {
     "end_time": "2023-05-27T02:33:39.572359Z",
     "start_time": "2023-05-27T02:33:37.717618Z"
    }
   }
  },
  {
   "cell_type": "code",
   "execution_count": 7,
   "outputs": [],
   "source": [
    "results = icare.compute_absolute_risk_split_interval(\n",
    "    apply_age_start=30,\n",
    "    apply_age_interval_length=40,  # 30 + 40 = 70\n",
    "    cutpoint=50,  # age at which the relative risks and risk factor distributions change in the population\n",
    "    model_covariate_formula_before_cutpoint_path=model_covariate_formula_before_cutpoint_path,\n",
    "    model_log_relative_risk_before_cutpoint_path=model_log_relative_risk_before_cutpoint_path,\n",
    "    model_log_relative_risk_after_cutpoint_path=model_log_relative_risk_after_cutpoint_path,\n",
    "    model_reference_dataset_before_cutpoint_path=model_reference_dataset_before_cutpoint_path,\n",
    "    model_reference_dataset_after_cutpoint_path=model_reference_dataset_after_cutpoint_path,\n",
    "    apply_covariate_profile_before_cutpoint_path=apply_covariate_profile_before_cutpoint_path,\n",
    "    model_snp_info_path=model_snp_info_path,\n",
    "    apply_snp_profile_path=apply_snp_profile_path,\n",
    "    model_family_history_variable_name_before_cutpoint=\"family_history\",\n",
    "    model_disease_incidence_rates_path=model_disease_incidence_rates_path,\n",
    "    model_competing_incidence_rates_path=model_competing_incidence_rates_path,\n",
    "    return_reference_risks=True,  # return the absolute risks for the simulated reference population\n",
    "    seed=seed  # set the random seed for reproducibility\n",
    ")"
   ],
   "metadata": {
    "collapsed": false,
    "ExecuteTime": {
     "end_time": "2023-05-27T02:33:41.945513Z",
     "start_time": "2023-05-27T02:33:39.884049Z"
    }
   }
  },
  {
   "cell_type": "markdown",
   "source": [
    "The method returns a dictionary containing the following keys:"
   ],
   "metadata": {
    "collapsed": false
   }
  },
  {
   "cell_type": "code",
   "execution_count": 8,
   "outputs": [
    {
     "data": {
      "text/plain": "dict_keys(['model', 'profile', 'reference_risks', 'method'])"
     },
     "execution_count": 8,
     "metadata": {},
     "output_type": "execute_result"
    }
   ],
   "source": [
    "results.keys()"
   ],
   "metadata": {
    "collapsed": false,
    "ExecuteTime": {
     "end_time": "2023-05-27T02:33:41.957035Z",
     "start_time": "2023-05-27T02:33:41.950050Z"
    }
   }
  },
  {
   "cell_type": "markdown",
   "source": [
    "The `method` key contains the name of the iCARE method used:"
   ],
   "metadata": {
    "collapsed": false
   }
  },
  {
   "cell_type": "code",
   "execution_count": 9,
   "outputs": [
    {
     "name": "stdout",
     "output_type": "stream",
     "text": [
      "iCARE method used: iCARE - absolute risk with split intervals\n"
     ]
    }
   ],
   "source": [
    "print(f\"iCARE method used: {results['method']}\")"
   ],
   "metadata": {
    "collapsed": false,
    "ExecuteTime": {
     "end_time": "2023-05-27T02:33:41.960748Z",
     "start_time": "2023-05-27T02:33:41.957358Z"
    }
   }
  },
  {
   "cell_type": "markdown",
   "source": [
    "The `model` key contains the absolute risk model parameters, i.e., the log odds-ratios for each classical risk factor and SNP in association with breast cancer risk. The model parameters are returned as two dictionaries with keys: `before_cutpoint` and `after_cutpoint`. The `before_cutpoint` key contains the model parameters for the age interval before the cut-point, and the `after_cutpoint` key contains the model parameters for the age interval after the cut-point."
   ],
   "metadata": {
    "collapsed": false
   }
  },
  {
   "cell_type": "code",
   "execution_count": 10,
   "outputs": [
    {
     "data": {
      "text/plain": "C(age_at_menarche, levels=['<=11', '11-11.5', '11.5-12', '12-13', '13-14', '14-15', '>=15'])[T.11-11.5]    0.044431\nC(age_at_menarche, levels=['<=11', '11-11.5', '11.5-12', '12-13', '13-14', '14-15', '>=15'])[T.11.5-12]   -0.035407\nC(age_at_menarche, levels=['<=11', '11-11.5', '11.5-12', '12-13', '13-14', '14-15', '>=15'])[T.12-13]     -0.086565\nC(age_at_menarche, levels=['<=11', '11-11.5', '11.5-12', '12-13', '13-14', '14-15', '>=15'])[T.13-14]     -0.109902\nC(age_at_menarche, levels=['<=11', '11-11.5', '11.5-12', '12-13', '13-14', '14-15', '>=15'])[T.14-15]     -0.085482\n                                                                                                             ...   \nrs2284378                                                                                                  0.000000\nrs2823093                                                                                                 -0.061875\nrs17879961                                                                                                 0.231112\nrs132390                                                                                                   0.039221\nrs6001930                                                                                                  0.113329\nLength: 149, dtype: float64"
     },
     "execution_count": 10,
     "metadata": {},
     "output_type": "execute_result"
    }
   ],
   "source": [
    "model_before_cutpoint = pd.Series(results[\"model\"][\"before_cutpoint\"])\n",
    "model_before_cutpoint"
   ],
   "metadata": {
    "collapsed": false,
    "ExecuteTime": {
     "end_time": "2023-05-27T02:33:42.292239Z",
     "start_time": "2023-05-27T02:33:42.290057Z"
    }
   }
  },
  {
   "cell_type": "code",
   "execution_count": 11,
   "outputs": [
    {
     "data": {
      "text/plain": "C(age_at_menarche, levels=['<=11', '11-11.5', '11.5-12', '12-13', '13-14', '14-15', '>=15'])[T.11-11.5]    0.058212\nC(age_at_menarche, levels=['<=11', '11-11.5', '11.5-12', '12-13', '13-14', '14-15', '>=15'])[T.11.5-12]   -0.031099\nC(age_at_menarche, levels=['<=11', '11-11.5', '11.5-12', '12-13', '13-14', '14-15', '>=15'])[T.12-13]     -0.089280\nC(age_at_menarche, levels=['<=11', '11-11.5', '11.5-12', '12-13', '13-14', '14-15', '>=15'])[T.13-14]     -0.102347\nC(age_at_menarche, levels=['<=11', '11-11.5', '11.5-12', '12-13', '13-14', '14-15', '>=15'])[T.14-15]     -0.076935\n                                                                                                             ...   \nrs2284378                                                                                                  0.000000\nrs2823093                                                                                                 -0.061875\nrs17879961                                                                                                 0.231112\nrs132390                                                                                                   0.039221\nrs6001930                                                                                                  0.113329\nLength: 149, dtype: float64"
     },
     "execution_count": 11,
     "metadata": {},
     "output_type": "execute_result"
    }
   ],
   "source": [
    "model_after_cutpoint = pd.Series(results[\"model\"][\"after_cutpoint\"])\n",
    "model_after_cutpoint"
   ],
   "metadata": {
    "collapsed": false,
    "ExecuteTime": {
     "end_time": "2023-05-27T02:33:42.794115Z",
     "start_time": "2023-05-27T02:33:42.791358Z"
    }
   }
  },
  {
   "cell_type": "markdown",
   "source": [
    "The `profile` key contains the classical risk factors, genetic risk factors, and the estimated absolute risk for each queried profile:"
   ],
   "metadata": {
    "collapsed": false
   }
  },
  {
   "cell_type": "code",
   "execution_count": 12,
   "outputs": [
    {
     "data": {
      "text/plain": "      age_interval_start  cutpoint  age_interval_end  age_interval_length  \\\nid                                                                          \nQ-01                  30        50                70                   40   \nQ-02                  30        50                70                   40   \nQ-03                  30        50                70                   40   \n\n      risk_estimates  family_history age_at_menarche  parity  \\\nid                                                             \nQ-01        0.084664               0           13-14       0   \nQ-02        0.072487               0            >=15       0   \nQ-03        0.144239               0            <=11       0   \n\n     age_at_first_child_birth age_at_menopause  ... rs527616 rs1436904  \\\nid                                              ...                      \nQ-01                    19-22            40-45  ...        0         0   \nQ-02                    19-22             <=40  ...        0         0   \nQ-03                     <=19            51-52  ...        1         1   \n\n      rs6507583  rs4808801  rs3760982  rs2284378 rs2823093 rs17879961  \\\nid                                                                      \nQ-01          0          1          0          1         1          0   \nQ-02          0          1          1          1         0          0   \nQ-03          0          1          1          0         0          0   \n\n      rs132390  rs6001930  \nid                         \nQ-01         0          0  \nQ-02         0          0  \nQ-03         0          0  \n\n[3 rows x 90 columns]",
      "text/html": "<div>\n<style scoped>\n    .dataframe tbody tr th:only-of-type {\n        vertical-align: middle;\n    }\n\n    .dataframe tbody tr th {\n        vertical-align: top;\n    }\n\n    .dataframe thead th {\n        text-align: right;\n    }\n</style>\n<table border=\"1\" class=\"dataframe\">\n  <thead>\n    <tr style=\"text-align: right;\">\n      <th></th>\n      <th>age_interval_start</th>\n      <th>cutpoint</th>\n      <th>age_interval_end</th>\n      <th>age_interval_length</th>\n      <th>risk_estimates</th>\n      <th>family_history</th>\n      <th>age_at_menarche</th>\n      <th>parity</th>\n      <th>age_at_first_child_birth</th>\n      <th>age_at_menopause</th>\n      <th>...</th>\n      <th>rs527616</th>\n      <th>rs1436904</th>\n      <th>rs6507583</th>\n      <th>rs4808801</th>\n      <th>rs3760982</th>\n      <th>rs2284378</th>\n      <th>rs2823093</th>\n      <th>rs17879961</th>\n      <th>rs132390</th>\n      <th>rs6001930</th>\n    </tr>\n    <tr>\n      <th>id</th>\n      <th></th>\n      <th></th>\n      <th></th>\n      <th></th>\n      <th></th>\n      <th></th>\n      <th></th>\n      <th></th>\n      <th></th>\n      <th></th>\n      <th></th>\n      <th></th>\n      <th></th>\n      <th></th>\n      <th></th>\n      <th></th>\n      <th></th>\n      <th></th>\n      <th></th>\n      <th></th>\n      <th></th>\n    </tr>\n  </thead>\n  <tbody>\n    <tr>\n      <th>Q-01</th>\n      <td>30</td>\n      <td>50</td>\n      <td>70</td>\n      <td>40</td>\n      <td>0.084664</td>\n      <td>0</td>\n      <td>13-14</td>\n      <td>0</td>\n      <td>19-22</td>\n      <td>40-45</td>\n      <td>...</td>\n      <td>0</td>\n      <td>0</td>\n      <td>0</td>\n      <td>1</td>\n      <td>0</td>\n      <td>1</td>\n      <td>1</td>\n      <td>0</td>\n      <td>0</td>\n      <td>0</td>\n    </tr>\n    <tr>\n      <th>Q-02</th>\n      <td>30</td>\n      <td>50</td>\n      <td>70</td>\n      <td>40</td>\n      <td>0.072487</td>\n      <td>0</td>\n      <td>&gt;=15</td>\n      <td>0</td>\n      <td>19-22</td>\n      <td>&lt;=40</td>\n      <td>...</td>\n      <td>0</td>\n      <td>0</td>\n      <td>0</td>\n      <td>1</td>\n      <td>1</td>\n      <td>1</td>\n      <td>0</td>\n      <td>0</td>\n      <td>0</td>\n      <td>0</td>\n    </tr>\n    <tr>\n      <th>Q-03</th>\n      <td>30</td>\n      <td>50</td>\n      <td>70</td>\n      <td>40</td>\n      <td>0.144239</td>\n      <td>0</td>\n      <td>&lt;=11</td>\n      <td>0</td>\n      <td>&lt;=19</td>\n      <td>51-52</td>\n      <td>...</td>\n      <td>1</td>\n      <td>1</td>\n      <td>0</td>\n      <td>1</td>\n      <td>1</td>\n      <td>0</td>\n      <td>0</td>\n      <td>0</td>\n      <td>0</td>\n      <td>0</td>\n    </tr>\n  </tbody>\n</table>\n<p>3 rows × 90 columns</p>\n</div>"
     },
     "execution_count": 12,
     "metadata": {},
     "output_type": "execute_result"
    }
   ],
   "source": [
    "profiles = pd.read_json(results[\"profile\"], orient=\"records\")\n",
    "profiles.set_index(\"id\", inplace=True)\n",
    "profiles"
   ],
   "metadata": {
    "collapsed": false,
    "ExecuteTime": {
     "end_time": "2023-05-27T02:33:43.682895Z",
     "start_time": "2023-05-27T02:33:43.680600Z"
    }
   }
  },
  {
   "cell_type": "markdown",
   "source": [
    "The `reference_risks` key contains the absolute risks of the reference population. The population estimated risks are stored in the `reference_risks` key. They are returned as two dictionaries with keys: `before_cutpoint` and `after_cutpoint`. The `before_cutpoint` key contains the population estimated risks for the age interval before the cut-point, and the `after_cutpoint` key contains the population estimated risks for the age interval after the cut-point. Each contain a list of dictionaries, one per unique combination of age intervals. Since, we calculated the risks for the interval from age 30 to 70 for all individuals, there is only one dictionary in the list:"
   ],
   "metadata": {
    "collapsed": false
   }
  },
  {
   "cell_type": "code",
   "execution_count": 13,
   "outputs": [
    {
     "data": {
      "text/plain": "                  0\ncount  14137.000000\nmean       0.020451\nstd        0.007284\nmin        0.006762\n25%        0.015299\n50%        0.019009\n75%        0.024018\nmax        0.072834",
      "text/html": "<div>\n<style scoped>\n    .dataframe tbody tr th:only-of-type {\n        vertical-align: middle;\n    }\n\n    .dataframe tbody tr th {\n        vertical-align: top;\n    }\n\n    .dataframe thead th {\n        text-align: right;\n    }\n</style>\n<table border=\"1\" class=\"dataframe\">\n  <thead>\n    <tr style=\"text-align: right;\">\n      <th></th>\n      <th>0</th>\n    </tr>\n  </thead>\n  <tbody>\n    <tr>\n      <th>count</th>\n      <td>14137.000000</td>\n    </tr>\n    <tr>\n      <th>mean</th>\n      <td>0.020451</td>\n    </tr>\n    <tr>\n      <th>std</th>\n      <td>0.007284</td>\n    </tr>\n    <tr>\n      <th>min</th>\n      <td>0.006762</td>\n    </tr>\n    <tr>\n      <th>25%</th>\n      <td>0.015299</td>\n    </tr>\n    <tr>\n      <th>50%</th>\n      <td>0.019009</td>\n    </tr>\n    <tr>\n      <th>75%</th>\n      <td>0.024018</td>\n    </tr>\n    <tr>\n      <th>max</th>\n      <td>0.072834</td>\n    </tr>\n  </tbody>\n</table>\n</div>"
     },
     "execution_count": 13,
     "metadata": {},
     "output_type": "execute_result"
    }
   ],
   "source": [
    "pd.DataFrame(results[\"reference_risks\"][\"before_cutpoint\"][0][\"population_risks\"]).describe()"
   ],
   "metadata": {
    "collapsed": false,
    "ExecuteTime": {
     "end_time": "2023-05-27T02:33:44.719460Z",
     "start_time": "2023-05-27T02:33:44.711628Z"
    }
   }
  },
  {
   "cell_type": "code",
   "execution_count": 14,
   "outputs": [
    {
     "data": {
      "text/plain": "                  0\ncount  14137.000000\nmean       0.062535\nstd        0.022099\nmin        0.020545\n25%        0.046786\n50%        0.057957\n75%        0.073748\nmax        0.206095",
      "text/html": "<div>\n<style scoped>\n    .dataframe tbody tr th:only-of-type {\n        vertical-align: middle;\n    }\n\n    .dataframe tbody tr th {\n        vertical-align: top;\n    }\n\n    .dataframe thead th {\n        text-align: right;\n    }\n</style>\n<table border=\"1\" class=\"dataframe\">\n  <thead>\n    <tr style=\"text-align: right;\">\n      <th></th>\n      <th>0</th>\n    </tr>\n  </thead>\n  <tbody>\n    <tr>\n      <th>count</th>\n      <td>14137.000000</td>\n    </tr>\n    <tr>\n      <th>mean</th>\n      <td>0.062535</td>\n    </tr>\n    <tr>\n      <th>std</th>\n      <td>0.022099</td>\n    </tr>\n    <tr>\n      <th>min</th>\n      <td>0.020545</td>\n    </tr>\n    <tr>\n      <th>25%</th>\n      <td>0.046786</td>\n    </tr>\n    <tr>\n      <th>50%</th>\n      <td>0.057957</td>\n    </tr>\n    <tr>\n      <th>75%</th>\n      <td>0.073748</td>\n    </tr>\n    <tr>\n      <th>max</th>\n      <td>0.206095</td>\n    </tr>\n  </tbody>\n</table>\n</div>"
     },
     "execution_count": 14,
     "metadata": {},
     "output_type": "execute_result"
    }
   ],
   "source": [
    "pd.DataFrame(results[\"reference_risks\"][\"after_cutpoint\"][0][\"population_risks\"]).describe()"
   ],
   "metadata": {
    "collapsed": false,
    "ExecuteTime": {
     "end_time": "2023-05-27T02:33:45.990150Z",
     "start_time": "2023-05-27T02:33:45.976846Z"
    }
   }
  },
  {
   "cell_type": "markdown",
   "source": [
    "Note that, unlike the other example notebooks, the example in this notebook specifies two different reference population datasets composed of completely different sets of individuals. So, they cannot be merged into a single distribution. Therefore, in this example, while they helped with calculating the absolute risks, we cannot compare the estimated profile risks with the population risks. We have no combined risk estimates for the whole population."
   ],
   "metadata": {
    "collapsed": false
   }
  }
 ],
 "metadata": {
  "kernelspec": {
   "display_name": "Python 3",
   "language": "python",
   "name": "python3"
  },
  "language_info": {
   "codemirror_mode": {
    "name": "ipython",
    "version": 2
   },
   "file_extension": ".py",
   "mimetype": "text/x-python",
   "name": "python",
   "nbconvert_exporter": "python",
   "pygments_lexer": "ipython2",
   "version": "2.7.6"
  }
 },
 "nbformat": 4,
 "nbformat_minor": 0
}
