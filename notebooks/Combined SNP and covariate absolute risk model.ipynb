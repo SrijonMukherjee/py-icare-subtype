{
 "cells": [
  {
   "cell_type": "markdown",
   "source": [
    "# Combined SNP and covariate absolute risk model\n",
    "\n",
    "In this example, we demonstrate the use of iCARE to build models of absolute risk containing both classical risk factors and SNPs. Here, we assume that we have a reference dataset to represent the distribution of the classical risk factors in the underlying population. However, we do not have a reference dataset for the SNPs. So, we make use of iCARE's special SNP option to simulate the reference dataset to represent the distribution of SNPs in the underlying population."
   ],
   "metadata": {
    "collapsed": false
   }
  },
  {
   "cell_type": "code",
   "execution_count": 1,
   "outputs": [],
   "source": [
    "import pandas as pd\n",
    "import matplotlib.pyplot as plt\n",
    "import seaborn as sns\n",
    "\n",
    "import icare\n",
    "\n",
    "\n",
    "# Set the plot background to white\n",
    "sns.set(style=\"whitegrid\", rc={\"axes.facecolor\": \"white\", \"grid.color\": \"white\"})"
   ],
   "metadata": {
    "collapsed": false,
    "ExecuteTime": {
     "start_time": "2023-04-23T11:24:12.374706Z",
     "end_time": "2023-04-23T11:24:12.393469Z"
    }
   }
  },
  {
   "cell_type": "markdown",
   "source": [
    "To specify a covariate model in iCARE, we need to provide: 1) a text file containing the formula (using [the Patsy formula language](https://patsy.readthedocs.io/en/latest/formulas.html)) to describe the covariate model (`model_covariate_formula_path`), 2) breast cancer log odds ratios associated with each risk factor in the covariate model (`model_log_relative_risk_path`), 3) a reference dataset describing the distribution of the classical risk factors in the underlying population (`model_reference_dataset_path`), 4) a set of profiles, specifying the classical risk factors, using which the absolute risk is to be estimated, and 5) the marginal age-specific incidence rates of breast cancer (`model_competing_incidence_rates_path`).\n",
    "\n",
    "To specify a SNP-only model using the special option, we must input the file containing the marginal age-specific incidence rates of breast cancer (`model_competing_incidence_rates_path`), and the SNP information (`model_snp_info_path`), that has three columns named: (`snp_name`, `snp_odds_ratio`, and `snp_freq` corresponding to the SNP name, their odds ratios in association with breast cancer risk, and their minor allele frequencies, respectively). Marginal age-specific incidence rates of competing risks (`model_competing_incidence_rates_path`) are optional. We include them in this example.\n",
    "\n",
    "The covariate model described in the files in the following cell is based on a logistic regression model adjusted for cohort and fine categories of age  in the Breast and Prostate Cancer Cohort Consortium ([Campa et al. 2011](https://pubmed.ncbi.nlm.nih.gov/21791674/), [Joshi et al. 2014](https://pubmed.ncbi.nlm.nih.gov/25255808/), and [Maas et al. 2016](https://pubmed.ncbi.nlm.nih.gov/27228256/)). The reference dataset was created by simulation from [the National Health Interview Survey (NHIS)](ftp://ftp.cdc.gov/pub/Health_Statistics/NCHS/Dataset_Documentation/NHIS/2010/srvydesc.pdf) and [the National Health and Nutrition Examination Survey (NHANES)](https://wwwn.cdc.gov/nchs/nhanes/default.aspx), which are representative of the US population. `breast_cancer_72_snps_info.csv` contains published information on the odds-ratios and allele frequencies of 72 SNPs identified, among a larger set of markers, to be associated with breast cancer risk by [a recent genome-wide association study](https://www.nature.com/articles/nature24284) (Michailidou et al., 2017). `age_specific_breast_cancer_incidence_rates.csv` contains age-specific incidence rates of breast cancer from [Surveillance, Epidemiology and End Results (SEER) Program](https://seer.cancer.gov/), and `age_specific_all_cause_mortality_rates.csv` has age-specific incidence rates of all-cause mortality from [the CDC WONDER database](https://wonder.cdc.gov/). We indicate `model_family_history_variable_name = \"family_history\"` to allow the software to properly attenuate the log odds ratio for family history to account for the addition of the 72 SNPs."
   ],
   "metadata": {
    "collapsed": false
   }
  },
  {
   "cell_type": "code",
   "execution_count": 2,
   "outputs": [],
   "source": [
    "apply_age_start = 50\n",
    "apply_age_interval_length = 30\n",
    "model_covariate_formula_path = \"../data/breast_cancer_covariate_model_formula.txt\"\n",
    "model_log_relative_risk_path = \"../data/breast_cancer_model_log_odds_ratios.json\"\n",
    "model_reference_dataset_path = \"../data/reference_covariate_data.csv\"\n",
    "apply_covariate_profile_path = \"../data/query_covariate_profile.csv\"\n",
    "model_snp_info_path = \"../data/breast_cancer_72_snps_info.csv\"\n",
    "apply_snp_profile_path = \"../data/query_snp_profile.csv\"\n",
    "model_family_history_variable_name = \"family_history\"\n",
    "model_disease_incidence_rates_path = \"../data/age_specific_breast_cancer_incidence_rates.csv\"\n",
    "model_competing_incidence_rates_path = \"../data/age_specific_all_cause_mortality_rates.csv\""
   ],
   "metadata": {
    "collapsed": false,
    "ExecuteTime": {
     "start_time": "2023-04-23T11:24:13.202974Z",
     "end_time": "2023-04-23T11:24:13.207260Z"
    }
   }
  },
  {
   "cell_type": "code",
   "execution_count": 3,
   "outputs": [],
   "source": [
    "results = icare.compute_absolute_risk(\n",
    "    apply_age_start=apply_age_start,\n",
    "    apply_age_interval_length=apply_age_interval_length,\n",
    "    model_covariate_formula_path=model_covariate_formula_path,\n",
    "    model_log_relative_risk_path=model_log_relative_risk_path,\n",
    "    model_reference_dataset_path=model_reference_dataset_path,\n",
    "    apply_covariate_profile_path=apply_covariate_profile_path,\n",
    "    model_snp_info_path=model_snp_info_path,\n",
    "    apply_snp_profile_path=apply_snp_profile_path,\n",
    "    model_family_history_variable_name=model_family_history_variable_name,\n",
    "    model_disease_incidence_rates_path=model_disease_incidence_rates_path,\n",
    "    model_competing_incidence_rates_path=model_competing_incidence_rates_path,\n",
    "    return_reference_risks=True\n",
    ")"
   ],
   "metadata": {
    "collapsed": false,
    "ExecuteTime": {
     "start_time": "2023-04-23T11:24:13.633853Z",
     "end_time": "2023-04-23T11:24:14.643444Z"
    }
   }
  },
  {
   "cell_type": "markdown",
   "source": [
    "The method returns a dictionary containing the following keys:"
   ],
   "metadata": {
    "collapsed": false
   }
  },
  {
   "cell_type": "code",
   "execution_count": 4,
   "outputs": [
    {
     "data": {
      "text/plain": "dict_keys(['model', 'profile', 'reference_risks'])"
     },
     "execution_count": 4,
     "metadata": {},
     "output_type": "execute_result"
    }
   ],
   "source": [
    "results.keys()"
   ],
   "metadata": {
    "collapsed": false,
    "ExecuteTime": {
     "start_time": "2023-04-23T11:24:14.648358Z",
     "end_time": "2023-04-23T11:24:14.654925Z"
    }
   }
  },
  {
   "cell_type": "markdown",
   "source": [
    "The `model` key contains the absolute risk model parameters, i.e., the log odds-ratios for each classical risk factor and SNP in association with breast cancer risk:"
   ],
   "metadata": {
    "collapsed": false
   }
  },
  {
   "cell_type": "code",
   "execution_count": 5,
   "outputs": [
    {
     "data": {
      "text/plain": "C(age_at_menarche, levels=['<=11', '11-11.5', '11.5-12', '12-13', '13-14', '14-15', '>=15'])[T.11-11.5]    0.044431\nC(age_at_menarche, levels=['<=11', '11-11.5', '11.5-12', '12-13', '13-14', '14-15', '>=15'])[T.11.5-12]   -0.035407\nC(age_at_menarche, levels=['<=11', '11-11.5', '11.5-12', '12-13', '13-14', '14-15', '>=15'])[T.12-13]     -0.086565\nC(age_at_menarche, levels=['<=11', '11-11.5', '11.5-12', '12-13', '13-14', '14-15', '>=15'])[T.13-14]     -0.109902\nC(age_at_menarche, levels=['<=11', '11-11.5', '11.5-12', '12-13', '13-14', '14-15', '>=15'])[T.14-15]     -0.085482\n                                                                                                             ...   \nrs2284378                                                                                                  0.000000\nrs2823093                                                                                                 -0.061875\nrs17879961                                                                                                 0.231112\nrs132390                                                                                                   0.039221\nrs6001930                                                                                                  0.113329\nLength: 149, dtype: float64"
     },
     "execution_count": 5,
     "metadata": {},
     "output_type": "execute_result"
    }
   ],
   "source": [
    "model = pd.Series(results[\"model\"])\n",
    "model"
   ],
   "metadata": {
    "collapsed": false,
    "ExecuteTime": {
     "start_time": "2023-04-23T11:24:15.520903Z",
     "end_time": "2023-04-23T11:24:15.523548Z"
    }
   }
  },
  {
   "cell_type": "markdown",
   "source": [
    "The `profile` key contains the classical risk factors, genetic risk factors, and the estimated absolute risk for each queried profile:"
   ],
   "metadata": {
    "collapsed": false
   }
  },
  {
   "cell_type": "code",
   "execution_count": 6,
   "outputs": [
    {
     "data": {
      "text/plain": "     id  age_interval_start  age_interval_end  risk_estimates  family_history  \\\n0  Q-01                  50                80        0.102718               0   \n1  Q-02                  50                80        0.089801               0   \n2  Q-03                  50                80        0.168961               0   \n\n  age_at_menarche  parity age_at_first_child_birth age_at_menopause  \\\n0           13-14       0                    19-22            40-45   \n1            >=15       0                    19-22             <=40   \n2            <=11       0                     <=19            51-52   \n\n      height  ... rs527616  rs1436904  rs6507583  rs4808801  rs3760982  \\\n0  1.63-1.65  ...        0          0          0          1          0   \n1  1.63-1.65  ...        0          0          0          1          1   \n2     <=1.55  ...        1          1          0          1          1   \n\n  rs2284378 rs2823093  rs17879961  rs132390  rs6001930  \n0         1         1           0         0          0  \n1         1         0           0         0          0  \n2         0         0           0         0          0  \n\n[3 rows x 89 columns]",
      "text/html": "<div>\n<style scoped>\n    .dataframe tbody tr th:only-of-type {\n        vertical-align: middle;\n    }\n\n    .dataframe tbody tr th {\n        vertical-align: top;\n    }\n\n    .dataframe thead th {\n        text-align: right;\n    }\n</style>\n<table border=\"1\" class=\"dataframe\">\n  <thead>\n    <tr style=\"text-align: right;\">\n      <th></th>\n      <th>id</th>\n      <th>age_interval_start</th>\n      <th>age_interval_end</th>\n      <th>risk_estimates</th>\n      <th>family_history</th>\n      <th>age_at_menarche</th>\n      <th>parity</th>\n      <th>age_at_first_child_birth</th>\n      <th>age_at_menopause</th>\n      <th>height</th>\n      <th>...</th>\n      <th>rs527616</th>\n      <th>rs1436904</th>\n      <th>rs6507583</th>\n      <th>rs4808801</th>\n      <th>rs3760982</th>\n      <th>rs2284378</th>\n      <th>rs2823093</th>\n      <th>rs17879961</th>\n      <th>rs132390</th>\n      <th>rs6001930</th>\n    </tr>\n  </thead>\n  <tbody>\n    <tr>\n      <th>0</th>\n      <td>Q-01</td>\n      <td>50</td>\n      <td>80</td>\n      <td>0.102718</td>\n      <td>0</td>\n      <td>13-14</td>\n      <td>0</td>\n      <td>19-22</td>\n      <td>40-45</td>\n      <td>1.63-1.65</td>\n      <td>...</td>\n      <td>0</td>\n      <td>0</td>\n      <td>0</td>\n      <td>1</td>\n      <td>0</td>\n      <td>1</td>\n      <td>1</td>\n      <td>0</td>\n      <td>0</td>\n      <td>0</td>\n    </tr>\n    <tr>\n      <th>1</th>\n      <td>Q-02</td>\n      <td>50</td>\n      <td>80</td>\n      <td>0.089801</td>\n      <td>0</td>\n      <td>&gt;=15</td>\n      <td>0</td>\n      <td>19-22</td>\n      <td>&lt;=40</td>\n      <td>1.63-1.65</td>\n      <td>...</td>\n      <td>0</td>\n      <td>0</td>\n      <td>0</td>\n      <td>1</td>\n      <td>1</td>\n      <td>1</td>\n      <td>0</td>\n      <td>0</td>\n      <td>0</td>\n      <td>0</td>\n    </tr>\n    <tr>\n      <th>2</th>\n      <td>Q-03</td>\n      <td>50</td>\n      <td>80</td>\n      <td>0.168961</td>\n      <td>0</td>\n      <td>&lt;=11</td>\n      <td>0</td>\n      <td>&lt;=19</td>\n      <td>51-52</td>\n      <td>&lt;=1.55</td>\n      <td>...</td>\n      <td>1</td>\n      <td>1</td>\n      <td>0</td>\n      <td>1</td>\n      <td>1</td>\n      <td>0</td>\n      <td>0</td>\n      <td>0</td>\n      <td>0</td>\n      <td>0</td>\n    </tr>\n  </tbody>\n</table>\n<p>3 rows × 89 columns</p>\n</div>"
     },
     "execution_count": 6,
     "metadata": {},
     "output_type": "execute_result"
    }
   ],
   "source": [
    "profiles = pd.read_json(results[\"profile\"], orient=\"records\")\n",
    "profiles"
   ],
   "metadata": {
    "collapsed": false,
    "ExecuteTime": {
     "start_time": "2023-04-23T11:24:16.568898Z",
     "end_time": "2023-04-23T11:24:16.578890Z"
    }
   }
  },
  {
   "cell_type": "markdown",
   "source": [
    "The `reference_risks` key contains the absolute risks of the reference population:"
   ],
   "metadata": {
    "collapsed": false
   }
  },
  {
   "cell_type": "code",
   "execution_count": 7,
   "outputs": [],
   "source": [
    "reference_risks = results[\"reference_risks\"]"
   ],
   "metadata": {
    "collapsed": false,
    "ExecuteTime": {
     "start_time": "2023-04-23T11:24:17.784995Z",
     "end_time": "2023-04-23T11:24:17.788430Z"
    }
   }
  },
  {
   "cell_type": "markdown",
   "source": [
    "The summary statistics of the absolute risks of the reference population are:"
   ],
   "metadata": {
    "collapsed": false
   }
  },
  {
   "cell_type": "code",
   "execution_count": 8,
   "outputs": [
    {
     "data": {
      "text/plain": "                  0\ncount  14137.000000\nmean       0.096226\nstd        0.032265\nmin        0.030400\n25%        0.073220\n50%        0.090170\n75%        0.112916\nmax        0.301991",
      "text/html": "<div>\n<style scoped>\n    .dataframe tbody tr th:only-of-type {\n        vertical-align: middle;\n    }\n\n    .dataframe tbody tr th {\n        vertical-align: top;\n    }\n\n    .dataframe thead th {\n        text-align: right;\n    }\n</style>\n<table border=\"1\" class=\"dataframe\">\n  <thead>\n    <tr style=\"text-align: right;\">\n      <th></th>\n      <th>0</th>\n    </tr>\n  </thead>\n  <tbody>\n    <tr>\n      <th>count</th>\n      <td>14137.000000</td>\n    </tr>\n    <tr>\n      <th>mean</th>\n      <td>0.096226</td>\n    </tr>\n    <tr>\n      <th>std</th>\n      <td>0.032265</td>\n    </tr>\n    <tr>\n      <th>min</th>\n      <td>0.030400</td>\n    </tr>\n    <tr>\n      <th>25%</th>\n      <td>0.073220</td>\n    </tr>\n    <tr>\n      <th>50%</th>\n      <td>0.090170</td>\n    </tr>\n    <tr>\n      <th>75%</th>\n      <td>0.112916</td>\n    </tr>\n    <tr>\n      <th>max</th>\n      <td>0.301991</td>\n    </tr>\n  </tbody>\n</table>\n</div>"
     },
     "execution_count": 8,
     "metadata": {},
     "output_type": "execute_result"
    }
   ],
   "source": [
    "pd.DataFrame(reference_risks[0][\"population_risks\"]).describe()"
   ],
   "metadata": {
    "collapsed": false,
    "ExecuteTime": {
     "start_time": "2023-04-23T11:24:19.142999Z",
     "end_time": "2023-04-23T11:24:19.151947Z"
    }
   }
  },
  {
   "cell_type": "markdown",
   "source": [
    "We can plot the absolute risks of the reference population and the queried profiles:"
   ],
   "metadata": {
    "collapsed": false
   }
  },
  {
   "cell_type": "code",
   "execution_count": 9,
   "metadata": {
    "collapsed": true,
    "ExecuteTime": {
     "start_time": "2023-04-23T11:24:20.778352Z",
     "end_time": "2023-04-23T11:24:20.987642Z"
    }
   },
   "outputs": [
    {
     "data": {
      "text/plain": "<Figure size 640x480 with 1 Axes>",
      "image/png": "[encoded data removed]"
     },
     "metadata": {},
     "output_type": "display_data"
    }
   ],
   "source": [
    "# Plot the density plot\n",
    "sns.kdeplot(reference_risks[0][\"population_risks\"], bw_adjust=0.5, color=\"black\", fill=True, alpha=0.3, linewidth=1.5, facecolor=\"lightblue\")\n",
    "plt.xlim(0.02, 0.22)\n",
    "plt.xlabel(\"Absolute risk of breast cancer\")\n",
    "plt.title(\"Referent SNP-only risk distribution: ages 50-80 years\")\n",
    "\n",
    "# Add a vertical red line, one for each queried profile\n",
    "for risk_value in profiles[\"risk_estimates\"]:\n",
    "    plt.axvline(risk_value, color=\"red\")\n",
    "\n",
    "plt.legend([\"Queried profiles\"], loc=\"upper right\")\n",
    "\n",
    "plt.show()"
   ]
  }
 ],
 "metadata": {
  "kernelspec": {
   "display_name": "Python 3",
   "language": "python",
   "name": "python3"
  },
  "language_info": {
   "codemirror_mode": {
    "name": "ipython",
    "version": 2
   },
   "file_extension": ".py",
   "mimetype": "text/x-python",
   "name": "python",
   "nbconvert_exporter": "python",
   "pygments_lexer": "ipython2",
   "version": "2.7.6"
  }
 },
 "nbformat": 4,
 "nbformat_minor": 0
}
