{
 "cells": [
  {
   "cell_type": "markdown",
   "source": [
    "# Combined SNP and covariate absolute risk model\n",
    "\n",
    "In this example, we demonstrate the use of iCARE to build and apply models of absolute risk of breast cancer containing both classical risk factors and SNPs. Here, we assume that we have a reference dataset to represent the distribution of the classical risk factors in the underlying population. However, we do not have a reference dataset for the SNPs. So, we make use of iCARE's special SNP option to simulate the reference dataset to represent the distribution of SNPs in the underlying population. If you have a reference dataset for the SNPs as well, you can use the covariate-only option instead because it makes fewer assumptions about the underlying population risk factor distribution."
   ],
   "metadata": {
    "collapsed": false
   }
  },
  {
   "cell_type": "code",
   "execution_count": 1,
   "outputs": [],
   "source": [
    "import pathlib\n",
    "\n",
    "import pandas as pd\n",
    "import matplotlib.pyplot as plt\n",
    "import requests\n",
    "import seaborn as sns\n",
    "\n",
    "import icare\n",
    "\n",
    "\n",
    "# Set the plot background to white\n",
    "sns.set(style=\"whitegrid\", rc={\"axes.facecolor\": \"white\", \"grid.color\": \"white\"})\n",
    "seed = 1234"
   ],
   "metadata": {
    "collapsed": false,
    "ExecuteTime": {
     "end_time": "2023-05-24T01:52:44.203308Z",
     "start_time": "2023-05-24T01:52:44.144634Z"
    }
   }
  },
  {
   "cell_type": "markdown",
   "source": [
    "To specify a covariate model in iCARE, we need to provide: 1) a text file containing the covariate model formula description using the [Patsy formula language](https://patsy.readthedocs.io/en/latest/formulas.html) (`model_covariate_formula_path`), 2) the breast cancer log odds ratios associated with each risk factor in the covariate model (`model_log_relative_risk_path`), 3) a reference dataset describing the distribution of the classical risk factors in the underlying population (`model_reference_dataset_path`), 4) a set of profiles, specifying the classical risk factors of individuals for whom, the absolute risk is to be estimated (`apply_covariate_profile_path`), 5) the marginal age-specific incidence rates of breast cancer (`model_disease_incidence_rates_path`), and 6) optionally, the age-specific incidence rates of competing risks (`model_competing_incidence_rates_path`). We include them in this example.\n",
    "\n",
    "To specify a SNP model using the special option, we must additionally input files containing: 1) the SNP information (`model_snp_info_path`), that has three columns named `snp_name`, `snp_odds_ratio`, and `snp_freq` corresponding to the SNP name, their odds ratios in association with breast cancer risk, and their minor allele frequencies, respectively, and 2) a set of profiles, specifying the SNPs of individuals (same as those specified in the covariate profile) for whom, the absolute risk is to be estimated (`apply_snp_profile_path`).\n",
    "\n",
    "The covariate model described in the file specified below is based on a logistic regression model adjusted for cohort and fine categories of age in the Breast and Prostate Cancer Cohort Consortium ([Campa et al. 2011](https://pubmed.ncbi.nlm.nih.gov/21791674/), [Joshi et al. 2014](https://pubmed.ncbi.nlm.nih.gov/25255808/), and [Maas et al. 2016](https://pubmed.ncbi.nlm.nih.gov/27228256/)). The reference dataset was created by simulation from [the National Health Interview Survey (NHIS)](ftp://ftp.cdc.gov/pub/Health_Statistics/NCHS/Dataset_Documentation/NHIS/2010/srvydesc.pdf) and [the National Health and Nutrition Examination Survey (NHANES)](https://wwwn.cdc.gov/nchs/nhanes/default.aspx), which are representative of the US population. `breast_cancer_72_snps_info.csv` contains published information on the odds-ratios and allele frequencies of 72 SNPs identified, among a larger set of markers, to be associated with breast cancer risk by [a recent genome-wide association study](https://www.nature.com/articles/nature24284) (Michailidou et al., 2017). `age_specific_breast_cancer_incidence_rates.csv` contains age-specific incidence rates of breast cancer from [Surveillance, Epidemiology and End Results (SEER) Program](https://seer.cancer.gov/), and `age_specific_all_cause_mortality_rates.csv` has age-specific incidence rates of all-cause mortality from [the CDC WONDER database](https://wonder.cdc.gov/). We indicate `model_family_history_variable_name = \"family_history\"` to allow the software to properly attenuate the log odds ratio for family history to account for the addition of the 72 SNPs."
   ],
   "metadata": {
    "collapsed": false
   }
  },
  {
   "cell_type": "code",
   "execution_count": 2,
   "outputs": [],
   "source": [
    "data_dir = pathlib.Path(\"data\")\n",
    "data_dir.mkdir(exist_ok=True)"
   ],
   "metadata": {
    "collapsed": false,
    "ExecuteTime": {
     "end_time": "2023-05-24T01:52:44.205200Z",
     "start_time": "2023-05-24T01:52:44.203684Z"
    }
   }
  },
  {
   "cell_type": "code",
   "execution_count": 3,
   "outputs": [],
   "source": [
    "# Data files URLs\n",
    "model_covariate_formula_url = \"https://raw.githubusercontent.com/jeyabbalas/py-icare/master/data/breast_cancer_covariate_model_formula.txt\"\n",
    "model_log_relative_risk_url = \"https://raw.githubusercontent.com/jeyabbalas/py-icare/master/data/breast_cancer_model_log_odds_ratios.json\"\n",
    "model_reference_dataset_url = \"https://raw.githubusercontent.com/jeyabbalas/py-icare/master/data/reference_covariate_data.csv\"\n",
    "apply_covariate_profile_url = \"https://raw.githubusercontent.com/jeyabbalas/py-icare/master/data/query_covariate_profile.csv\"\n",
    "model_snp_info_url = \"https://raw.githubusercontent.com/jeyabbalas/py-icare/master/data/breast_cancer_72_snps_info.csv\"\n",
    "apply_snp_profile_url = \"https://raw.githubusercontent.com/jeyabbalas/py-icare/master/data/query_snp_profile.csv\"\n",
    "model_disease_incidence_rates_url = \"https://raw.githubusercontent.com/jeyabbalas/py-icare/master/data/age_specific_breast_cancer_incidence_rates.csv\"\n",
    "model_competing_incidence_rates_url = \"https://raw.githubusercontent.com/jeyabbalas/py-icare/master/data/age_specific_all_cause_mortality_rates.csv\""
   ],
   "metadata": {
    "collapsed": false,
    "ExecuteTime": {
     "end_time": "2023-05-24T01:52:44.207519Z",
     "start_time": "2023-05-24T01:52:44.205992Z"
    }
   }
  },
  {
   "cell_type": "code",
   "execution_count": 4,
   "outputs": [],
   "source": [
    "# Data will be downloaded here\n",
    "model_covariate_formula_path = data_dir / \"breast_cancer_covariate_model_formula.txt\"\n",
    "model_log_relative_risk_path = data_dir / \"breast_cancer_model_log_odds_ratios.json\"\n",
    "model_reference_dataset_path = data_dir / \"reference_covariate_data.csv\"\n",
    "apply_covariate_profile_path = data_dir / \"query_covariate_profile.csv\"\n",
    "model_snp_info_path = data_dir / \"breast_cancer_72_snps_info.csv\"\n",
    "apply_snp_profile_path = data_dir / \"query_snp_profile.csv\"\n",
    "model_disease_incidence_rates_path = data_dir / \"age_specific_breast_cancer_incidence_rates.csv\"\n",
    "model_competing_incidence_rates_path = data_dir / \"age_specific_all_cause_mortality_rates.csv\""
   ],
   "metadata": {
    "collapsed": false,
    "ExecuteTime": {
     "end_time": "2023-05-24T01:52:46.494048Z",
     "start_time": "2023-05-24T01:52:46.487740Z"
    }
   }
  },
  {
   "cell_type": "code",
   "execution_count": 5,
   "outputs": [],
   "source": [
    "# Download the data\n",
    "for url, path in zip(\n",
    "    [\n",
    "        model_covariate_formula_url,\n",
    "        model_log_relative_risk_url,\n",
    "        model_reference_dataset_url,\n",
    "        apply_covariate_profile_url,\n",
    "        model_snp_info_url,\n",
    "        apply_snp_profile_url,\n",
    "        model_disease_incidence_rates_url,\n",
    "        model_competing_incidence_rates_url,\n",
    "    ],\n",
    "    [\n",
    "        model_covariate_formula_path,\n",
    "        model_log_relative_risk_path,\n",
    "        model_reference_dataset_path,\n",
    "        apply_covariate_profile_path,\n",
    "        model_snp_info_path,\n",
    "        apply_snp_profile_path,\n",
    "        model_disease_incidence_rates_path,\n",
    "        model_competing_incidence_rates_path,\n",
    "    ],\n",
    "):\n",
    "    response = requests.get(url)\n",
    "    response.raise_for_status()\n",
    "    with open(path, \"wb\") as f:\n",
    "        f.write(response.content)"
   ],
   "metadata": {
    "collapsed": false,
    "ExecuteTime": {
     "end_time": "2023-05-24T01:52:50.670207Z",
     "start_time": "2023-05-24T01:52:49.188131Z"
    }
   }
  },
  {
   "cell_type": "code",
   "execution_count": 6,
   "outputs": [],
   "source": [
    "apply_age_start = 50\n",
    "apply_age_interval_length = 30\n",
    "model_covariate_formula_path = data_dir / \"breast_cancer_covariate_model_formula.txt\"\n",
    "model_log_relative_risk_path = data_dir / \"breast_cancer_model_log_odds_ratios.json\"\n",
    "model_reference_dataset_path = data_dir / \"reference_covariate_data.csv\"\n",
    "apply_covariate_profile_path = data_dir / \"query_covariate_profile.csv\"\n",
    "model_snp_info_path = data_dir / \"breast_cancer_72_snps_info.csv\"\n",
    "apply_snp_profile_path = data_dir / \"query_snp_profile.csv\"\n",
    "model_family_history_variable_name = \"family_history\"\n",
    "model_disease_incidence_rates_path = data_dir / \"age_specific_breast_cancer_incidence_rates.csv\"\n",
    "model_competing_incidence_rates_path = data_dir / \"age_specific_all_cause_mortality_rates.csv\""
   ],
   "metadata": {
    "collapsed": false,
    "ExecuteTime": {
     "end_time": "2023-05-24T01:53:44.698173Z",
     "start_time": "2023-05-24T01:53:44.693050Z"
    }
   }
  },
  {
   "cell_type": "code",
   "execution_count": 7,
   "outputs": [],
   "source": [
    "results = icare.compute_absolute_risk(\n",
    "    apply_age_start=apply_age_start,\n",
    "    apply_age_interval_length=apply_age_interval_length,\n",
    "    model_covariate_formula_path=model_covariate_formula_path,\n",
    "    model_log_relative_risk_path=model_log_relative_risk_path,\n",
    "    model_reference_dataset_path=model_reference_dataset_path,\n",
    "    apply_covariate_profile_path=apply_covariate_profile_path,\n",
    "    model_snp_info_path=model_snp_info_path,\n",
    "    apply_snp_profile_path=apply_snp_profile_path,\n",
    "    model_family_history_variable_name=model_family_history_variable_name,\n",
    "    model_disease_incidence_rates_path=model_disease_incidence_rates_path,\n",
    "    model_competing_incidence_rates_path=model_competing_incidence_rates_path,\n",
    "    return_reference_risks=True,\n",
    "    seed=seed # set the random seed for reproducibility\n",
    ")"
   ],
   "metadata": {
    "collapsed": false,
    "ExecuteTime": {
     "end_time": "2023-05-24T01:53:50.726027Z",
     "start_time": "2023-05-24T01:53:49.749583Z"
    }
   }
  },
  {
   "cell_type": "markdown",
   "source": [
    "The method returns a dictionary containing the following keys:"
   ],
   "metadata": {
    "collapsed": false
   }
  },
  {
   "cell_type": "code",
   "execution_count": 8,
   "outputs": [
    {
     "data": {
      "text/plain": "dict_keys(['model', 'profile', 'reference_risks', 'method'])"
     },
     "execution_count": 8,
     "metadata": {},
     "output_type": "execute_result"
    }
   ],
   "source": [
    "results.keys()"
   ],
   "metadata": {
    "collapsed": false,
    "ExecuteTime": {
     "end_time": "2023-05-24T01:53:56.282842Z",
     "start_time": "2023-05-24T01:53:56.278388Z"
    }
   }
  },
  {
   "cell_type": "markdown",
   "source": [
    "The `method` key contains the name of the iCARE method used:"
   ],
   "metadata": {
    "collapsed": false
   }
  },
  {
   "cell_type": "code",
   "execution_count": 9,
   "outputs": [
    {
     "name": "stdout",
     "output_type": "stream",
     "text": [
      "iCARE method used: iCARE - absolute risk\n"
     ]
    }
   ],
   "source": [
    "print(f\"iCARE method used: {results['method']}\")"
   ],
   "metadata": {
    "collapsed": false,
    "ExecuteTime": {
     "end_time": "2023-05-24T01:53:58.916530Z",
     "start_time": "2023-05-24T01:53:58.908602Z"
    }
   }
  },
  {
   "cell_type": "markdown",
   "source": [
    "The `model` key contains the absolute risk model parameters, i.e., the log odds-ratios for each classical risk factor and SNP in association with breast cancer risk:"
   ],
   "metadata": {
    "collapsed": false
   }
  },
  {
   "cell_type": "code",
   "execution_count": 10,
   "outputs": [
    {
     "data": {
      "text/plain": "C(age_at_menarche, levels=['<=11', '11-11.5', '11.5-12', '12-13', '13-14', '14-15', '>=15'])[T.11-11.5]    0.044431\nC(age_at_menarche, levels=['<=11', '11-11.5', '11.5-12', '12-13', '13-14', '14-15', '>=15'])[T.11.5-12]   -0.035407\nC(age_at_menarche, levels=['<=11', '11-11.5', '11.5-12', '12-13', '13-14', '14-15', '>=15'])[T.12-13]     -0.086565\nC(age_at_menarche, levels=['<=11', '11-11.5', '11.5-12', '12-13', '13-14', '14-15', '>=15'])[T.13-14]     -0.109902\nC(age_at_menarche, levels=['<=11', '11-11.5', '11.5-12', '12-13', '13-14', '14-15', '>=15'])[T.14-15]     -0.085482\n                                                                                                             ...   \nrs2284378                                                                                                  0.000000\nrs2823093                                                                                                 -0.061875\nrs17879961                                                                                                 0.231112\nrs132390                                                                                                   0.039221\nrs6001930                                                                                                  0.113329\nLength: 149, dtype: float64"
     },
     "execution_count": 10,
     "metadata": {},
     "output_type": "execute_result"
    }
   ],
   "source": [
    "model = pd.Series(results[\"model\"])\n",
    "model"
   ],
   "metadata": {
    "collapsed": false,
    "ExecuteTime": {
     "end_time": "2023-05-24T01:54:00.363856Z",
     "start_time": "2023-05-24T01:54:00.361246Z"
    }
   }
  },
  {
   "cell_type": "markdown",
   "source": [
    "The `profile` key contains the classical risk factors, genetic risk factors, and the estimated absolute risk for each queried profile:"
   ],
   "metadata": {
    "collapsed": false
   }
  },
  {
   "cell_type": "code",
   "execution_count": 11,
   "outputs": [
    {
     "data": {
      "text/plain": "      age_interval_start  age_interval_end  risk_estimates  family_history  \\\nid                                                                           \nQ-01                  50                80        0.102086               0   \nQ-02                  50                80        0.090077               0   \nQ-03                  50                80        0.168964               0   \n\n     age_at_menarche  parity age_at_first_child_birth age_at_menopause  \\\nid                                                                       \nQ-01           13-14       0                    19-22            40-45   \nQ-02            >=15       0                    19-22             <=40   \nQ-03            <=11       0                     <=19            51-52   \n\n         height        bmi  ...  rs527616  rs1436904  rs6507583  rs4808801  \\\nid                          ...                                              \nQ-01  1.63-1.65     >=34.6  ...         0          0          0          1   \nQ-02  1.63-1.65  24.2-25.3  ...         0          0          0          1   \nQ-03     <=1.55     >=34.6  ...         1          1          0          1   \n\n     rs3760982 rs2284378  rs2823093  rs17879961  rs132390  rs6001930  \nid                                                                    \nQ-01         0         1          1           0         0          0  \nQ-02         1         1          0           0         0          0  \nQ-03         1         0          0           0         0          0  \n\n[3 rows x 88 columns]",
      "text/html": "<div>\n<style scoped>\n    .dataframe tbody tr th:only-of-type {\n        vertical-align: middle;\n    }\n\n    .dataframe tbody tr th {\n        vertical-align: top;\n    }\n\n    .dataframe thead th {\n        text-align: right;\n    }\n</style>\n<table border=\"1\" class=\"dataframe\">\n  <thead>\n    <tr style=\"text-align: right;\">\n      <th></th>\n      <th>age_interval_start</th>\n      <th>age_interval_end</th>\n      <th>risk_estimates</th>\n      <th>family_history</th>\n      <th>age_at_menarche</th>\n      <th>parity</th>\n      <th>age_at_first_child_birth</th>\n      <th>age_at_menopause</th>\n      <th>height</th>\n      <th>bmi</th>\n      <th>...</th>\n      <th>rs527616</th>\n      <th>rs1436904</th>\n      <th>rs6507583</th>\n      <th>rs4808801</th>\n      <th>rs3760982</th>\n      <th>rs2284378</th>\n      <th>rs2823093</th>\n      <th>rs17879961</th>\n      <th>rs132390</th>\n      <th>rs6001930</th>\n    </tr>\n    <tr>\n      <th>id</th>\n      <th></th>\n      <th></th>\n      <th></th>\n      <th></th>\n      <th></th>\n      <th></th>\n      <th></th>\n      <th></th>\n      <th></th>\n      <th></th>\n      <th></th>\n      <th></th>\n      <th></th>\n      <th></th>\n      <th></th>\n      <th></th>\n      <th></th>\n      <th></th>\n      <th></th>\n      <th></th>\n      <th></th>\n    </tr>\n  </thead>\n  <tbody>\n    <tr>\n      <th>Q-01</th>\n      <td>50</td>\n      <td>80</td>\n      <td>0.102086</td>\n      <td>0</td>\n      <td>13-14</td>\n      <td>0</td>\n      <td>19-22</td>\n      <td>40-45</td>\n      <td>1.63-1.65</td>\n      <td>&gt;=34.6</td>\n      <td>...</td>\n      <td>0</td>\n      <td>0</td>\n      <td>0</td>\n      <td>1</td>\n      <td>0</td>\n      <td>1</td>\n      <td>1</td>\n      <td>0</td>\n      <td>0</td>\n      <td>0</td>\n    </tr>\n    <tr>\n      <th>Q-02</th>\n      <td>50</td>\n      <td>80</td>\n      <td>0.090077</td>\n      <td>0</td>\n      <td>&gt;=15</td>\n      <td>0</td>\n      <td>19-22</td>\n      <td>&lt;=40</td>\n      <td>1.63-1.65</td>\n      <td>24.2-25.3</td>\n      <td>...</td>\n      <td>0</td>\n      <td>0</td>\n      <td>0</td>\n      <td>1</td>\n      <td>1</td>\n      <td>1</td>\n      <td>0</td>\n      <td>0</td>\n      <td>0</td>\n      <td>0</td>\n    </tr>\n    <tr>\n      <th>Q-03</th>\n      <td>50</td>\n      <td>80</td>\n      <td>0.168964</td>\n      <td>0</td>\n      <td>&lt;=11</td>\n      <td>0</td>\n      <td>&lt;=19</td>\n      <td>51-52</td>\n      <td>&lt;=1.55</td>\n      <td>&gt;=34.6</td>\n      <td>...</td>\n      <td>1</td>\n      <td>1</td>\n      <td>0</td>\n      <td>1</td>\n      <td>1</td>\n      <td>0</td>\n      <td>0</td>\n      <td>0</td>\n      <td>0</td>\n      <td>0</td>\n    </tr>\n  </tbody>\n</table>\n<p>3 rows × 88 columns</p>\n</div>"
     },
     "execution_count": 11,
     "metadata": {},
     "output_type": "execute_result"
    }
   ],
   "source": [
    "profiles = pd.read_json(results[\"profile\"], orient=\"records\")\n",
    "profiles.set_index(\"id\", inplace=True)\n",
    "profiles"
   ],
   "metadata": {
    "collapsed": false,
    "ExecuteTime": {
     "end_time": "2023-05-24T01:54:02.091156Z",
     "start_time": "2023-05-24T01:54:02.061791Z"
    }
   }
  },
  {
   "cell_type": "markdown",
   "source": [
    "The `reference_risks` key contains the absolute risks of the reference population. The population estimated risks are stored in the `reference_risks` key. It contains a list of dictionaries, one per unique combination of age intervals. Since, we calculated the risks for the interval from age 50 to 80 for all individuals, there is only one dictionary in the list:"
   ],
   "metadata": {
    "collapsed": false
   }
  },
  {
   "cell_type": "code",
   "execution_count": 12,
   "outputs": [],
   "source": [
    "reference_risks = results[\"reference_risks\"]"
   ],
   "metadata": {
    "collapsed": false,
    "ExecuteTime": {
     "end_time": "2023-05-24T01:54:03.615812Z",
     "start_time": "2023-05-24T01:54:03.609939Z"
    }
   }
  },
  {
   "cell_type": "markdown",
   "source": [
    "We can calculate the summary statistics of the reference population risks as shown below. We can see that the population mean risk is `0.096`."
   ],
   "metadata": {
    "collapsed": false
   }
  },
  {
   "cell_type": "code",
   "execution_count": 13,
   "outputs": [
    {
     "data": {
      "text/plain": "                  0\ncount  14137.000000\nmean       0.096224\nstd        0.032180\nmin        0.033011\n25%        0.073251\n50%        0.090267\n75%        0.112703\nmax        0.310007",
      "text/html": "<div>\n<style scoped>\n    .dataframe tbody tr th:only-of-type {\n        vertical-align: middle;\n    }\n\n    .dataframe tbody tr th {\n        vertical-align: top;\n    }\n\n    .dataframe thead th {\n        text-align: right;\n    }\n</style>\n<table border=\"1\" class=\"dataframe\">\n  <thead>\n    <tr style=\"text-align: right;\">\n      <th></th>\n      <th>0</th>\n    </tr>\n  </thead>\n  <tbody>\n    <tr>\n      <th>count</th>\n      <td>14137.000000</td>\n    </tr>\n    <tr>\n      <th>mean</th>\n      <td>0.096224</td>\n    </tr>\n    <tr>\n      <th>std</th>\n      <td>0.032180</td>\n    </tr>\n    <tr>\n      <th>min</th>\n      <td>0.033011</td>\n    </tr>\n    <tr>\n      <th>25%</th>\n      <td>0.073251</td>\n    </tr>\n    <tr>\n      <th>50%</th>\n      <td>0.090267</td>\n    </tr>\n    <tr>\n      <th>75%</th>\n      <td>0.112703</td>\n    </tr>\n    <tr>\n      <th>max</th>\n      <td>0.310007</td>\n    </tr>\n  </tbody>\n</table>\n</div>"
     },
     "execution_count": 13,
     "metadata": {},
     "output_type": "execute_result"
    }
   ],
   "source": [
    "pd.DataFrame(reference_risks[0][\"population_risks\"]).describe()"
   ],
   "metadata": {
    "collapsed": false,
    "ExecuteTime": {
     "end_time": "2023-05-24T01:54:04.895464Z",
     "start_time": "2023-05-24T01:54:04.885754Z"
    }
   }
  },
  {
   "cell_type": "markdown",
   "source": [
    "We can plot the absolute risks of the reference population and the queried profiles:"
   ],
   "metadata": {
    "collapsed": false
   }
  },
  {
   "cell_type": "code",
   "execution_count": 14,
   "metadata": {
    "collapsed": true,
    "ExecuteTime": {
     "end_time": "2023-05-24T01:54:06.529948Z",
     "start_time": "2023-05-24T01:54:06.366363Z"
    }
   },
   "outputs": [
    {
     "data": {
      "text/plain": "<Figure size 640x480 with 1 Axes>",
      "image/png": "[encoded data removed]"
     },
     "metadata": {},
     "output_type": "display_data"
    }
   ],
   "source": [
    "# Plot the density plot\n",
    "sns.kdeplot(reference_risks[0][\"population_risks\"], bw_adjust=0.5, color=\"black\", fill=True, alpha=0.3, linewidth=1.5, facecolor=\"lightblue\")\n",
    "plt.xlim(0.02, 0.22)\n",
    "plt.xlabel(\"Absolute risk of breast cancer\")\n",
    "plt.title(\"Referent risk distribution: ages 50-80 years\")\n",
    "\n",
    "# Add a vertical red line, one for each queried profile\n",
    "for risk_value in profiles[\"risk_estimates\"]:\n",
    "    plt.axvline(risk_value, color=\"red\")\n",
    "\n",
    "plt.legend([\"Queried profiles\"], loc=\"upper right\")\n",
    "\n",
    "plt.show()"
   ]
  }
 ],
 "metadata": {
  "kernelspec": {
   "display_name": "Python 3",
   "language": "python",
   "name": "python3"
  },
  "language_info": {
   "codemirror_mode": {
    "name": "ipython",
    "version": 2
   },
   "file_extension": ".py",
   "mimetype": "text/x-python",
   "name": "python",
   "nbconvert_exporter": "python",
   "pygments_lexer": "ipython2",
   "version": "2.7.6"
  }
 },
 "nbformat": 4,
 "nbformat_minor": 0
}
