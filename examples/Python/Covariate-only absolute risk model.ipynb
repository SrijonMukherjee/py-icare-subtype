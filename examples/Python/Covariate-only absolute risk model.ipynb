{
 "cells": [
  {
   "cell_type": "markdown",
   "source": [
    "[![Open In Colab](https://colab.research.google.com/assets/colab-badge.svg)](https://colab.research.google.com/github/jeyabbalas/py-icare/blob/master/examples/Python/Covariate-only%20absolute%20risk%20model.ipynb)\n",
    "\n",
    "# Covariate-only absolute risk model\n",
    "\n",
    "In this example, we demonstrate the use of iCARE to build models of absolute risk containing only classical risk factors. Here, we assume that we have a reference dataset to represent the distribution of the classical risk factors in the underlying population. Note that if your model contains SNPs and you have a reference dataset, you must use the example described in this notebook. Do not make use of the special SNP-only model because it would make certain parametric assumptions about the distribution of SNPs in the underlying population.\n",
    "\n",
    "Specifically, we will use iCARE to build and apply absolute risk model of breast cancer using known questionnaire-based classical risk factors in literature."
   ],
   "metadata": {
    "collapsed": false
   }
  },
  {
   "cell_type": "code",
   "execution_count": null,
   "outputs": [],
   "source": [
    "! pip install icare --quiet"
   ],
   "metadata": {
    "collapsed": false
   }
  },
  {
   "cell_type": "code",
   "execution_count": 1,
   "outputs": [],
   "source": [
    "import pathlib\n",
    "\n",
    "import pandas as pd\n",
    "import matplotlib.pyplot as plt\n",
    "import requests\n",
    "import seaborn as sns\n",
    "\n",
    "import icare\n",
    "\n",
    "\n",
    "# Set the plot background to white\n",
    "sns.set(style=\"whitegrid\", rc={\"axes.facecolor\": \"white\", \"grid.color\": \"white\"})\n",
    "seed = 1234"
   ],
   "metadata": {
    "collapsed": false,
    "ExecuteTime": {
     "end_time": "2023-05-27T02:09:59.145790Z",
     "start_time": "2023-05-27T02:09:59.084261Z"
    }
   }
  },
  {
   "cell_type": "markdown",
   "source": [
    "To specify a covariate model in iCARE, we need to provide: 1) a text file containing the covariate model formula description using the [Patsy formula language](https://patsy.readthedocs.io/en/latest/formulas.html) (`model_covariate_formula_path`), 2) the breast cancer log odds ratios associated with each risk factor in the covariate model (`model_log_relative_risk_path`), 3) a reference dataset describing the distribution of the classical risk factors in the underlying population (`model_reference_dataset_path`), 4) a set of profiles, specifying the classical risk factors of individuals for whom, the absolute risk is to be estimated (`apply_covariate_profile_path`), 5) the marginal age-specific incidence rates of breast cancer (`model_disease_incidence_rates_path`), and 6) optionally, the age-specific incidence rates of competing risks (`model_competing_incidence_rates_path`). We include them in this example.\n",
    "\n",
    "The covariate model described in the file specified below is based on a logistic regression model adjusted for cohort and fine categories of age in the Breast and Prostate Cancer Cohort Consortium ([Campa et al. 2011](https://pubmed.ncbi.nlm.nih.gov/21791674/), [Joshi et al. 2014](https://pubmed.ncbi.nlm.nih.gov/25255808/), and [Maas et al. 2016](https://pubmed.ncbi.nlm.nih.gov/27228256/)). The reference dataset was created by simulation from [the National Health Interview Survey (NHIS)](ftp://ftp.cdc.gov/pub/Health_Statistics/NCHS/Dataset_Documentation/NHIS/2010/srvydesc.pdf) and [the National Health and Nutrition Examination Survey (NHANES)](https://wwwn.cdc.gov/nchs/nhanes/default.aspx), which are representative of the US population."
   ],
   "metadata": {
    "collapsed": false
   }
  },
  {
   "cell_type": "code",
   "execution_count": 2,
   "outputs": [],
   "source": [
    "# Data files URLs\n",
    "github_source = \"https://raw.githubusercontent.com/jeyabbalas/py-icare/master/data/\"\n",
    "\n",
    "model_covariate_formula_url = github_source + \"breast_cancer_covariate_model_formula.txt\"\n",
    "model_log_relative_risk_url = github_source + \"breast_cancer_model_log_odds_ratios.json\"\n",
    "model_reference_dataset_url = github_source + \"reference_covariate_data.csv\"\n",
    "apply_covariate_profile_url = github_source + \"query_covariate_profile.csv\"\n",
    "model_disease_incidence_rates_url = github_source + \"age_specific_breast_cancer_incidence_rates.csv\"\n",
    "model_competing_incidence_rates_url = github_source + \"age_specific_all_cause_mortality_rates.csv\""
   ],
   "metadata": {
    "collapsed": false,
    "ExecuteTime": {
     "end_time": "2023-05-27T02:09:59.147828Z",
     "start_time": "2023-05-27T02:09:59.146663Z"
    }
   }
  },
  {
   "cell_type": "code",
   "execution_count": 3,
   "outputs": [],
   "source": [
    "# Data will be downloaded here\n",
    "data_dir = pathlib.Path(\"data\")\n",
    "data_dir.mkdir(exist_ok=True)\n",
    "\n",
    "model_covariate_formula_path = data_dir / \"breast_cancer_covariate_model_formula.txt\"\n",
    "model_log_relative_risk_path = data_dir / \"breast_cancer_model_log_odds_ratios.json\"\n",
    "model_reference_dataset_path = data_dir / \"reference_covariate_data.csv\"\n",
    "apply_covariate_profile_path = data_dir / \"query_covariate_profile.csv\"\n",
    "model_disease_incidence_rates_path = data_dir / \"age_specific_breast_cancer_incidence_rates.csv\"\n",
    "model_competing_incidence_rates_path = data_dir / \"age_specific_all_cause_mortality_rates.csv\""
   ],
   "metadata": {
    "collapsed": false,
    "ExecuteTime": {
     "end_time": "2023-05-27T02:09:59.150598Z",
     "start_time": "2023-05-27T02:09:59.148838Z"
    }
   }
  },
  {
   "cell_type": "code",
   "execution_count": 4,
   "outputs": [
    {
     "name": "stdout",
     "output_type": "stream",
     "text": [
      "Downloading https://raw.githubusercontent.com/jeyabbalas/py-icare/master/data/breast_cancer_covariate_model_formula.txt to data/breast_cancer_covariate_model_formula.txt\n",
      "Downloading https://raw.githubusercontent.com/jeyabbalas/py-icare/master/data/breast_cancer_model_log_odds_ratios.json to data/breast_cancer_model_log_odds_ratios.json\n",
      "Downloading https://raw.githubusercontent.com/jeyabbalas/py-icare/master/data/reference_covariate_data.csv to data/reference_covariate_data.csv\n",
      "Downloading https://raw.githubusercontent.com/jeyabbalas/py-icare/master/data/query_covariate_profile.csv to data/query_covariate_profile.csv\n",
      "Downloading https://raw.githubusercontent.com/jeyabbalas/py-icare/master/data/age_specific_breast_cancer_incidence_rates.csv to data/age_specific_breast_cancer_incidence_rates.csv\n",
      "Downloading https://raw.githubusercontent.com/jeyabbalas/py-icare/master/data/age_specific_all_cause_mortality_rates.csv to data/age_specific_all_cause_mortality_rates.csv\n"
     ]
    }
   ],
   "source": [
    "# Download the data\n",
    "for url, path in zip(\n",
    "    [\n",
    "        model_covariate_formula_url,\n",
    "        model_log_relative_risk_url,\n",
    "        model_reference_dataset_url,\n",
    "        apply_covariate_profile_url,\n",
    "        model_disease_incidence_rates_url,\n",
    "        model_competing_incidence_rates_url,\n",
    "    ],\n",
    "    [\n",
    "        model_covariate_formula_path,\n",
    "        model_log_relative_risk_path,\n",
    "        model_reference_dataset_path,\n",
    "        apply_covariate_profile_path,\n",
    "        model_disease_incidence_rates_path,\n",
    "        model_competing_incidence_rates_path,\n",
    "    ],\n",
    "):\n",
    "    print(f\"Downloading {url} to {path}\")\n",
    "    response = requests.get(url)\n",
    "    response.raise_for_status()\n",
    "    with open(path, \"wb\") as f:\n",
    "        f.write(response.content)"
   ],
   "metadata": {
    "collapsed": false,
    "ExecuteTime": {
     "end_time": "2023-05-27T02:10:00.261692Z",
     "start_time": "2023-05-27T02:09:59.150758Z"
    }
   }
  },
  {
   "cell_type": "code",
   "execution_count": 5,
   "outputs": [],
   "source": [
    "results = icare.compute_absolute_risk(\n",
    "    apply_age_start=50,\n",
    "    apply_age_interval_length=30,\n",
    "    model_covariate_formula_path=model_covariate_formula_path,\n",
    "    model_log_relative_risk_path=model_log_relative_risk_path,\n",
    "    model_reference_dataset_path=model_reference_dataset_path,\n",
    "    apply_covariate_profile_path=apply_covariate_profile_path,\n",
    "    model_disease_incidence_rates_path=model_disease_incidence_rates_path,\n",
    "    model_competing_incidence_rates_path=model_competing_incidence_rates_path,\n",
    "    return_reference_risks=True,\n",
    "    seed=seed # set the random seed for reproducibility\n",
    ")"
   ],
   "metadata": {
    "collapsed": false,
    "ExecuteTime": {
     "end_time": "2023-05-27T02:10:00.507824Z",
     "start_time": "2023-05-27T02:10:00.260535Z"
    }
   }
  },
  {
   "cell_type": "markdown",
   "source": [
    "The method returns a dictionary containing the following keys:"
   ],
   "metadata": {
    "collapsed": false
   }
  },
  {
   "cell_type": "code",
   "execution_count": 6,
   "outputs": [
    {
     "data": {
      "text/plain": "dict_keys(['model', 'profile', 'reference_risks', 'method'])"
     },
     "execution_count": 6,
     "metadata": {},
     "output_type": "execute_result"
    }
   ],
   "source": [
    "results.keys()"
   ],
   "metadata": {
    "collapsed": false,
    "ExecuteTime": {
     "end_time": "2023-05-27T02:10:00.554029Z",
     "start_time": "2023-05-27T02:10:00.518498Z"
    }
   }
  },
  {
   "cell_type": "markdown",
   "source": [
    "The `method` key contains the name of the iCARE method used:"
   ],
   "metadata": {
    "collapsed": false
   }
  },
  {
   "cell_type": "code",
   "execution_count": 7,
   "outputs": [
    {
     "name": "stdout",
     "output_type": "stream",
     "text": [
      "iCARE method used: iCARE - absolute risk\n"
     ]
    }
   ],
   "source": [
    "print(f\"iCARE method used: {results['method']}\")"
   ],
   "metadata": {
    "collapsed": false,
    "ExecuteTime": {
     "end_time": "2023-05-27T02:10:00.557915Z",
     "start_time": "2023-05-27T02:10:00.536267Z"
    }
   }
  },
  {
   "cell_type": "markdown",
   "source": [
    "The `model` key contains the absolute risk model parameters, i.e., the log odds-ratios for each classical risk factor in association with breast cancer risk:"
   ],
   "metadata": {
    "collapsed": false
   }
  },
  {
   "cell_type": "code",
   "execution_count": 8,
   "outputs": [
    {
     "data": {
      "text/plain": "C(age_at_menarche, levels=['<=11', '11-11.5', '11.5-12', '12-13', '13-14', '14-15', '>=15'])[T.11-11.5]                                                                                      0.044431\nC(age_at_menarche, levels=['<=11', '11-11.5', '11.5-12', '12-13', '13-14', '14-15', '>=15'])[T.11.5-12]                                                                                     -0.035407\nC(age_at_menarche, levels=['<=11', '11-11.5', '11.5-12', '12-13', '13-14', '14-15', '>=15'])[T.12-13]                                                                                       -0.086565\nC(age_at_menarche, levels=['<=11', '11-11.5', '11.5-12', '12-13', '13-14', '14-15', '>=15'])[T.13-14]                                                                                       -0.109902\nC(age_at_menarche, levels=['<=11', '11-11.5', '11.5-12', '12-13', '13-14', '14-15', '>=15'])[T.14-15]                                                                                       -0.085482\n                                                                                                                                                                                               ...   \nC(menopause_hrt, levels=[0, 1, 2])[T.2]:C(bmi, levels=['<=21.5', '21.5-23', '23-24.2', '24.2-25.3', '25.3-26.5', '26.5-27.8', '27.8-29.3', '29.3-31.4', '31.4-34.6', '>=34.6'])[T.>=34.6]    0.251005\nfamily_history                                                                                                                                                                               0.356725\nmenopause_hrt_e                                                                                                                                                                              0.016042\nmenopause_hrt_c                                                                                                                                                                              0.255033\ncurrent_hrt                                                                                                                                                                                  0.198871\nLength: 77, dtype: float64"
     },
     "execution_count": 8,
     "metadata": {},
     "output_type": "execute_result"
    }
   ],
   "source": [
    "model = pd.Series(results[\"model\"])\n",
    "model"
   ],
   "metadata": {
    "collapsed": false,
    "ExecuteTime": {
     "end_time": "2023-05-27T02:10:00.558250Z",
     "start_time": "2023-05-27T02:10:00.554774Z"
    }
   }
  },
  {
   "cell_type": "markdown",
   "source": [
    "The `profile` key contains the classical risk factors and the estimated absolute risk for each queried profile:"
   ],
   "metadata": {
    "collapsed": false
   }
  },
  {
   "cell_type": "code",
   "execution_count": 9,
   "outputs": [
    {
     "data": {
      "text/plain": "      age_interval_start  age_interval_end  risk_estimates  family_history  \\\nid                                                                           \nQ-01                  50                80        0.110947               0   \nQ-02                  50                80        0.082069               0   \nQ-03                  50                80        0.120892               0   \n\n     age_at_menarche  parity age_at_first_child_birth age_at_menopause  \\\nid                                                                       \nQ-01           13-14       0                    19-22            40-45   \nQ-02            >=15       0                    19-22             <=40   \nQ-03            <=11       0                     <=19            51-52   \n\n         height        bmi  menopause_hrt  menopause_hrt_e  menopause_hrt_c  \\\nid                                                                            \nQ-01  1.63-1.65     >=34.6              1                0                0   \nQ-02  1.63-1.65  24.2-25.3              1                0                0   \nQ-03     <=1.55     >=34.6              1                0                0   \n\n      current_hrt alcohol_consumption smoking_status  \nid                                                    \nQ-01            0                none           ever  \nQ-02            0             0.8-1.5          never  \nQ-03            0                none           ever  ",
      "text/html": "<div>\n<style scoped>\n    .dataframe tbody tr th:only-of-type {\n        vertical-align: middle;\n    }\n\n    .dataframe tbody tr th {\n        vertical-align: top;\n    }\n\n    .dataframe thead th {\n        text-align: right;\n    }\n</style>\n<table border=\"1\" class=\"dataframe\">\n  <thead>\n    <tr style=\"text-align: right;\">\n      <th></th>\n      <th>age_interval_start</th>\n      <th>age_interval_end</th>\n      <th>risk_estimates</th>\n      <th>family_history</th>\n      <th>age_at_menarche</th>\n      <th>parity</th>\n      <th>age_at_first_child_birth</th>\n      <th>age_at_menopause</th>\n      <th>height</th>\n      <th>bmi</th>\n      <th>menopause_hrt</th>\n      <th>menopause_hrt_e</th>\n      <th>menopause_hrt_c</th>\n      <th>current_hrt</th>\n      <th>alcohol_consumption</th>\n      <th>smoking_status</th>\n    </tr>\n    <tr>\n      <th>id</th>\n      <th></th>\n      <th></th>\n      <th></th>\n      <th></th>\n      <th></th>\n      <th></th>\n      <th></th>\n      <th></th>\n      <th></th>\n      <th></th>\n      <th></th>\n      <th></th>\n      <th></th>\n      <th></th>\n      <th></th>\n      <th></th>\n    </tr>\n  </thead>\n  <tbody>\n    <tr>\n      <th>Q-01</th>\n      <td>50</td>\n      <td>80</td>\n      <td>0.110947</td>\n      <td>0</td>\n      <td>13-14</td>\n      <td>0</td>\n      <td>19-22</td>\n      <td>40-45</td>\n      <td>1.63-1.65</td>\n      <td>&gt;=34.6</td>\n      <td>1</td>\n      <td>0</td>\n      <td>0</td>\n      <td>0</td>\n      <td>none</td>\n      <td>ever</td>\n    </tr>\n    <tr>\n      <th>Q-02</th>\n      <td>50</td>\n      <td>80</td>\n      <td>0.082069</td>\n      <td>0</td>\n      <td>&gt;=15</td>\n      <td>0</td>\n      <td>19-22</td>\n      <td>&lt;=40</td>\n      <td>1.63-1.65</td>\n      <td>24.2-25.3</td>\n      <td>1</td>\n      <td>0</td>\n      <td>0</td>\n      <td>0</td>\n      <td>0.8-1.5</td>\n      <td>never</td>\n    </tr>\n    <tr>\n      <th>Q-03</th>\n      <td>50</td>\n      <td>80</td>\n      <td>0.120892</td>\n      <td>0</td>\n      <td>&lt;=11</td>\n      <td>0</td>\n      <td>&lt;=19</td>\n      <td>51-52</td>\n      <td>&lt;=1.55</td>\n      <td>&gt;=34.6</td>\n      <td>1</td>\n      <td>0</td>\n      <td>0</td>\n      <td>0</td>\n      <td>none</td>\n      <td>ever</td>\n    </tr>\n  </tbody>\n</table>\n</div>"
     },
     "execution_count": 9,
     "metadata": {},
     "output_type": "execute_result"
    }
   ],
   "source": [
    "profiles = pd.read_json(results[\"profile\"], orient=\"records\")\n",
    "profiles.set_index(\"id\", inplace=True)\n",
    "profiles"
   ],
   "metadata": {
    "collapsed": false,
    "ExecuteTime": {
     "end_time": "2023-05-27T02:10:00.571570Z",
     "start_time": "2023-05-27T02:10:00.562300Z"
    }
   }
  },
  {
   "cell_type": "markdown",
   "source": [
    "The `reference_risks` key contains the absolute risks of the reference population. The population estimated risks are stored in the `reference_risks` key. It contains a list of dictionaries, one per unique combination of age intervals. Since, we calculated the risks for the interval from age 50 to 80 for all individuals, there is only one dictionary in the list:"
   ],
   "metadata": {
    "collapsed": false
   }
  },
  {
   "cell_type": "code",
   "execution_count": 10,
   "outputs": [],
   "source": [
    "reference_risks = results[\"reference_risks\"]"
   ],
   "metadata": {
    "collapsed": false,
    "ExecuteTime": {
     "end_time": "2023-05-27T02:10:00.574675Z",
     "start_time": "2023-05-27T02:10:00.572531Z"
    }
   }
  },
  {
   "cell_type": "markdown",
   "source": [
    "We can calculate the summary statistics of the reference population risks as shown below. We can see that the population mean risk is `0.096`."
   ],
   "metadata": {
    "collapsed": false
   }
  },
  {
   "cell_type": "code",
   "execution_count": 11,
   "outputs": [
    {
     "data": {
      "text/plain": "count    14137.000000\nmean         0.095992\nstd          0.029169\nmin          0.037990\n25%          0.075148\n50%          0.090418\n75%          0.111246\nmax          0.263932\ndtype: object"
     },
     "execution_count": 11,
     "metadata": {},
     "output_type": "execute_result"
    }
   ],
   "source": [
    "pd.Series(reference_risks[0][\"population_risks\"]).describe().apply(lambda x: format(x, 'f'))"
   ],
   "metadata": {
    "collapsed": false,
    "ExecuteTime": {
     "end_time": "2023-05-27T02:10:00.610485Z",
     "start_time": "2023-05-27T02:10:00.577023Z"
    }
   }
  },
  {
   "cell_type": "markdown",
   "source": [
    "We can plot the absolute risks of the reference population and the queried profiles:"
   ],
   "metadata": {
    "collapsed": false
   }
  },
  {
   "cell_type": "code",
   "execution_count": 12,
   "outputs": [
    {
     "data": {
      "text/plain": "<Figure size 640x480 with 1 Axes>",
      "image/png": "[encoded data removed]"
     },
     "metadata": {},
     "output_type": "display_data"
    }
   ],
   "source": [
    "# Density plot of the reference population\n",
    "sns.kdeplot(reference_risks[0][\"population_risks\"], bw_adjust=0.5, color=\"black\", fill=True, alpha=0.3, linewidth=1.5, facecolor=\"lightblue\")\n",
    "plt.xlim(0.03, 0.18)\n",
    "plt.xlabel(\"Absolute risk of breast cancer\")\n",
    "plt.title(\"Reference risk distribution: ages 50-80 years\")\n",
    "\n",
    "# Add a vertical red line, one for each queried profile\n",
    "for risk_value in profiles[\"risk_estimates\"]:\n",
    "    plt.axvline(risk_value, color=\"red\")\n",
    "\n",
    "plt.legend([\"Queried profiles\"], loc=\"upper right\")\n",
    "\n",
    "plt.show()"
   ],
   "metadata": {
    "collapsed": false,
    "ExecuteTime": {
     "end_time": "2023-05-27T02:10:00.915623Z",
     "start_time": "2023-05-27T02:10:00.591124Z"
    }
   }
  }
 ],
 "metadata": {
  "kernelspec": {
   "display_name": "Python 3",
   "language": "python",
   "name": "python3"
  },
  "language_info": {
   "codemirror_mode": {
    "name": "ipython",
    "version": 2
   },
   "file_extension": ".py",
   "mimetype": "text/x-python",
   "name": "python",
   "nbconvert_exporter": "python",
   "pygments_lexer": "ipython2",
   "version": "2.7.6"
  }
 },
 "nbformat": 4,
 "nbformat_minor": 0
}
