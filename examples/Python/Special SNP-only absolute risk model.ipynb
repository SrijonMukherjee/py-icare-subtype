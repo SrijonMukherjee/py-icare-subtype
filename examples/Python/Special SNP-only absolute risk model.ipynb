{
 "cells": [
  {
   "cell_type": "markdown",
   "source": [
    "[![Open In Colab](https://colab.research.google.com/assets/colab-badge.svg)](https://colab.research.google.com/github/jeyabbalas/py-icare/blob/master/examples/Python/Special%20SNP-only%20absolute%20risk%20model.ipynb)\n",
    "\n",
    "# Special SNP-only absolute risk model\n",
    "\n",
    "In this example, we will demonstrate the use of iCARE's special SNP option that allows you to specify a SNP-based absolute risk model without the need to provide a reference dataset to represent the risk factor distribution of the underlying population. If a reference dataset for the SNPs is available, please use the regular covariate-only model instead because it makes fewer assumptions about the underlying population risk factor distribution.\n",
    "\n",
    "Specifically, we will use iCARE to build and apply absolute risk models of breast cancer using known associated 72 SNPs from literature."
   ],
   "metadata": {
    "collapsed": false
   }
  },
  {
   "cell_type": "code",
   "execution_count": null,
   "outputs": [],
   "source": [
    "! pip install icare --quiet"
   ],
   "metadata": {
    "collapsed": false
   }
  },
  {
   "cell_type": "code",
   "execution_count": 1,
   "outputs": [],
   "source": [
    "import pathlib\n",
    "\n",
    "import pandas as pd\n",
    "import matplotlib.pyplot as plt\n",
    "import requests\n",
    "import seaborn as sns\n",
    "\n",
    "import icare\n",
    "\n",
    "\n",
    "# Set the plot background to white\n",
    "sns.set(style=\"whitegrid\", rc={\"axes.facecolor\": \"white\", \"grid.color\": \"white\"})\n",
    "seed = 1234"
   ],
   "metadata": {
    "collapsed": false,
    "ExecuteTime": {
     "end_time": "2023-05-24T01:41:44.322981Z",
     "start_time": "2023-05-24T01:41:44.253547Z"
    }
   }
  },
  {
   "cell_type": "markdown",
   "source": [
    "To specify a SNP-only model using the special option, we must input the file containing the marginal age-specific incidence rates of breast cancer (`model_disease_incidence_rates_path`), and the SNP information (`model_snp_info_path`), that has three columns named: (`snp_name`, `snp_odds_ratio`, and `snp_freq` corresponding to the SNP name, their odds ratios in association with breast cancer risk, and their minor allele frequencies, respectively). Age-specific incidence rates of competing risks (`model_competing_incidence_rates_path`) are optional. We include them in this example."
   ],
   "metadata": {
    "collapsed": false
   }
  },
  {
   "cell_type": "code",
   "execution_count": 2,
   "outputs": [],
   "source": [
    "data_dir = pathlib.Path(\"data\")\n",
    "data_dir.mkdir(exist_ok=True)"
   ],
   "metadata": {
    "collapsed": false,
    "ExecuteTime": {
     "end_time": "2023-05-24T01:42:40.926676Z",
     "start_time": "2023-05-24T01:42:40.921651Z"
    }
   }
  },
  {
   "cell_type": "code",
   "execution_count": 3,
   "outputs": [],
   "source": [
    "# Data files URLs\n",
    "model_disease_incidence_rates_url = \"https://raw.githubusercontent.com/jeyabbalas/py-icare/master/data/age_specific_breast_cancer_incidence_rates.csv\"\n",
    "model_competing_incidence_rates_url = \"https://raw.githubusercontent.com/jeyabbalas/py-icare/master/data/age_specific_all_cause_mortality_rates.csv\"\n",
    "model_snp_info_url = \"https://raw.githubusercontent.com/jeyabbalas/py-icare/master/data/breast_cancer_72_snps_info.csv\""
   ],
   "metadata": {
    "collapsed": false,
    "ExecuteTime": {
     "end_time": "2023-05-24T01:45:56.655537Z",
     "start_time": "2023-05-24T01:45:56.646663Z"
    }
   }
  },
  {
   "cell_type": "code",
   "execution_count": 4,
   "outputs": [],
   "source": [
    "# Data will be downloaded here\n",
    "model_disease_incidence_rates_path = data_dir / \"age_specific_breast_cancer_incidence_rates.csv\"\n",
    "model_competing_incidence_rates_path = data_dir / \"age_specific_all_cause_mortality_rates.csv\"\n",
    "model_snp_info_path = data_dir / \"breast_cancer_72_snps_info.csv\""
   ],
   "metadata": {
    "collapsed": false,
    "ExecuteTime": {
     "end_time": "2023-05-24T01:46:18.786749Z",
     "start_time": "2023-05-24T01:46:18.775109Z"
    }
   }
  },
  {
   "cell_type": "code",
   "execution_count": 5,
   "outputs": [],
   "source": [
    "# Download the data\n",
    "for url, path in zip(\n",
    "    [\n",
    "        model_disease_incidence_rates_url,\n",
    "        model_competing_incidence_rates_url,\n",
    "        model_snp_info_url\n",
    "    ],\n",
    "    [\n",
    "        model_disease_incidence_rates_path,\n",
    "        model_competing_incidence_rates_path,\n",
    "        model_snp_info_path\n",
    "    ]\n",
    "):\n",
    "    response = requests.get(url)\n",
    "    response.raise_for_status()\n",
    "    with open(path, \"wb\") as f:\n",
    "        f.write(response.content)"
   ],
   "metadata": {
    "collapsed": false,
    "ExecuteTime": {
     "end_time": "2023-05-24T01:46:21.209369Z",
     "start_time": "2023-05-24T01:46:20.730877Z"
    }
   }
  },
  {
   "cell_type": "markdown",
   "source": [
    "Here, `breast_cancer_72_snps_info.csv` contains published information on the odds-ratios and allele frequencies of 72 SNPs identified, among a larger set of markers, to be associated with breast cancer risk by [a recent genome-wide association study (Michailidou et al., 2017)](https://www.nature.com/articles/nature24284). `age_specific_breast_cancer_incidence_rates.csv` contains age-specific incidence rates of breast cancer from [Surveillance, Epidemiology and End Results (SEER) Program](https://seer.cancer.gov/), and `age_specific_all_cause_mortality_rates.csv` has age-specific incidence rates of all-cause mortality from [the CDC WONDER database](https://wonder.cdc.gov/). In fitting a SNP-only model using the special option, the reference dataset need not be provided as iCARE will impute the reference SNP distribution based on SNP allele frequencies.\n",
    "\n",
    "The function call below builds an absolute risk model based on 72 SNPs for breast cancer and applies the model to estimate risk of breast cancer in the interval from age 50 to 80:"
   ],
   "metadata": {
    "collapsed": false
   }
  },
  {
   "cell_type": "code",
   "execution_count": 6,
   "outputs": [
    {
     "name": "stdout",
     "output_type": "stream",
     "text": [
      "\n",
      "Note: You included 'model_snp_info' but did not provide an 'apply_snp_profile_path'. iCARE will impute SNPs for 10000 individuals. If you require more, please provide an input to 'apply_snp_profile_path' input.\n",
      "\n",
      "\n",
      "Note: You did not provide a 'model_family_history_variable_name', therefore the model will not adjust the SNP imputations for family history.\n",
      "\n"
     ]
    }
   ],
   "source": [
    "results = icare.compute_absolute_risk(\n",
    "    apply_age_start=50,\n",
    "    apply_age_interval_length=30, # 50 + 30 = 80\n",
    "    model_disease_incidence_rates_path=model_disease_incidence_rates_path,\n",
    "    model_competing_incidence_rates_path=model_competing_incidence_rates_path,\n",
    "    model_snp_info_path=model_snp_info_path,\n",
    "    return_reference_risks=True,  # return the absolute risks for the simulated reference population\n",
    "    seed=seed  # set the random seed for reproducibility\n",
    ")"
   ],
   "metadata": {
    "collapsed": false,
    "ExecuteTime": {
     "end_time": "2023-05-24T01:46:24.848957Z",
     "start_time": "2023-05-24T01:46:23.443020Z"
    }
   }
  },
  {
   "cell_type": "markdown",
   "source": [
    "The method returns a dictionary containing the following keys:"
   ],
   "metadata": {
    "collapsed": false
   }
  },
  {
   "cell_type": "code",
   "execution_count": 7,
   "outputs": [
    {
     "data": {
      "text/plain": "dict_keys(['model', 'profile', 'reference_risks', 'method'])"
     },
     "execution_count": 7,
     "metadata": {},
     "output_type": "execute_result"
    }
   ],
   "source": [
    "results.keys()"
   ],
   "metadata": {
    "collapsed": false,
    "ExecuteTime": {
     "end_time": "2023-05-24T01:46:26.748193Z",
     "start_time": "2023-05-24T01:46:26.743981Z"
    }
   }
  },
  {
   "cell_type": "markdown",
   "source": [
    "The `method` key contains the name of the iCARE method used:"
   ],
   "metadata": {
    "collapsed": false
   }
  },
  {
   "cell_type": "code",
   "execution_count": 8,
   "outputs": [
    {
     "name": "stdout",
     "output_type": "stream",
     "text": [
      "iCARE method used: iCARE - absolute risk\n"
     ]
    }
   ],
   "source": [
    "print(f\"iCARE method used: {results['method']}\")"
   ],
   "metadata": {
    "collapsed": false,
    "ExecuteTime": {
     "end_time": "2023-05-24T01:46:28.328568Z",
     "start_time": "2023-05-24T01:46:28.321742Z"
    }
   }
  },
  {
   "cell_type": "markdown",
   "source": [
    "The `model` key contains the absolute risk model parameters, i.e., the odds-ratios for each SNP in association with breast cancer risk:"
   ],
   "metadata": {
    "collapsed": false
   }
  },
  {
   "cell_type": "code",
   "execution_count": 9,
   "outputs": [
    {
     "data": {
      "text/plain": "snp_name\nrs616488     -0.061875\nrs11552449    0.039221\nrs11249433    0.104360\nrs12405132   -0.030459\nrs12048493    0.039221\nName: odds_ratios, dtype: float64"
     },
     "execution_count": 9,
     "metadata": {},
     "output_type": "execute_result"
    }
   ],
   "source": [
    "model = pd.Series(results[\"model\"], name=\"odds_ratios\")\n",
    "model.index.name = \"snp_name\"\n",
    "model.head()"
   ],
   "metadata": {
    "collapsed": false,
    "ExecuteTime": {
     "end_time": "2023-05-24T01:46:29.870934Z",
     "start_time": "2023-05-24T01:46:29.867648Z"
    }
   }
  },
  {
   "cell_type": "markdown",
   "source": [
    "In the call above, we did not provide any profiles as input. So, iCARE generates 10,000 profiles with the 72 SNPs but with all SNP values missing, as shown below:"
   ],
   "metadata": {
    "collapsed": false
   }
  },
  {
   "cell_type": "code",
   "execution_count": 10,
   "outputs": [
    {
     "data": {
      "text/plain": "    age_interval_start  age_interval_end  risk_estimates  rs616488  \\\nid                                                                   \n0                   50                80        0.096007       NaN   \n1                   50                80        0.096007       NaN   \n2                   50                80        0.096007       NaN   \n3                   50                80        0.096007       NaN   \n4                   50                80        0.096007       NaN   \n\n    rs11552449  rs11249433  rs12405132  rs12048493  rs6678914  rs4245739  ...  \\\nid                                                                        ...   \n0          NaN         NaN         NaN         NaN        NaN        NaN  ...   \n1          NaN         NaN         NaN         NaN        NaN        NaN  ...   \n2          NaN         NaN         NaN         NaN        NaN        NaN  ...   \n3          NaN         NaN         NaN         NaN        NaN        NaN  ...   \n4          NaN         NaN         NaN         NaN        NaN        NaN  ...   \n\n    rs527616  rs1436904  rs6507583  rs4808801  rs3760982  rs2284378  \\\nid                                                                    \n0        NaN        NaN        NaN        NaN        NaN        NaN   \n1        NaN        NaN        NaN        NaN        NaN        NaN   \n2        NaN        NaN        NaN        NaN        NaN        NaN   \n3        NaN        NaN        NaN        NaN        NaN        NaN   \n4        NaN        NaN        NaN        NaN        NaN        NaN   \n\n    rs2823093  rs17879961  rs132390  rs6001930  \nid                                              \n0         NaN         NaN       NaN        NaN  \n1         NaN         NaN       NaN        NaN  \n2         NaN         NaN       NaN        NaN  \n3         NaN         NaN       NaN        NaN  \n4         NaN         NaN       NaN        NaN  \n\n[5 rows x 75 columns]",
      "text/html": "<div>\n<style scoped>\n    .dataframe tbody tr th:only-of-type {\n        vertical-align: middle;\n    }\n\n    .dataframe tbody tr th {\n        vertical-align: top;\n    }\n\n    .dataframe thead th {\n        text-align: right;\n    }\n</style>\n<table border=\"1\" class=\"dataframe\">\n  <thead>\n    <tr style=\"text-align: right;\">\n      <th></th>\n      <th>age_interval_start</th>\n      <th>age_interval_end</th>\n      <th>risk_estimates</th>\n      <th>rs616488</th>\n      <th>rs11552449</th>\n      <th>rs11249433</th>\n      <th>rs12405132</th>\n      <th>rs12048493</th>\n      <th>rs6678914</th>\n      <th>rs4245739</th>\n      <th>...</th>\n      <th>rs527616</th>\n      <th>rs1436904</th>\n      <th>rs6507583</th>\n      <th>rs4808801</th>\n      <th>rs3760982</th>\n      <th>rs2284378</th>\n      <th>rs2823093</th>\n      <th>rs17879961</th>\n      <th>rs132390</th>\n      <th>rs6001930</th>\n    </tr>\n    <tr>\n      <th>id</th>\n      <th></th>\n      <th></th>\n      <th></th>\n      <th></th>\n      <th></th>\n      <th></th>\n      <th></th>\n      <th></th>\n      <th></th>\n      <th></th>\n      <th></th>\n      <th></th>\n      <th></th>\n      <th></th>\n      <th></th>\n      <th></th>\n      <th></th>\n      <th></th>\n      <th></th>\n      <th></th>\n      <th></th>\n    </tr>\n  </thead>\n  <tbody>\n    <tr>\n      <th>0</th>\n      <td>50</td>\n      <td>80</td>\n      <td>0.096007</td>\n      <td>NaN</td>\n      <td>NaN</td>\n      <td>NaN</td>\n      <td>NaN</td>\n      <td>NaN</td>\n      <td>NaN</td>\n      <td>NaN</td>\n      <td>...</td>\n      <td>NaN</td>\n      <td>NaN</td>\n      <td>NaN</td>\n      <td>NaN</td>\n      <td>NaN</td>\n      <td>NaN</td>\n      <td>NaN</td>\n      <td>NaN</td>\n      <td>NaN</td>\n      <td>NaN</td>\n    </tr>\n    <tr>\n      <th>1</th>\n      <td>50</td>\n      <td>80</td>\n      <td>0.096007</td>\n      <td>NaN</td>\n      <td>NaN</td>\n      <td>NaN</td>\n      <td>NaN</td>\n      <td>NaN</td>\n      <td>NaN</td>\n      <td>NaN</td>\n      <td>...</td>\n      <td>NaN</td>\n      <td>NaN</td>\n      <td>NaN</td>\n      <td>NaN</td>\n      <td>NaN</td>\n      <td>NaN</td>\n      <td>NaN</td>\n      <td>NaN</td>\n      <td>NaN</td>\n      <td>NaN</td>\n    </tr>\n    <tr>\n      <th>2</th>\n      <td>50</td>\n      <td>80</td>\n      <td>0.096007</td>\n      <td>NaN</td>\n      <td>NaN</td>\n      <td>NaN</td>\n      <td>NaN</td>\n      <td>NaN</td>\n      <td>NaN</td>\n      <td>NaN</td>\n      <td>...</td>\n      <td>NaN</td>\n      <td>NaN</td>\n      <td>NaN</td>\n      <td>NaN</td>\n      <td>NaN</td>\n      <td>NaN</td>\n      <td>NaN</td>\n      <td>NaN</td>\n      <td>NaN</td>\n      <td>NaN</td>\n    </tr>\n    <tr>\n      <th>3</th>\n      <td>50</td>\n      <td>80</td>\n      <td>0.096007</td>\n      <td>NaN</td>\n      <td>NaN</td>\n      <td>NaN</td>\n      <td>NaN</td>\n      <td>NaN</td>\n      <td>NaN</td>\n      <td>NaN</td>\n      <td>...</td>\n      <td>NaN</td>\n      <td>NaN</td>\n      <td>NaN</td>\n      <td>NaN</td>\n      <td>NaN</td>\n      <td>NaN</td>\n      <td>NaN</td>\n      <td>NaN</td>\n      <td>NaN</td>\n      <td>NaN</td>\n    </tr>\n    <tr>\n      <th>4</th>\n      <td>50</td>\n      <td>80</td>\n      <td>0.096007</td>\n      <td>NaN</td>\n      <td>NaN</td>\n      <td>NaN</td>\n      <td>NaN</td>\n      <td>NaN</td>\n      <td>NaN</td>\n      <td>NaN</td>\n      <td>...</td>\n      <td>NaN</td>\n      <td>NaN</td>\n      <td>NaN</td>\n      <td>NaN</td>\n      <td>NaN</td>\n      <td>NaN</td>\n      <td>NaN</td>\n      <td>NaN</td>\n      <td>NaN</td>\n      <td>NaN</td>\n    </tr>\n  </tbody>\n</table>\n<p>5 rows × 75 columns</p>\n</div>"
     },
     "execution_count": 10,
     "metadata": {},
     "output_type": "execute_result"
    }
   ],
   "source": [
    "profiles = pd.read_json(results[\"profile\"], orient=\"records\")\n",
    "profiles.set_index(\"id\", inplace=True)\n",
    "profiles.head()"
   ],
   "metadata": {
    "collapsed": false,
    "ExecuteTime": {
     "end_time": "2023-05-24T01:46:31.458624Z",
     "start_time": "2023-05-24T01:46:31.350971Z"
    }
   }
  },
  {
   "cell_type": "markdown",
   "source": [
    "Note that since all SNPs were missing, iCARE assigns each of their risks equal to the mean of the risks of the reference population:"
   ],
   "metadata": {
    "collapsed": false
   }
  },
  {
   "cell_type": "markdown",
   "source": [
    "Since iCARE generated profiles with missing values for all SNPs, no imputation is done. Instead, each individual is assigned an estimated risk corresponding to the mean estimated risk of the reference population. We can see below that this value is `0.096` for all profiles:"
   ],
   "metadata": {
    "collapsed": false
   }
  },
  {
   "cell_type": "code",
   "execution_count": 11,
   "outputs": [
    {
     "data": {
      "text/plain": "count    10000.000000\nmean         0.096007\nstd          0.000000\nmin          0.096007\n25%          0.096007\n50%          0.096007\n75%          0.096007\nmax          0.096007\nName: risk_estimates, dtype: object"
     },
     "execution_count": 11,
     "metadata": {},
     "output_type": "execute_result"
    }
   ],
   "source": [
    "profiles[\"risk_estimates\"].describe().apply(lambda x: format(x, 'f'))"
   ],
   "metadata": {
    "collapsed": false,
    "ExecuteTime": {
     "end_time": "2023-05-24T01:46:33.656635Z",
     "start_time": "2023-05-24T01:46:33.648097Z"
    }
   }
  },
  {
   "cell_type": "markdown",
   "source": [
    "Using the special SNP option, iCARE simulated the reference population from the minor allele frequencies provided in the SNP information file. The population estimated risks are stored in the `reference_risks` key. It contains a list of dictionaries, one per unique combination of age intervals. Since, we calculated the risks for the interval from age 50 to 80 for all individuals, there is only one dictionary in the list:"
   ],
   "metadata": {
    "collapsed": false
   }
  },
  {
   "cell_type": "code",
   "execution_count": 12,
   "outputs": [
    {
     "name": "stdout",
     "output_type": "stream",
     "text": [
      "Number of unique age intervals: 1\n",
      "Keys in the reference_risks dictionary: dict_keys(['age_interval_start', 'age_interval_end', 'population_risks'])\n"
     ]
    }
   ],
   "source": [
    "reference_risks = results[\"reference_risks\"]\n",
    "print(f\"Number of unique age intervals: {len(reference_risks)}\")\n",
    "print(f\"Keys in the reference_risks dictionary: {reference_risks[0].keys()}\")"
   ],
   "metadata": {
    "collapsed": false,
    "ExecuteTime": {
     "end_time": "2023-05-24T01:46:35.913761Z",
     "start_time": "2023-05-24T01:46:35.906096Z"
    }
   }
  },
  {
   "cell_type": "markdown",
   "source": [
    "We can calculate the summary statistics of the reference population risks as shown below. We can see that the population mean risk is `0.096`, same as the one assigned for each individual for the empty profiles above."
   ],
   "metadata": {
    "collapsed": false
   }
  },
  {
   "cell_type": "code",
   "execution_count": 13,
   "outputs": [
    {
     "data": {
      "text/plain": "count    10000.000000\nmean         0.096007\nstd          0.013519\nmin          0.059336\n25%          0.086668\n50%          0.094815\n75%          0.104350\nmax          0.177947\ndtype: object"
     },
     "execution_count": 13,
     "metadata": {},
     "output_type": "execute_result"
    }
   ],
   "source": [
    "pd.Series(reference_risks[0][\"population_risks\"]).describe().apply(lambda x: format(x, 'f'))"
   ],
   "metadata": {
    "collapsed": false,
    "ExecuteTime": {
     "end_time": "2023-05-24T01:46:37.228912Z",
     "start_time": "2023-05-24T01:46:37.223978Z"
    }
   }
  },
  {
   "cell_type": "markdown",
   "source": [
    "From this, we learn that on average women of age 50 years have about `9.6%` chance of being diagnosed with breast cancer before age 80. The 72-SNP model stratifies breast cancer risk from a minimum risk of `5.93%` to a maximum risk of `17.79%` in the age interval 50-80 years.\n",
    "\n",
    "Let us plot the simulated population risk distribution:"
   ],
   "metadata": {
    "collapsed": false
   }
  },
  {
   "cell_type": "code",
   "execution_count": 14,
   "outputs": [
    {
     "data": {
      "text/plain": "<Figure size 640x480 with 1 Axes>",
      "image/png": "[encoded data removed]"
     },
     "metadata": {},
     "output_type": "display_data"
    }
   ],
   "source": [
    "# Density plot of the simulated reference population\n",
    "sns.kdeplot(reference_risks[0][\"population_risks\"], bw_adjust=0.5, color=\"black\", fill=True, alpha=0.3, linewidth=1.5, facecolor=\"lightblue\")\n",
    "plt.xlim(0.04, 0.18)\n",
    "plt.xlabel(\"Absolute risk of breast cancer\")\n",
    "plt.title(\"Simulated referent SNP-only risk distribution: ages 50-80 years\")\n",
    "\n",
    "plt.show()"
   ],
   "metadata": {
    "collapsed": false,
    "ExecuteTime": {
     "end_time": "2023-05-24T01:46:38.700830Z",
     "start_time": "2023-05-24T01:46:38.499803Z"
    }
   }
  },
  {
   "cell_type": "markdown",
   "source": [
    "Now, suppose we want to apply the absolute risk model to predict the risks for three specific women whom we have genotyped information (with some missing SNP values). An example of such a profile is provided at `query_snp_profile.csv`. Note that it contains missing values, which will be imputed by iCARE."
   ],
   "metadata": {
    "collapsed": false
   }
  },
  {
   "cell_type": "code",
   "execution_count": 15,
   "outputs": [],
   "source": [
    "apply_snp_profile_path = \"../../data/query_snp_profile.csv\""
   ],
   "metadata": {
    "collapsed": false,
    "ExecuteTime": {
     "end_time": "2023-05-24T01:46:40.352883Z",
     "start_time": "2023-05-24T01:46:40.349250Z"
    }
   }
  },
  {
   "cell_type": "markdown",
   "source": [
    "We pass this option into iCARE to calculate their risks:"
   ],
   "metadata": {
    "collapsed": false
   }
  },
  {
   "cell_type": "code",
   "execution_count": 16,
   "outputs": [
    {
     "name": "stdout",
     "output_type": "stream",
     "text": [
      "\n",
      "Note: You did not provide a 'model_family_history_variable_name', therefore the model will not adjust the SNP imputations for family history.\n",
      "\n"
     ]
    }
   ],
   "source": [
    "results_with_profiles = icare.compute_absolute_risk(\n",
    "    apply_age_start=50,\n",
    "    apply_age_interval_length=30,  # 50 + 30 = 80\n",
    "    model_disease_incidence_rates_path=model_disease_incidence_rates_path,\n",
    "    model_competing_incidence_rates_path=model_competing_incidence_rates_path,\n",
    "    model_snp_info_path=model_snp_info_path,\n",
    "    apply_snp_profile_path=apply_snp_profile_path,  # profiles to apply the risk model to\n",
    "    return_reference_risks=True  # return the absolute risks for the simulated reference population\n",
    ")"
   ],
   "metadata": {
    "collapsed": false,
    "ExecuteTime": {
     "end_time": "2023-05-24T01:46:41.800762Z",
     "start_time": "2023-05-24T01:46:41.407615Z"
    }
   }
  },
  {
   "cell_type": "markdown",
   "source": [
    "Now our output `results_with_profiles[\"profile\"]` contains the risk estimates (column name: `risk_estimates`) for the three women whose genotype profiles were provided in `apply_snp_profile_path`."
   ],
   "metadata": {
    "collapsed": false
   }
  },
  {
   "cell_type": "code",
   "execution_count": 17,
   "outputs": [
    {
     "data": {
      "text/plain": "      age_interval_start  age_interval_end  risk_estimates  rs616488  \\\nid                                                                     \nQ-01                  50                80        0.087105       NaN   \nQ-02                  50                80        0.104761       2.0   \nQ-03                  50                80        0.134614       2.0   \n\n      rs11552449  rs11249433  rs12405132  rs12048493  rs6678914  rs4245739  \\\nid                                                                           \nQ-01         NaN         NaN         NaN         NaN        0.0        0.0   \nQ-02         0.0         NaN         NaN         NaN        NaN        NaN   \nQ-03         0.0         1.0         1.0         1.0        1.0        1.0   \n\n      ...  rs527616  rs1436904  rs6507583  rs4808801  rs3760982  rs2284378  \\\nid    ...                                                                    \nQ-01  ...         0          0          0          1          0          1   \nQ-02  ...         0          0          0          1          1          1   \nQ-03  ...         1          1          0          1          1          0   \n\n      rs2823093  rs17879961  rs132390  rs6001930  \nid                                                \nQ-01          1           0         0          0  \nQ-02          0           0         0          0  \nQ-03          0           0         0          0  \n\n[3 rows x 75 columns]",
      "text/html": "<div>\n<style scoped>\n    .dataframe tbody tr th:only-of-type {\n        vertical-align: middle;\n    }\n\n    .dataframe tbody tr th {\n        vertical-align: top;\n    }\n\n    .dataframe thead th {\n        text-align: right;\n    }\n</style>\n<table border=\"1\" class=\"dataframe\">\n  <thead>\n    <tr style=\"text-align: right;\">\n      <th></th>\n      <th>age_interval_start</th>\n      <th>age_interval_end</th>\n      <th>risk_estimates</th>\n      <th>rs616488</th>\n      <th>rs11552449</th>\n      <th>rs11249433</th>\n      <th>rs12405132</th>\n      <th>rs12048493</th>\n      <th>rs6678914</th>\n      <th>rs4245739</th>\n      <th>...</th>\n      <th>rs527616</th>\n      <th>rs1436904</th>\n      <th>rs6507583</th>\n      <th>rs4808801</th>\n      <th>rs3760982</th>\n      <th>rs2284378</th>\n      <th>rs2823093</th>\n      <th>rs17879961</th>\n      <th>rs132390</th>\n      <th>rs6001930</th>\n    </tr>\n    <tr>\n      <th>id</th>\n      <th></th>\n      <th></th>\n      <th></th>\n      <th></th>\n      <th></th>\n      <th></th>\n      <th></th>\n      <th></th>\n      <th></th>\n      <th></th>\n      <th></th>\n      <th></th>\n      <th></th>\n      <th></th>\n      <th></th>\n      <th></th>\n      <th></th>\n      <th></th>\n      <th></th>\n      <th></th>\n      <th></th>\n    </tr>\n  </thead>\n  <tbody>\n    <tr>\n      <th>Q-01</th>\n      <td>50</td>\n      <td>80</td>\n      <td>0.087105</td>\n      <td>NaN</td>\n      <td>NaN</td>\n      <td>NaN</td>\n      <td>NaN</td>\n      <td>NaN</td>\n      <td>0.0</td>\n      <td>0.0</td>\n      <td>...</td>\n      <td>0</td>\n      <td>0</td>\n      <td>0</td>\n      <td>1</td>\n      <td>0</td>\n      <td>1</td>\n      <td>1</td>\n      <td>0</td>\n      <td>0</td>\n      <td>0</td>\n    </tr>\n    <tr>\n      <th>Q-02</th>\n      <td>50</td>\n      <td>80</td>\n      <td>0.104761</td>\n      <td>2.0</td>\n      <td>0.0</td>\n      <td>NaN</td>\n      <td>NaN</td>\n      <td>NaN</td>\n      <td>NaN</td>\n      <td>NaN</td>\n      <td>...</td>\n      <td>0</td>\n      <td>0</td>\n      <td>0</td>\n      <td>1</td>\n      <td>1</td>\n      <td>1</td>\n      <td>0</td>\n      <td>0</td>\n      <td>0</td>\n      <td>0</td>\n    </tr>\n    <tr>\n      <th>Q-03</th>\n      <td>50</td>\n      <td>80</td>\n      <td>0.134614</td>\n      <td>2.0</td>\n      <td>0.0</td>\n      <td>1.0</td>\n      <td>1.0</td>\n      <td>1.0</td>\n      <td>1.0</td>\n      <td>1.0</td>\n      <td>...</td>\n      <td>1</td>\n      <td>1</td>\n      <td>0</td>\n      <td>1</td>\n      <td>1</td>\n      <td>0</td>\n      <td>0</td>\n      <td>0</td>\n      <td>0</td>\n      <td>0</td>\n    </tr>\n  </tbody>\n</table>\n<p>3 rows × 75 columns</p>\n</div>"
     },
     "execution_count": 17,
     "metadata": {},
     "output_type": "execute_result"
    }
   ],
   "source": [
    "queried_profiles = pd.read_json(results_with_profiles[\"profile\"], orient=\"records\")\n",
    "queried_profiles.set_index(\"id\", inplace=True)\n",
    "queried_profiles"
   ],
   "metadata": {
    "collapsed": false,
    "ExecuteTime": {
     "end_time": "2023-05-24T01:46:42.869980Z",
     "start_time": "2023-05-24T01:46:42.868015Z"
    }
   }
  },
  {
   "cell_type": "markdown",
   "source": [
    "In this example, the first genotype profile had missing data on five SNPs. The second genotype profile had missing data on a different set of five SNPs. This demonstrates the capability of iCARE to produce risk estimates when there is missing data in the risk factor profile without compromising on user convenience.\n",
    "\n",
    "We can plot the estimated risks of the queried profiles and compare them to the risk distribution of the simulated reference population:"
   ],
   "metadata": {
    "collapsed": false
   }
  },
  {
   "cell_type": "code",
   "execution_count": 18,
   "outputs": [
    {
     "data": {
      "text/plain": "<Figure size 640x480 with 1 Axes>",
      "image/png": "[encoded data removed]"
     },
     "metadata": {},
     "output_type": "display_data"
    }
   ],
   "source": [
    "# Density plot of the simulated reference population\n",
    "sns.kdeplot(results_with_profiles[\"reference_risks\"][0][\"population_risks\"], bw_adjust=0.5, color=\"black\", fill=True, alpha=0.3, linewidth=1.5, facecolor=\"lightblue\")\n",
    "plt.xlim(0.04, 0.18)\n",
    "plt.xlabel(\"Absolute risk of breast cancer\")\n",
    "plt.title(\"Simulated referent SNP-only risk distribution: ages 50-80 years\")\n",
    "\n",
    "# Add a vertical red line, one for each queried profile\n",
    "for risk_value in queried_profiles[\"risk_estimates\"]:\n",
    "    plt.axvline(risk_value, color=\"red\")\n",
    "\n",
    "plt.legend([\"Queried profiles\"], loc=\"upper right\")\n",
    "\n",
    "plt.show()"
   ],
   "metadata": {
    "collapsed": false,
    "ExecuteTime": {
     "end_time": "2023-05-24T01:46:48.134312Z",
     "start_time": "2023-05-24T01:46:48.021378Z"
    }
   }
  }
 ],
 "metadata": {
  "kernelspec": {
   "display_name": "Python 3",
   "language": "python",
   "name": "python3"
  },
  "language_info": {
   "codemirror_mode": {
    "name": "ipython",
    "version": 2
   },
   "file_extension": ".py",
   "mimetype": "text/x-python",
   "name": "python",
   "nbconvert_exporter": "python",
   "pygments_lexer": "ipython2",
   "version": "2.7.6"
  }
 },
 "nbformat": 4,
 "nbformat_minor": 0
}
