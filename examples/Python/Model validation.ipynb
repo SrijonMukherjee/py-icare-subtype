{
 "cells": [
  {
   "cell_type": "markdown",
   "source": [
    "[![Open In Colab](https://colab.research.google.com/assets/colab-badge.svg)](https://colab.research.google.com/github/jeyabbalas/py-icare/blob/master/examples/Python/Model%20validation.ipynb)\n",
    "\n",
    "# Model validation\n",
    "\n",
    "In this example, we will demonstrate the use of iCARE to validate an absolute risk model on an independent cohort that was not used for model building. Using simulated data, we will evaluate a risk model containing both classical risk factors and SNPs. iCARE can be used for validating on either a cohort study dataset or a dataset from a case-control study nested within a cohort study. We will demonstrate the latter use-case here because it involves a few more steps than evaluating on a cohort study. Throughout the notebook, we will comment on how to validate on cohort study data differently than the nested case-control data scenario."
   ],
   "metadata": {
    "collapsed": false
   }
  },
  {
   "cell_type": "code",
   "execution_count": null,
   "metadata": {
    "collapsed": true
   },
   "outputs": [],
   "source": [
    "! pip install icare --quiet"
   ]
  },
  {
   "cell_type": "code",
   "execution_count": 1,
   "outputs": [],
   "source": [
    "import json\n",
    "import pathlib\n",
    "\n",
    "import pandas as pd\n",
    "import matplotlib.pyplot as plt\n",
    "import requests\n",
    "import seaborn as sns\n",
    "import statsmodels.formula.api as smf\n",
    "import statsmodels.api as sm\n",
    "\n",
    "import icare\n",
    "\n",
    "\n",
    "# Set the plot background to white\n",
    "sns.set(style=\"whitegrid\", rc={\"axes.facecolor\": \"white\", \"grid.color\": \"white\"})\n",
    "seed = 1234"
   ],
   "metadata": {
    "collapsed": false,
    "ExecuteTime": {
     "end_time": "2023-05-27T05:25:15.199546Z",
     "start_time": "2023-05-27T05:25:14.731749Z"
    }
   }
  },
  {
   "cell_type": "markdown",
   "source": [
    "We have provided an example, simulated cohort study data at: [`validation_cohort_data.csv`](https://github.com/jeyabbalas/py-icare/blob/master/data/validation_cohort_data.csv). There are 50,000 women in this dataset with information on their: the classical risk factors (`family_history`, `age_at_menarche`, `parity`, `age_at_first_child_birth`, `age_at_menopause`, `height`, `bmi`, `menopause_hrt`, `menopause_hrt_e`, `menopause_hrt_c`, `current_hrt`, `alcohol_consumption`, `smoking_status`), age at study entry (`study_entry_age`), age at study exit (`study_exit_age`), disease status (`observed_outcome`), and time to disease onset (`time_of_onset`). We have also provided an `inclusion` variable that indicates if the individual was included in the subsequent nested case-control study. This is a common scenario in modern cohort studies, where expensive markers such as genetic factors are not measured for all the individuals in the cohort, but only for a judiciously selected sub-sample. These individuals compose the nested case-control dataset provided at: [`validation_nested_case_control_data.csv`](https://github.com/jeyabbalas/py-icare/blob/master/data/validation_nested_case_control_data.csv). This dataset consists of 5,285 women with information on: the classical risk factors measured during the earlier phase of the cohort study, age at study entry (`study_entry_age`), age at study exit (`study_exit_age`), disease status (`observed_outcome`), time to disease onset (`time_of_onset`), and additionally 72 breast cancer-associated SNPs that were not measured for the rest of the individuals in the cohort study. We will use this nested case-control study dataset to validate our absolute risk model.\n",
    "\n",
    "The dependencies for building the iCARE model that is being validated is similar to the notebooks describing how to build and apply absolute risk models using iCARE. To specify a covariate model in iCARE, we need to provide: 1) a text file containing the covariate model formula description using the [Patsy formula language](https://patsy.readthedocs.io/en/latest/formulas.html) (`model_covariate_formula_path`), 2) the breast cancer log odds ratios associated with each risk factor in the covariate model (`model_log_relative_risk_path`), 3) a reference dataset describing the distribution of the classical risk factors in the underlying population (`model_reference_dataset_path`), 4) a set of profiles, specifying the classical risk factors of individuals for whom, the absolute risk is to be estimated (`apply_covariate_profile_path`), 5) the marginal age-specific incidence rates of breast cancer (`model_disease_incidence_rates_path`), and 6) optionally, the age-specific incidence rates of competing risks (`model_competing_incidence_rates_path`). We include them in this example.\n",
    "\n",
    "To specify a SNP model using the special option, we must additionally input files containing: 1) the SNP information (`model_snp_info_path`), that has three columns named `snp_name`, `snp_odds_ratio`, and `snp_freq` corresponding to the SNP name, their odds ratios in association with breast cancer risk, and their minor allele frequencies, respectively, and 2) a set of profiles, specifying the SNPs of individuals (same as those specified in the covariate profile) for whom, the absolute risk is to be estimated (`apply_snp_profile_path`).\n",
    "\n",
    "The covariate model described in the file specified below is based on a logistic regression model adjusted for cohort and fine categories of age in the Breast and Prostate Cancer Cohort Consortium ([Campa et al. 2011](https://pubmed.ncbi.nlm.nih.gov/21791674/), [Joshi et al. 2014](https://pubmed.ncbi.nlm.nih.gov/25255808/), and [Maas et al. 2016](https://pubmed.ncbi.nlm.nih.gov/27228256/)). The reference dataset was created by simulation from [the National Health Interview Survey (NHIS)](ftp://ftp.cdc.gov/pub/Health_Statistics/NCHS/Dataset_Documentation/NHIS/2010/srvydesc.pdf) and [the National Health and Nutrition Examination Survey (NHANES)](https://wwwn.cdc.gov/nchs/nhanes/default.aspx), which are representative of the US population. `breast_cancer_72_snps_info.csv` contains published information on the odds-ratios and allele frequencies of 72 SNPs identified, among a larger set of markers, to be associated with breast cancer risk by [a recent genome-wide association study](https://www.nature.com/articles/nature24284) (Michailidou et al., 2017). `age_specific_breast_cancer_incidence_rates.csv` contains age-specific incidence rates of breast cancer from [Surveillance, Epidemiology and End Results (SEER) Program](https://seer.cancer.gov/), and `age_specific_all_cause_mortality_rates.csv` has age-specific incidence rates of all-cause mortality from [the CDC WONDER database](https://wonder.cdc.gov/). We indicate `model_family_history_variable_name = \"family_history\"` to allow the software to properly attenuate the log odds ratio for family history to account for the addition of the 72 SNPs."
   ],
   "metadata": {
    "collapsed": false
   }
  },
  {
   "cell_type": "code",
   "execution_count": 2,
   "outputs": [],
   "source": [
    "# Data files URLs\n",
    "github_source = \"https://raw.githubusercontent.com/jeyabbalas/py-icare/master/data/\"\n",
    "\n",
    "validation_cohort_data_url = github_source + \"validation_cohort_data.csv\"\n",
    "validation_nested_case_control_data_url = github_source + \"validation_nested_case_control_data.csv\"\n",
    "\n",
    "model_covariate_formula_url = github_source + \"breast_cancer_covariate_model_formula.txt\"\n",
    "model_log_relative_risk_url = github_source + \"breast_cancer_model_log_odds_ratios.json\"\n",
    "model_reference_dataset_url = github_source + \"reference_covariate_data.csv\"\n",
    "model_snp_info_url = github_source + \"breast_cancer_72_snps_info.csv\"\n",
    "model_disease_incidence_rates_url = github_source + \"age_specific_breast_cancer_incidence_rates.csv\"\n",
    "model_competing_incidence_rates_url = github_source + \"age_specific_all_cause_mortality_rates.csv\""
   ],
   "metadata": {
    "collapsed": false,
    "ExecuteTime": {
     "end_time": "2023-05-27T05:25:15.202668Z",
     "start_time": "2023-05-27T05:25:15.200417Z"
    }
   }
  },
  {
   "cell_type": "code",
   "execution_count": 3,
   "outputs": [],
   "source": [
    "# Data will be downloaded here\n",
    "data_dir = pathlib.Path(\"data\")\n",
    "data_dir.mkdir(exist_ok=True)\n",
    "\n",
    "validation_cohort_data_path = data_dir / \"validation_cohort_data.csv\"\n",
    "validation_nested_case_control_data_path = data_dir / \"validation_nested_case_control_data.csv\"\n",
    "\n",
    "model_covariate_formula_path = data_dir / \"breast_cancer_covariate_model_formula.txt\"\n",
    "model_log_relative_risk_path = data_dir / \"breast_cancer_model_log_odds_ratios.json\"\n",
    "model_reference_dataset_path = data_dir / \"reference_covariate_data.csv\"\n",
    "model_snp_info_path = data_dir / \"breast_cancer_72_snps_info.csv\"\n",
    "model_disease_incidence_rates_path = data_dir / \"age_specific_breast_cancer_incidence_rates.csv\"\n",
    "model_competing_incidence_rates_path = data_dir / \"age_specific_all_cause_mortality_rates.csv\""
   ],
   "metadata": {
    "collapsed": false,
    "ExecuteTime": {
     "end_time": "2023-05-27T05:25:15.211811Z",
     "start_time": "2023-05-27T05:25:15.203568Z"
    }
   }
  },
  {
   "cell_type": "code",
   "execution_count": 4,
   "outputs": [
    {
     "name": "stdout",
     "output_type": "stream",
     "text": [
      "Downloading https://raw.githubusercontent.com/jeyabbalas/py-icare/master/data/validation_cohort_data.csv to data/validation_cohort_data.csv\n",
      "Downloading https://raw.githubusercontent.com/jeyabbalas/py-icare/master/data/validation_nested_case_control_data.csv to data/validation_nested_case_control_data.csv\n",
      "Downloading https://raw.githubusercontent.com/jeyabbalas/py-icare/master/data/breast_cancer_covariate_model_formula.txt to data/breast_cancer_covariate_model_formula.txt\n",
      "Downloading https://raw.githubusercontent.com/jeyabbalas/py-icare/master/data/breast_cancer_model_log_odds_ratios.json to data/breast_cancer_model_log_odds_ratios.json\n",
      "Downloading https://raw.githubusercontent.com/jeyabbalas/py-icare/master/data/reference_covariate_data.csv to data/reference_covariate_data.csv\n",
      "Downloading https://raw.githubusercontent.com/jeyabbalas/py-icare/master/data/breast_cancer_72_snps_info.csv to data/breast_cancer_72_snps_info.csv\n",
      "Downloading https://raw.githubusercontent.com/jeyabbalas/py-icare/master/data/age_specific_breast_cancer_incidence_rates.csv to data/age_specific_breast_cancer_incidence_rates.csv\n",
      "Downloading https://raw.githubusercontent.com/jeyabbalas/py-icare/master/data/age_specific_all_cause_mortality_rates.csv to data/age_specific_all_cause_mortality_rates.csv\n"
     ]
    }
   ],
   "source": [
    "for url, path in zip(\n",
    "    [\n",
    "        validation_cohort_data_url,\n",
    "        validation_nested_case_control_data_url,\n",
    "        model_covariate_formula_url,\n",
    "        model_log_relative_risk_url,\n",
    "        model_reference_dataset_url,\n",
    "        model_snp_info_url,\n",
    "        model_disease_incidence_rates_url,\n",
    "        model_competing_incidence_rates_url,\n",
    "    ],\n",
    "    [\n",
    "        validation_cohort_data_path,\n",
    "        validation_nested_case_control_data_path,\n",
    "        model_covariate_formula_path,\n",
    "        model_log_relative_risk_path,\n",
    "        model_reference_dataset_path,\n",
    "        model_snp_info_path,\n",
    "        model_disease_incidence_rates_path,\n",
    "        model_competing_incidence_rates_path,\n",
    "    ],\n",
    "):\n",
    "    print(f\"Downloading {url} to {path}\")\n",
    "    response = requests.get(url)\n",
    "    response.raise_for_status()\n",
    "    with open(path, \"wb\") as f:\n",
    "        f.write(response.content)"
   ],
   "metadata": {
    "collapsed": false,
    "ExecuteTime": {
     "end_time": "2023-05-27T05:25:18.224373Z",
     "start_time": "2023-05-27T05:25:15.206660Z"
    }
   }
  },
  {
   "cell_type": "markdown",
   "source": [
    "The provided nested case-control study dataset contains an additional variable, `sampling_weights`, which is the probability that the individual was included in the nested case-control study from the cohort study. This variable is required for model validation using nested case-control study data because the calibration and discrimination statistics need to be adjusted for non-random sampling using the sampling weights.\n",
    "\n",
    "Note that if you were working with a cohort study data instead of a nested case-control study data, you don't need to provide sampling weights. So, the steps until the sub-heading 'Model validation' should be skipped."
   ],
   "metadata": {
    "collapsed": false
   }
  },
  {
   "cell_type": "code",
   "execution_count": 5,
   "outputs": [
    {
     "data": {
      "text/plain": "id\n12    0.542398\n31    0.095349\n32    0.097969\n58    0.143073\n64    0.108129\nName: sampling_weights, dtype: float64"
     },
     "execution_count": 5,
     "metadata": {},
     "output_type": "execute_result"
    }
   ],
   "source": [
    "validation_nested_case_control_data = pd.read_csv(\n",
    "    validation_nested_case_control_data_path\n",
    ").set_index(\"id\")\n",
    "validation_nested_case_control_data[\"sampling_weights\"].head()"
   ],
   "metadata": {
    "collapsed": false,
    "ExecuteTime": {
     "end_time": "2023-05-27T05:25:18.259765Z",
     "start_time": "2023-05-27T05:25:18.222405Z"
    }
   }
  },
  {
   "cell_type": "markdown",
   "source": [
    "However, the `sampling_weights` may not always be available. In this notebook, we assume that this variable is not available, and we will show you how to calculate it from the cohort study dataset. When sampling weights are not provided, we recommend using a post-hoc estimation by assuming parametric models for the selection mechanism. We illustrate the sampling weight calculation through a logistic regression model of inclusion on disease status, age of study entry, observed follow-up, and an interaction of disease status with age at study entry and observed follow-up."
   ],
   "metadata": {
    "collapsed": false
   }
  },
  {
   "cell_type": "code",
   "execution_count": 6,
   "outputs": [
    {
     "data": {
      "text/plain": "    family_history age_at_menarche parity age_at_first_child_birth  \\\nid                                                                   \n12               1           13-14    >=4                    30-34   \n31               0           12-13      0                     <=19   \n32               0           12-13      2                     <=19   \n58               0         11-11.5      2                    27-30   \n64               0           13-14      3                     <=19   \n\n   age_at_menopause     height        bmi  menopause_hrt  menopause_hrt_e  \\\nid                                                                          \n12            53-55  1.61-1.63     >=34.6              1                0   \n31             >=55  1.66-1.68    23-24.2              2                0   \n32            40-45  1.63-1.65  31.4-34.6              1                0   \n58            48-50  1.63-1.65  27.8-29.3              1                0   \n64            48-50  1.65-1.66  29.3-31.4              2                1   \n\n    menopause_hrt_c  ...  rs3760982 rs2284378 rs2823093  rs17879961  rs132390  \\\nid                   ...                                                        \n12                0  ...          0         0         1           0         0   \n31                1  ...          2         0         2           0         0   \n32                1  ...          0         1         1           0         1   \n58                0  ...          1         1         2           0         0   \n64                0  ...          1         2         0           0         0   \n\n    rs6001930  study_entry_age  study_exit_age  observed_outcome  \\\nid                                                                 \n12          0               67              73                 1   \n31          0               70              77                 0   \n32          1               64              74                 0   \n58          0               66              79                 0   \n64          0               64              75                 0   \n\n    time_of_onset  \nid                 \n12       0.012103  \n31            inf  \n32            inf  \n58            inf  \n64            inf  \n\n[5 rows x 89 columns]",
      "text/html": "<div>\n<style scoped>\n    .dataframe tbody tr th:only-of-type {\n        vertical-align: middle;\n    }\n\n    .dataframe tbody tr th {\n        vertical-align: top;\n    }\n\n    .dataframe thead th {\n        text-align: right;\n    }\n</style>\n<table border=\"1\" class=\"dataframe\">\n  <thead>\n    <tr style=\"text-align: right;\">\n      <th></th>\n      <th>family_history</th>\n      <th>age_at_menarche</th>\n      <th>parity</th>\n      <th>age_at_first_child_birth</th>\n      <th>age_at_menopause</th>\n      <th>height</th>\n      <th>bmi</th>\n      <th>menopause_hrt</th>\n      <th>menopause_hrt_e</th>\n      <th>menopause_hrt_c</th>\n      <th>...</th>\n      <th>rs3760982</th>\n      <th>rs2284378</th>\n      <th>rs2823093</th>\n      <th>rs17879961</th>\n      <th>rs132390</th>\n      <th>rs6001930</th>\n      <th>study_entry_age</th>\n      <th>study_exit_age</th>\n      <th>observed_outcome</th>\n      <th>time_of_onset</th>\n    </tr>\n    <tr>\n      <th>id</th>\n      <th></th>\n      <th></th>\n      <th></th>\n      <th></th>\n      <th></th>\n      <th></th>\n      <th></th>\n      <th></th>\n      <th></th>\n      <th></th>\n      <th></th>\n      <th></th>\n      <th></th>\n      <th></th>\n      <th></th>\n      <th></th>\n      <th></th>\n      <th></th>\n      <th></th>\n      <th></th>\n      <th></th>\n    </tr>\n  </thead>\n  <tbody>\n    <tr>\n      <th>12</th>\n      <td>1</td>\n      <td>13-14</td>\n      <td>&gt;=4</td>\n      <td>30-34</td>\n      <td>53-55</td>\n      <td>1.61-1.63</td>\n      <td>&gt;=34.6</td>\n      <td>1</td>\n      <td>0</td>\n      <td>0</td>\n      <td>...</td>\n      <td>0</td>\n      <td>0</td>\n      <td>1</td>\n      <td>0</td>\n      <td>0</td>\n      <td>0</td>\n      <td>67</td>\n      <td>73</td>\n      <td>1</td>\n      <td>0.012103</td>\n    </tr>\n    <tr>\n      <th>31</th>\n      <td>0</td>\n      <td>12-13</td>\n      <td>0</td>\n      <td>&lt;=19</td>\n      <td>&gt;=55</td>\n      <td>1.66-1.68</td>\n      <td>23-24.2</td>\n      <td>2</td>\n      <td>0</td>\n      <td>1</td>\n      <td>...</td>\n      <td>2</td>\n      <td>0</td>\n      <td>2</td>\n      <td>0</td>\n      <td>0</td>\n      <td>0</td>\n      <td>70</td>\n      <td>77</td>\n      <td>0</td>\n      <td>inf</td>\n    </tr>\n    <tr>\n      <th>32</th>\n      <td>0</td>\n      <td>12-13</td>\n      <td>2</td>\n      <td>&lt;=19</td>\n      <td>40-45</td>\n      <td>1.63-1.65</td>\n      <td>31.4-34.6</td>\n      <td>1</td>\n      <td>0</td>\n      <td>1</td>\n      <td>...</td>\n      <td>0</td>\n      <td>1</td>\n      <td>1</td>\n      <td>0</td>\n      <td>1</td>\n      <td>1</td>\n      <td>64</td>\n      <td>74</td>\n      <td>0</td>\n      <td>inf</td>\n    </tr>\n    <tr>\n      <th>58</th>\n      <td>0</td>\n      <td>11-11.5</td>\n      <td>2</td>\n      <td>27-30</td>\n      <td>48-50</td>\n      <td>1.63-1.65</td>\n      <td>27.8-29.3</td>\n      <td>1</td>\n      <td>0</td>\n      <td>0</td>\n      <td>...</td>\n      <td>1</td>\n      <td>1</td>\n      <td>2</td>\n      <td>0</td>\n      <td>0</td>\n      <td>0</td>\n      <td>66</td>\n      <td>79</td>\n      <td>0</td>\n      <td>inf</td>\n    </tr>\n    <tr>\n      <th>64</th>\n      <td>0</td>\n      <td>13-14</td>\n      <td>3</td>\n      <td>&lt;=19</td>\n      <td>48-50</td>\n      <td>1.65-1.66</td>\n      <td>29.3-31.4</td>\n      <td>2</td>\n      <td>1</td>\n      <td>0</td>\n      <td>...</td>\n      <td>1</td>\n      <td>2</td>\n      <td>0</td>\n      <td>0</td>\n      <td>0</td>\n      <td>0</td>\n      <td>64</td>\n      <td>75</td>\n      <td>0</td>\n      <td>inf</td>\n    </tr>\n  </tbody>\n</table>\n<p>5 rows × 89 columns</p>\n</div>"
     },
     "execution_count": 6,
     "metadata": {},
     "output_type": "execute_result"
    }
   ],
   "source": [
    "# drop the sampling_weights variable to show the scenario where it is not available\n",
    "validation_nested_case_control_data = validation_nested_case_control_data.drop(\n",
    "    columns=[\"sampling_weights\"]\n",
    ")\n",
    "validation_nested_case_control_data.head()"
   ],
   "metadata": {
    "collapsed": false,
    "ExecuteTime": {
     "end_time": "2023-05-27T05:25:18.273915Z",
     "start_time": "2023-05-27T05:25:18.259892Z"
    }
   }
  },
  {
   "cell_type": "code",
   "execution_count": 7,
   "outputs": [
    {
     "data": {
      "text/plain": "    family_history age_at_menarche parity age_at_first_child_birth  \\\nid                                                                   \n1                0           13-14      0                    19-22   \n2                0            >=15      0                    19-22   \n3                0            <=11      0                     <=19   \n4                0           13-14      2                    27-30   \n5                0           13-14      2                    30-34   \n\n   age_at_menopause     height        bmi  menopause_hrt  menopause_hrt_e  \\\nid                                                                          \n1             40-45  1.63-1.65     >=34.6              1                0   \n2              <=40  1.63-1.65  24.2-25.3              1                0   \n3             51-52     <=1.55     >=34.6              1                0   \n4             48-50  1.61-1.63  25.3-26.5              2                0   \n5              <=40  1.60-1.61  31.4-34.6              2                0   \n\n    menopause_hrt_c  current_hrt alcohol_consumption smoking_status  \\\nid                                                                    \n1                 0            0                none           ever   \n2                 0            0             0.8-1.5          never   \n3                 0            0                none           ever   \n4                 0            0             1.5-3.2          never   \n5                 0            0                none          never   \n\n    study_entry_age  study_exit_age  observed_outcome  time_of_onset  \nid                                                                    \n1                61              68                 0            inf  \n2                57              70                 0            inf  \n3                58              71                 0            inf  \n4                65              71                 0            inf  \n5                53              66                 0            inf  ",
      "text/html": "<div>\n<style scoped>\n    .dataframe tbody tr th:only-of-type {\n        vertical-align: middle;\n    }\n\n    .dataframe tbody tr th {\n        vertical-align: top;\n    }\n\n    .dataframe thead th {\n        text-align: right;\n    }\n</style>\n<table border=\"1\" class=\"dataframe\">\n  <thead>\n    <tr style=\"text-align: right;\">\n      <th></th>\n      <th>family_history</th>\n      <th>age_at_menarche</th>\n      <th>parity</th>\n      <th>age_at_first_child_birth</th>\n      <th>age_at_menopause</th>\n      <th>height</th>\n      <th>bmi</th>\n      <th>menopause_hrt</th>\n      <th>menopause_hrt_e</th>\n      <th>menopause_hrt_c</th>\n      <th>current_hrt</th>\n      <th>alcohol_consumption</th>\n      <th>smoking_status</th>\n      <th>study_entry_age</th>\n      <th>study_exit_age</th>\n      <th>observed_outcome</th>\n      <th>time_of_onset</th>\n    </tr>\n    <tr>\n      <th>id</th>\n      <th></th>\n      <th></th>\n      <th></th>\n      <th></th>\n      <th></th>\n      <th></th>\n      <th></th>\n      <th></th>\n      <th></th>\n      <th></th>\n      <th></th>\n      <th></th>\n      <th></th>\n      <th></th>\n      <th></th>\n      <th></th>\n      <th></th>\n    </tr>\n  </thead>\n  <tbody>\n    <tr>\n      <th>1</th>\n      <td>0</td>\n      <td>13-14</td>\n      <td>0</td>\n      <td>19-22</td>\n      <td>40-45</td>\n      <td>1.63-1.65</td>\n      <td>&gt;=34.6</td>\n      <td>1</td>\n      <td>0</td>\n      <td>0</td>\n      <td>0</td>\n      <td>none</td>\n      <td>ever</td>\n      <td>61</td>\n      <td>68</td>\n      <td>0</td>\n      <td>inf</td>\n    </tr>\n    <tr>\n      <th>2</th>\n      <td>0</td>\n      <td>&gt;=15</td>\n      <td>0</td>\n      <td>19-22</td>\n      <td>&lt;=40</td>\n      <td>1.63-1.65</td>\n      <td>24.2-25.3</td>\n      <td>1</td>\n      <td>0</td>\n      <td>0</td>\n      <td>0</td>\n      <td>0.8-1.5</td>\n      <td>never</td>\n      <td>57</td>\n      <td>70</td>\n      <td>0</td>\n      <td>inf</td>\n    </tr>\n    <tr>\n      <th>3</th>\n      <td>0</td>\n      <td>&lt;=11</td>\n      <td>0</td>\n      <td>&lt;=19</td>\n      <td>51-52</td>\n      <td>&lt;=1.55</td>\n      <td>&gt;=34.6</td>\n      <td>1</td>\n      <td>0</td>\n      <td>0</td>\n      <td>0</td>\n      <td>none</td>\n      <td>ever</td>\n      <td>58</td>\n      <td>71</td>\n      <td>0</td>\n      <td>inf</td>\n    </tr>\n    <tr>\n      <th>4</th>\n      <td>0</td>\n      <td>13-14</td>\n      <td>2</td>\n      <td>27-30</td>\n      <td>48-50</td>\n      <td>1.61-1.63</td>\n      <td>25.3-26.5</td>\n      <td>2</td>\n      <td>0</td>\n      <td>0</td>\n      <td>0</td>\n      <td>1.5-3.2</td>\n      <td>never</td>\n      <td>65</td>\n      <td>71</td>\n      <td>0</td>\n      <td>inf</td>\n    </tr>\n    <tr>\n      <th>5</th>\n      <td>0</td>\n      <td>13-14</td>\n      <td>2</td>\n      <td>30-34</td>\n      <td>&lt;=40</td>\n      <td>1.60-1.61</td>\n      <td>31.4-34.6</td>\n      <td>2</td>\n      <td>0</td>\n      <td>0</td>\n      <td>0</td>\n      <td>none</td>\n      <td>never</td>\n      <td>53</td>\n      <td>66</td>\n      <td>0</td>\n      <td>inf</td>\n    </tr>\n  </tbody>\n</table>\n</div>"
     },
     "execution_count": 7,
     "metadata": {},
     "output_type": "execute_result"
    }
   ],
   "source": [
    "validation_cohort_data = pd.read_csv(validation_cohort_data_path).set_index(\"id\")\n",
    "# assuming that the follow inclusion indicator and observed follow-up variables are not available\n",
    "validation_cohort_data = validation_cohort_data.drop(columns=[\"inclusion\", \"observed_followup\"])\n",
    "validation_cohort_data.head()"
   ],
   "metadata": {
    "collapsed": false,
    "ExecuteTime": {
     "end_time": "2023-05-27T05:25:18.402083Z",
     "start_time": "2023-05-27T05:25:18.273250Z"
    }
   }
  },
  {
   "cell_type": "markdown",
   "source": [
    "The first step is to identify the subjects in the full cohort who are included in the nested sub-sample through matching of subject identifiers and create the indicator of inclusion."
   ],
   "metadata": {
    "collapsed": false
   }
  },
  {
   "cell_type": "code",
   "execution_count": 8,
   "outputs": [
    {
     "data": {
      "text/plain": "id\n1    0\n2    0\n3    0\n4    0\n5    0\nName: inclusion, dtype: int64"
     },
     "execution_count": 8,
     "metadata": {},
     "output_type": "execute_result"
    }
   ],
   "source": [
    "validation_cohort_data[\"inclusion\"] = validation_cohort_data.index.isin(\n",
    "    validation_nested_case_control_data.index\n",
    ").astype(int)\n",
    "validation_cohort_data[\"inclusion\"].head()"
   ],
   "metadata": {
    "collapsed": false,
    "ExecuteTime": {
     "end_time": "2023-05-27T05:25:18.402320Z",
     "start_time": "2023-05-27T05:25:18.335703Z"
    }
   }
  },
  {
   "cell_type": "markdown",
   "source": [
    "Next, we calculate the observed follow-up time as the time between `study_entry_age` and `study_exit_age`."
   ],
   "metadata": {
    "collapsed": false
   }
  },
  {
   "cell_type": "code",
   "execution_count": 9,
   "outputs": [
    {
     "data": {
      "text/plain": "id\n1     7\n2    13\n3    13\n4     6\n5    13\nName: observed_followup, dtype: int64"
     },
     "execution_count": 9,
     "metadata": {},
     "output_type": "execute_result"
    }
   ],
   "source": [
    "validation_cohort_data[\"observed_followup\"] = (\n",
    "    validation_cohort_data[\"study_exit_age\"] - validation_cohort_data[\"study_entry_age\"]\n",
    ")\n",
    "validation_cohort_data[\"observed_followup\"].head()"
   ],
   "metadata": {
    "collapsed": false,
    "ExecuteTime": {
     "end_time": "2023-05-27T05:25:18.402405Z",
     "start_time": "2023-05-27T05:25:18.339567Z"
    }
   }
  },
  {
   "cell_type": "markdown",
   "source": [
    "The next step is to fit a logistic regression model of inclusion based on disease status, age of study entry, observed follow-up, and an interaction of disease status with age at study entry and observed follow-up. We will use the `statsmodels` package to fit this model."
   ],
   "metadata": {
    "collapsed": false
   }
  },
  {
   "cell_type": "code",
   "execution_count": 10,
   "outputs": [],
   "source": [
    "selection_model = smf.glm('inclusion ~ observed_outcome * (study_entry_age + observed_followup)',\n",
    "                          data = validation_cohort_data,\n",
    "                          family = sm.families.Binomial(link=sm.families.links.Logit())).fit()"
   ],
   "metadata": {
    "collapsed": false,
    "ExecuteTime": {
     "end_time": "2023-05-27T05:25:18.647398Z",
     "start_time": "2023-05-27T05:25:18.348329Z"
    }
   }
  },
  {
   "cell_type": "code",
   "execution_count": 11,
   "outputs": [],
   "source": [
    "validation_nested_case_control_data['sampling_weights'] = selection_model.fittedvalues[validation_cohort_data[\"inclusion\"] == 1]"
   ],
   "metadata": {
    "collapsed": false,
    "ExecuteTime": {
     "end_time": "2023-05-27T05:25:18.648221Z",
     "start_time": "2023-05-27T05:25:18.593274Z"
    }
   }
  },
  {
   "cell_type": "code",
   "execution_count": 12,
   "outputs": [
    {
     "data": {
      "text/plain": "id\n12    0.592881\n31    0.095922\n32    0.099126\n58    0.145702\n64    0.109644\nName: sampling_weights, dtype: float64"
     },
     "execution_count": 12,
     "metadata": {},
     "output_type": "execute_result"
    }
   ],
   "source": [
    "validation_nested_case_control_data['sampling_weights'].head()"
   ],
   "metadata": {
    "collapsed": false,
    "ExecuteTime": {
     "end_time": "2023-05-27T05:25:18.648418Z",
     "start_time": "2023-05-27T05:25:18.604036Z"
    }
   }
  },
  {
   "cell_type": "markdown",
   "source": [
    "We have now recovered the sampling weights for the nested case-control study data. We can now proceed with the model validation. Let us save our data to a file. Here, we will overwrite the existing file."
   ],
   "metadata": {
    "collapsed": false
   }
  },
  {
   "cell_type": "code",
   "execution_count": 13,
   "outputs": [],
   "source": [
    "validation_cohort_data.to_csv(validation_cohort_data_path)\n",
    "validation_nested_case_control_data.to_csv(validation_nested_case_control_data_path)"
   ],
   "metadata": {
    "collapsed": false,
    "ExecuteTime": {
     "end_time": "2023-05-27T05:25:18.863909Z",
     "start_time": "2023-05-27T05:25:18.619776Z"
    }
   }
  },
  {
   "cell_type": "markdown",
   "source": [
    "We will separate out the covariate data from the nested case-control study data and save it into separate files. We do this because we will build an absolute risk model using iCARE (the model being validated), where we have the reference dataset for our covariates but not for SNPs. So, we will make use of the special SNP option there. If we have the reference dataset for SNPs, we don't need to do this."
   ],
   "metadata": {
    "collapsed": false
   }
  },
  {
   "cell_type": "code",
   "execution_count": 14,
   "outputs": [],
   "source": [
    "covariate_columns = [\n",
    "    \"family_history\", \"age_at_menarche\", \"parity\", \"age_at_first_child_birth\",\n",
    "    \"age_at_menopause\", \"height\", \"bmi\", \"menopause_hrt\",\n",
    "    \"menopause_hrt_e\", \"menopause_hrt_c\", \"current_hrt\", \"alcohol_consumption\",\n",
    "    \"smoking_status\"\n",
    "]\n",
    "\n",
    "snp_columns = [\n",
    "    \"rs616488\", \"rs11552449\", \"rs11249433\", \"rs12405132\", \"rs12048493\",\n",
    "    \"rs6678914\", \"rs4245739\", \"rs72755295\", \"rs12710696\", \"rs4849887\",\n",
    "    \"rs2016394\", \"rs1550623\", \"rs16857609\", \"rs6762644\", \"rs4973768\",\n",
    "    \"rs12493607\", \"rs6796502\", \"rs9790517\", \"rs6828523\", \"rs10069690\",\n",
    "    \"rs13162653\", \"rs2012709\", \"rs10941679\", \"rs10472076\", \"rs1353747\",\n",
    "    \"rs7707921\", \"rs1432679\", \"rs11242675\", \"rs204247\", \"rs9257408\",\n",
    "    \"rs4593472\", \"rs720475\", \"rs9693444\", \"rs13365225\", \"rs6472903\",\n",
    "    \"rs2943559\", \"rs13267382\", \"rs11780156\", \"rs1011970\", \"rs10759243\",\n",
    "    \"rs2380205\", \"rs7072776\", \"rs11814448\", \"rs7904519\", \"rs11199914\",\n",
    "    \"rs554219\", \"rs75915166\", \"rs11820646\", \"rs12422552\", \"rs17356907\",\n",
    "    \"rs1292011\", \"rs11571833\", \"rs2236007\", \"rs2588809\", \"rs999737\",\n",
    "    \"rs941764\", \"rs11627032\", \"rs17817449\", \"rs11075995\", \"rs13329835\",\n",
    "    \"rs146699004\", \"rs745570\", \"rs527616\", \"rs1436904\", \"rs6507583\",\n",
    "    \"rs4808801\", \"rs3760982\", \"rs2284378\", \"rs2823093\", \"rs17879961\",\n",
    "    \"rs132390\", \"rs6001930\"\n",
    "]"
   ],
   "metadata": {
    "collapsed": false,
    "ExecuteTime": {
     "end_time": "2023-05-27T05:25:18.866969Z",
     "start_time": "2023-05-27T05:25:18.865610Z"
    }
   }
  },
  {
   "cell_type": "code",
   "execution_count": 15,
   "outputs": [],
   "source": [
    "apply_covariate_profile_path = data_dir / \"validation_nested_case_control_covariate_data.csv\"\n",
    "apply_snp_profile_path = data_dir / \"validation_nested_case_control_snp_data.csv\"\n",
    "\n",
    "validation_nested_case_control_data[covariate_columns].to_csv(apply_covariate_profile_path)\n",
    "validation_nested_case_control_data[snp_columns].to_csv(apply_snp_profile_path)"
   ],
   "metadata": {
    "collapsed": false,
    "ExecuteTime": {
     "end_time": "2023-05-27T05:25:18.933831Z",
     "start_time": "2023-05-27T05:25:18.867971Z"
    }
   }
  },
  {
   "cell_type": "markdown",
   "source": [
    "## Model validation\n",
    "\n",
    "We will specify the absolute risk model, being validated, using a dictionary. The parameters of the iCARE model to be built is specified using a single parameter in the `validate_absolute_risk_model()` method. The model specifications as shown below."
   ],
   "metadata": {
    "collapsed": false
   }
  },
  {
   "cell_type": "code",
   "execution_count": 16,
   "outputs": [],
   "source": [
    "icare_model_parameters = {\n",
    "    \"apply_age_start\": 50,\n",
    "    \"apply_age_interval_length\": 30,  # age end is 50 + 30 = 80\n",
    "    \"model_covariate_formula_path\": model_covariate_formula_path,\n",
    "    \"model_log_relative_risk_path\": model_log_relative_risk_path,\n",
    "    \"model_reference_dataset_path\": model_reference_dataset_path,\n",
    "    \"model_snp_info_path\": model_snp_info_path,\n",
    "    \"model_family_history_variable_name\": \"family_history\",\n",
    "    \"model_disease_incidence_rates_path\": model_disease_incidence_rates_path,\n",
    "    \"model_competing_incidence_rates_path\": model_competing_incidence_rates_path,\n",
    "    \"apply_covariate_profile_path\": apply_covariate_profile_path,\n",
    "    \"apply_snp_profile_path\": apply_snp_profile_path,\n",
    "    \"seed\": seed\n",
    "}"
   ],
   "metadata": {
    "collapsed": false,
    "ExecuteTime": {
     "end_time": "2023-05-27T05:25:18.934064Z",
     "start_time": "2023-05-27T05:25:18.913221Z"
    }
   }
  },
  {
   "cell_type": "markdown",
   "source": [
    "We can configure the model validation using the parameters below."
   ],
   "metadata": {
    "collapsed": false
   }
  },
  {
   "cell_type": "code",
   "execution_count": 17,
   "outputs": [],
   "source": [
    "study_data_path = validation_nested_case_control_data_path\n",
    "predicted_risk_interval = \"total-followup\"\n",
    "predicted_risk_variable_name = None  # not pre-specifying because we will build iCARE and calculate risks\n",
    "linear_predictor_variable_name = None  # not pre-specifying because we will build iCARE and calculate linear predictors\n",
    "reference_entry_age = None\n",
    "reference_exit_age = None\n",
    "reference_predicted_risks = None\n",
    "reference_linear_predictors = None\n",
    "number_of_percentiles = 10\n",
    "linear_predictor_cutoffs = None\n",
    "dataset_name = \"Example dataset\"\n",
    "model_name = \"Example model\""
   ],
   "metadata": {
    "collapsed": false,
    "ExecuteTime": {
     "end_time": "2023-05-27T05:25:18.934230Z",
     "start_time": "2023-05-27T05:25:18.915606Z"
    }
   }
  },
  {
   "cell_type": "code",
   "execution_count": 18,
   "outputs": [
    {
     "name": "stdout",
     "output_type": "stream",
     "text": [
      "\n",
      "Note: Both 'predicted_risk_variable_name' and 'linear_predictor_variable_name' were not provided. They will be calculated using iCARE.\n"
     ]
    }
   ],
   "source": [
    "results = icare.validate_absolute_risk_model(\n",
    "    study_data_path=study_data_path,\n",
    "    predicted_risk_interval=predicted_risk_interval,\n",
    "    icare_model_parameters=icare_model_parameters,\n",
    "    predicted_risk_variable_name=predicted_risk_variable_name,\n",
    "    linear_predictor_variable_name=linear_predictor_variable_name,\n",
    "    reference_entry_age=reference_entry_age,\n",
    "    reference_exit_age=reference_exit_age,\n",
    "    reference_predicted_risks=reference_predicted_risks,\n",
    "    reference_linear_predictors=reference_linear_predictors,\n",
    "    number_of_percentiles=number_of_percentiles,\n",
    "    linear_predictor_cutoffs=linear_predictor_cutoffs,\n",
    "    dataset_name=dataset_name,\n",
    "    model_name=model_name,\n",
    "    seed=seed\n",
    ")"
   ],
   "metadata": {
    "collapsed": false,
    "ExecuteTime": {
     "end_time": "2023-05-27T05:25:28.381136Z",
     "start_time": "2023-05-27T05:25:18.918165Z"
    }
   }
  },
  {
   "cell_type": "markdown",
   "source": [
    "The method returns a dictionary containing the following keys:"
   ],
   "metadata": {
    "collapsed": false
   }
  },
  {
   "cell_type": "code",
   "execution_count": 19,
   "outputs": [
    {
     "data": {
      "text/plain": "dict_keys(['info', 'study_data', 'incidence_rates', 'auc', 'expected_by_observed_ratio', 'calibration', 'category_specific_calibration', 'method'])"
     },
     "execution_count": 19,
     "metadata": {},
     "output_type": "execute_result"
    }
   ],
   "source": [
    "results.keys()"
   ],
   "metadata": {
    "collapsed": false,
    "ExecuteTime": {
     "end_time": "2023-05-27T05:25:28.397859Z",
     "start_time": "2023-05-27T05:25:28.381580Z"
    }
   }
  },
  {
   "cell_type": "markdown",
   "source": [
    "The `method` key contains the name of the iCARE method used:"
   ],
   "metadata": {
    "collapsed": false
   }
  },
  {
   "cell_type": "code",
   "execution_count": 20,
   "outputs": [
    {
     "name": "stdout",
     "output_type": "stream",
     "text": [
      "iCARE method used: iCARE - absolute risk model validation\n"
     ]
    }
   ],
   "source": [
    "print(f\"iCARE method used: {results['method']}\")"
   ],
   "metadata": {
    "collapsed": false,
    "ExecuteTime": {
     "end_time": "2023-05-27T05:25:28.424272Z",
     "start_time": "2023-05-27T05:25:28.402385Z"
    }
   }
  },
  {
   "cell_type": "markdown",
   "source": [
    "Information about the model validation run."
   ],
   "metadata": {
    "collapsed": false
   }
  },
  {
   "cell_type": "code",
   "execution_count": 21,
   "outputs": [
    {
     "name": "stdout",
     "output_type": "stream",
     "text": [
      "{\n",
      "    \"dataset_name\": \"Example dataset\",\n",
      "    \"model_name\": \"Example model\",\n",
      "    \"risk_prediction_interval\": \"Observed follow-up\"\n",
      "}\n"
     ]
    }
   ],
   "source": [
    "info = results['info']\n",
    "print(json.dumps(info, indent=4))"
   ],
   "metadata": {
    "collapsed": false,
    "ExecuteTime": {
     "end_time": "2023-05-27T05:25:28.430769Z",
     "start_time": "2023-05-27T05:25:28.418578Z"
    }
   }
  },
  {
   "cell_type": "markdown",
   "source": [
    "The original study data including new columns generated by this method for: 1) `predicted_risk_interval`, risk prediction interval for each individual; 2) `followup`, observed follow-up; 3) `risk_estimates`, calculated absolute risk by iCARE model built using the parameters specified above; 4) `linear_predictors`, calculated linear predictors by iCARE model built using the parameters specified above; 5) `linear_predictors_category`, quantile bins generated for calculating the calibration metrics."
   ],
   "metadata": {
    "collapsed": false
   }
  },
  {
   "cell_type": "code",
   "execution_count": 22,
   "outputs": [
    {
     "data": {
      "text/plain": "    family_history age_at_menarche parity age_at_first_child_birth  \\\nid                                                                   \n12               1           13-14    >=4                    30-34   \n31               0           12-13      0                     <=19   \n32               0           12-13      2                     <=19   \n58               0         11-11.5      2                    27-30   \n64               0           13-14      3                     <=19   \n\n   age_at_menopause     height        bmi  menopause_hrt  menopause_hrt_e  \\\nid                                                                          \n12            53-55  1.61-1.63     >=34.6              1                0   \n31             >=55  1.66-1.68    23-24.2              2                0   \n32            40-45  1.63-1.65  31.4-34.6              1                0   \n58            48-50  1.63-1.65  27.8-29.3              1                0   \n64            48-50  1.65-1.66  29.3-31.4              2                1   \n\n    menopause_hrt_c  ...  observed_outcome time_of_onset sampling_weights  \\\nid                   ...                                                    \n12                0  ...                 1      0.012103         0.592881   \n31                1  ...                 0           NaN         0.095922   \n32                1  ...                 0           NaN         0.099126   \n58                0  ...                 0           NaN         0.145702   \n64                0  ...                 0           NaN         0.109644   \n\n    frequency  observed_followup  predicted_risk_interval  followup  \\\nid                                                                    \n12   1.686678                  6                        6         6   \n31  10.425110                  7                        7         7   \n32  10.088217                 10                       10        10   \n58   6.863340                 13                       13        13   \n64   9.120410                 11                       11        11   \n\n    risk_estimates  linear_predictors  \\\nid                                      \n12        0.064757           1.226318   \n31        0.047767           0.753181   \n32        0.071784           0.854727   \n58        0.089169           0.828400   \n64        0.056640           0.519297   \n\n                           linear_predictors_category  \nid                                                     \n12  {'closed': 'right', 'closed_left': False, 'clo...  \n31  {'closed': 'right', 'closed_left': False, 'clo...  \n32  {'closed': 'right', 'closed_left': False, 'clo...  \n58  {'closed': 'right', 'closed_left': False, 'clo...  \n64  {'closed': 'right', 'closed_left': False, 'clo...  \n\n[5 rows x 97 columns]",
      "text/html": "<div>\n<style scoped>\n    .dataframe tbody tr th:only-of-type {\n        vertical-align: middle;\n    }\n\n    .dataframe tbody tr th {\n        vertical-align: top;\n    }\n\n    .dataframe thead th {\n        text-align: right;\n    }\n</style>\n<table border=\"1\" class=\"dataframe\">\n  <thead>\n    <tr style=\"text-align: right;\">\n      <th></th>\n      <th>family_history</th>\n      <th>age_at_menarche</th>\n      <th>parity</th>\n      <th>age_at_first_child_birth</th>\n      <th>age_at_menopause</th>\n      <th>height</th>\n      <th>bmi</th>\n      <th>menopause_hrt</th>\n      <th>menopause_hrt_e</th>\n      <th>menopause_hrt_c</th>\n      <th>...</th>\n      <th>observed_outcome</th>\n      <th>time_of_onset</th>\n      <th>sampling_weights</th>\n      <th>frequency</th>\n      <th>observed_followup</th>\n      <th>predicted_risk_interval</th>\n      <th>followup</th>\n      <th>risk_estimates</th>\n      <th>linear_predictors</th>\n      <th>linear_predictors_category</th>\n    </tr>\n    <tr>\n      <th>id</th>\n      <th></th>\n      <th></th>\n      <th></th>\n      <th></th>\n      <th></th>\n      <th></th>\n      <th></th>\n      <th></th>\n      <th></th>\n      <th></th>\n      <th></th>\n      <th></th>\n      <th></th>\n      <th></th>\n      <th></th>\n      <th></th>\n      <th></th>\n      <th></th>\n      <th></th>\n      <th></th>\n      <th></th>\n    </tr>\n  </thead>\n  <tbody>\n    <tr>\n      <th>12</th>\n      <td>1</td>\n      <td>13-14</td>\n      <td>&gt;=4</td>\n      <td>30-34</td>\n      <td>53-55</td>\n      <td>1.61-1.63</td>\n      <td>&gt;=34.6</td>\n      <td>1</td>\n      <td>0</td>\n      <td>0</td>\n      <td>...</td>\n      <td>1</td>\n      <td>0.012103</td>\n      <td>0.592881</td>\n      <td>1.686678</td>\n      <td>6</td>\n      <td>6</td>\n      <td>6</td>\n      <td>0.064757</td>\n      <td>1.226318</td>\n      <td>{'closed': 'right', 'closed_left': False, 'clo...</td>\n    </tr>\n    <tr>\n      <th>31</th>\n      <td>0</td>\n      <td>12-13</td>\n      <td>0</td>\n      <td>&lt;=19</td>\n      <td>&gt;=55</td>\n      <td>1.66-1.68</td>\n      <td>23-24.2</td>\n      <td>2</td>\n      <td>0</td>\n      <td>1</td>\n      <td>...</td>\n      <td>0</td>\n      <td>NaN</td>\n      <td>0.095922</td>\n      <td>10.425110</td>\n      <td>7</td>\n      <td>7</td>\n      <td>7</td>\n      <td>0.047767</td>\n      <td>0.753181</td>\n      <td>{'closed': 'right', 'closed_left': False, 'clo...</td>\n    </tr>\n    <tr>\n      <th>32</th>\n      <td>0</td>\n      <td>12-13</td>\n      <td>2</td>\n      <td>&lt;=19</td>\n      <td>40-45</td>\n      <td>1.63-1.65</td>\n      <td>31.4-34.6</td>\n      <td>1</td>\n      <td>0</td>\n      <td>1</td>\n      <td>...</td>\n      <td>0</td>\n      <td>NaN</td>\n      <td>0.099126</td>\n      <td>10.088217</td>\n      <td>10</td>\n      <td>10</td>\n      <td>10</td>\n      <td>0.071784</td>\n      <td>0.854727</td>\n      <td>{'closed': 'right', 'closed_left': False, 'clo...</td>\n    </tr>\n    <tr>\n      <th>58</th>\n      <td>0</td>\n      <td>11-11.5</td>\n      <td>2</td>\n      <td>27-30</td>\n      <td>48-50</td>\n      <td>1.63-1.65</td>\n      <td>27.8-29.3</td>\n      <td>1</td>\n      <td>0</td>\n      <td>0</td>\n      <td>...</td>\n      <td>0</td>\n      <td>NaN</td>\n      <td>0.145702</td>\n      <td>6.863340</td>\n      <td>13</td>\n      <td>13</td>\n      <td>13</td>\n      <td>0.089169</td>\n      <td>0.828400</td>\n      <td>{'closed': 'right', 'closed_left': False, 'clo...</td>\n    </tr>\n    <tr>\n      <th>64</th>\n      <td>0</td>\n      <td>13-14</td>\n      <td>3</td>\n      <td>&lt;=19</td>\n      <td>48-50</td>\n      <td>1.65-1.66</td>\n      <td>29.3-31.4</td>\n      <td>2</td>\n      <td>1</td>\n      <td>0</td>\n      <td>...</td>\n      <td>0</td>\n      <td>NaN</td>\n      <td>0.109644</td>\n      <td>9.120410</td>\n      <td>11</td>\n      <td>11</td>\n      <td>11</td>\n      <td>0.056640</td>\n      <td>0.519297</td>\n      <td>{'closed': 'right', 'closed_left': False, 'clo...</td>\n    </tr>\n  </tbody>\n</table>\n<p>5 rows × 97 columns</p>\n</div>"
     },
     "execution_count": 22,
     "metadata": {},
     "output_type": "execute_result"
    }
   ],
   "source": [
    "study_data = pd.read_json(results['study_data'])\n",
    "study_data = study_data.set_index('id')\n",
    "study_data.head()"
   ],
   "metadata": {
    "collapsed": false,
    "ExecuteTime": {
     "end_time": "2023-05-27T05:25:28.610494Z",
     "start_time": "2023-05-27T05:25:28.429842Z"
    }
   }
  },
  {
   "cell_type": "markdown",
   "source": [
    "The estimated age-specific incidence rates."
   ],
   "metadata": {
    "collapsed": false
   }
  },
  {
   "cell_type": "code",
   "execution_count": 23,
   "outputs": [
    {
     "data": {
      "text/plain": "     population_rate  study_rate\nage                             \n51          0.002270    0.004239\n52          0.002374    0.002484\n53          0.002489    0.001891\n54          0.002541    0.004182\n55          0.002600    0.003417\n56          0.002771    0.003893",
      "text/html": "<div>\n<style scoped>\n    .dataframe tbody tr th:only-of-type {\n        vertical-align: middle;\n    }\n\n    .dataframe tbody tr th {\n        vertical-align: top;\n    }\n\n    .dataframe thead th {\n        text-align: right;\n    }\n</style>\n<table border=\"1\" class=\"dataframe\">\n  <thead>\n    <tr style=\"text-align: right;\">\n      <th></th>\n      <th>population_rate</th>\n      <th>study_rate</th>\n    </tr>\n    <tr>\n      <th>age</th>\n      <th></th>\n      <th></th>\n    </tr>\n  </thead>\n  <tbody>\n    <tr>\n      <th>51</th>\n      <td>0.002270</td>\n      <td>0.004239</td>\n    </tr>\n    <tr>\n      <th>52</th>\n      <td>0.002374</td>\n      <td>0.002484</td>\n    </tr>\n    <tr>\n      <th>53</th>\n      <td>0.002489</td>\n      <td>0.001891</td>\n    </tr>\n    <tr>\n      <th>54</th>\n      <td>0.002541</td>\n      <td>0.004182</td>\n    </tr>\n    <tr>\n      <th>55</th>\n      <td>0.002600</td>\n      <td>0.003417</td>\n    </tr>\n    <tr>\n      <th>56</th>\n      <td>0.002771</td>\n      <td>0.003893</td>\n    </tr>\n  </tbody>\n</table>\n</div>"
     },
     "execution_count": 23,
     "metadata": {},
     "output_type": "execute_result"
    }
   ],
   "source": [
    "incidence_rates = pd.read_json(results['incidence_rates'])\n",
    "incidence_rates = incidence_rates.set_index('age')\n",
    "incidence_rates.loc[51:56]"
   ],
   "metadata": {
    "collapsed": false,
    "ExecuteTime": {
     "end_time": "2023-05-27T05:25:28.615692Z",
     "start_time": "2023-05-27T05:25:28.613755Z"
    }
   }
  },
  {
   "cell_type": "markdown",
   "source": [
    "Model discrimination capability calculated using the area under the receiver operating characteristic curve (AUC)."
   ],
   "metadata": {
    "collapsed": false
   }
  },
  {
   "cell_type": "code",
   "execution_count": 24,
   "outputs": [
    {
     "name": "stdout",
     "output_type": "stream",
     "text": [
      "{\n",
      "    \"auc\": 0.5916905045685857,\n",
      "    \"variance\": 8.988073855064069e-05,\n",
      "    \"lower_ci\": 0.5731086358461956,\n",
      "    \"upper_ci\": 0.6102723732909758\n",
      "}\n"
     ]
    }
   ],
   "source": [
    "auc = results['auc']\n",
    "print(json.dumps(auc, indent=4))"
   ],
   "metadata": {
    "collapsed": false,
    "ExecuteTime": {
     "end_time": "2023-05-27T05:25:28.620527Z",
     "start_time": "2023-05-27T05:25:28.619057Z"
    }
   }
  },
  {
   "cell_type": "markdown",
   "source": [
    "The ratio of the expected and the observed number of cases in the study."
   ],
   "metadata": {
    "collapsed": false
   }
  },
  {
   "cell_type": "code",
   "execution_count": 25,
   "outputs": [
    {
     "name": "stdout",
     "output_type": "stream",
     "text": [
      "{\n",
      "    \"ratio\": 0.9691788106037985,\n",
      "    \"lower_ci\": 0.9102096625001854,\n",
      "    \"upper_ci\": 1.031968353690381\n",
      "}\n"
     ]
    }
   ],
   "source": [
    "expected_by_observed_ratio = results['expected_by_observed_ratio']\n",
    "print(json.dumps(expected_by_observed_ratio, indent=4))"
   ],
   "metadata": {
    "collapsed": false,
    "ExecuteTime": {
     "end_time": "2023-05-27T05:25:28.622693Z",
     "start_time": "2023-05-27T05:25:28.621187Z"
    }
   }
  },
  {
   "cell_type": "markdown",
   "source": [
    "Model calibration performance."
   ],
   "metadata": {
    "collapsed": false
   }
  },
  {
   "cell_type": "code",
   "execution_count": 26,
   "outputs": [
    {
     "name": "stdout",
     "output_type": "stream",
     "text": [
      "{\n",
      "    \"absolute_risk\": {\n",
      "        \"method\": \"Hosmer\\u2013Lemeshow goodness of fit (GOF) test for Absolute Risk\",\n",
      "        \"p_value\": 0.0013092776869355616,\n",
      "        \"variance\": [\n",
      "            [\n",
      "                6.115796516347666e-06,\n",
      "                0.0,\n",
      "                0.0,\n",
      "                0.0,\n",
      "                0.0,\n",
      "                0.0,\n",
      "                0.0,\n",
      "                0.0,\n",
      "                0.0,\n",
      "                0.0\n",
      "            ],\n",
      "            [\n",
      "                0.0,\n",
      "                8.610757678318331e-06,\n",
      "                0.0,\n",
      "                0.0,\n",
      "                0.0,\n",
      "                0.0,\n",
      "                0.0,\n",
      "                0.0,\n",
      "                0.0,\n",
      "                0.0\n",
      "            ],\n",
      "            [\n",
      "                0.0,\n",
      "                0.0,\n",
      "                8.163513683003277e-06,\n",
      "                0.0,\n",
      "                0.0,\n",
      "                0.0,\n",
      "                0.0,\n",
      "                0.0,\n",
      "                0.0,\n",
      "                0.0\n",
      "            ],\n",
      "            [\n",
      "                0.0,\n",
      "                0.0,\n",
      "                0.0,\n",
      "                8.259650985674853e-06,\n",
      "                0.0,\n",
      "                0.0,\n",
      "                0.0,\n",
      "                0.0,\n",
      "                0.0,\n",
      "                0.0\n",
      "            ],\n",
      "            [\n",
      "                0.0,\n",
      "                0.0,\n",
      "                0.0,\n",
      "                0.0,\n",
      "                9.146365642128607e-06,\n",
      "                0.0,\n",
      "                0.0,\n",
      "                0.0,\n",
      "                0.0,\n",
      "                0.0\n",
      "            ],\n",
      "            [\n",
      "                0.0,\n",
      "                0.0,\n",
      "                0.0,\n",
      "                0.0,\n",
      "                0.0,\n",
      "                1.0343791160917172e-05,\n",
      "                0.0,\n",
      "                0.0,\n",
      "                0.0,\n",
      "                0.0\n",
      "            ],\n",
      "            [\n",
      "                0.0,\n",
      "                0.0,\n",
      "                0.0,\n",
      "                0.0,\n",
      "                0.0,\n",
      "                0.0,\n",
      "                1.4813128420156528e-05,\n",
      "                0.0,\n",
      "                0.0,\n",
      "                0.0\n",
      "            ],\n",
      "            [\n",
      "                0.0,\n",
      "                0.0,\n",
      "                0.0,\n",
      "                0.0,\n",
      "                0.0,\n",
      "                0.0,\n",
      "                0.0,\n",
      "                1.5127029623191437e-05,\n",
      "                0.0,\n",
      "                0.0\n",
      "            ],\n",
      "            [\n",
      "                0.0,\n",
      "                0.0,\n",
      "                0.0,\n",
      "                0.0,\n",
      "                0.0,\n",
      "                0.0,\n",
      "                0.0,\n",
      "                0.0,\n",
      "                1.5942050400996698e-05,\n",
      "                0.0\n",
      "            ],\n",
      "            [\n",
      "                0.0,\n",
      "                0.0,\n",
      "                0.0,\n",
      "                0.0,\n",
      "                0.0,\n",
      "                0.0,\n",
      "                0.0,\n",
      "                0.0,\n",
      "                0.0,\n",
      "                2.6951066356234015e-05\n",
      "            ]\n",
      "        ],\n",
      "        \"statistic\": {\n",
      "            \"chi_square\": 28.867108079319447\n",
      "        },\n",
      "        \"parameter\": {\n",
      "            \"degrees_of_freedom\": 10\n",
      "        }\n",
      "    },\n",
      "    \"relative_risk\": {\n",
      "        \"method\": \"Goodness of fit (GOF) test for Relative Risk\",\n",
      "        \"p_value\": 3.2426066645552254e-05,\n",
      "        \"variance\": [\n",
      "            [\n",
      "                0.014130250660220795,\n",
      "                -0.0007168099671669899,\n",
      "                -0.000757759712757397,\n",
      "                -0.0007908053271818198,\n",
      "                -0.0008228002743050263,\n",
      "                -0.000840465933850511,\n",
      "                -0.0008037464268611276,\n",
      "                -0.0008698021234923471,\n",
      "                -0.0010214512705342337,\n",
      "                -0.0011096387372410163\n",
      "            ],\n",
      "            [\n",
      "                -0.0007168099671669899,\n",
      "                0.010054408408468893,\n",
      "                -0.0007678480586184503,\n",
      "                -0.0008008936730428731,\n",
      "                -0.0008328886201660796,\n",
      "                -0.0008505542797115642,\n",
      "                -0.0008138347727221809,\n",
      "                -0.0008798904693534004,\n",
      "                -0.001031539616395287,\n",
      "                -0.0011197270831020695\n",
      "            ],\n",
      "            [\n",
      "                -0.000757759712757397,\n",
      "                -0.0007678480586184503,\n",
      "                0.011635098406874536,\n",
      "                -0.0008418434186332802,\n",
      "                -0.0008738383657564867,\n",
      "                -0.0008915040253019713,\n",
      "                -0.000854784518312588,\n",
      "                -0.0009208402149438075,\n",
      "                -0.001072489361985694,\n",
      "                -0.0011606768286924766\n",
      "            ],\n",
      "            [\n",
      "                -0.0007908053271818198,\n",
      "                -0.0008008936730428731,\n",
      "                -0.0008418434186332802,\n",
      "                0.012313908002422134,\n",
      "                -0.0009068839801809095,\n",
      "                -0.0009245496397263939,\n",
      "                -0.0008878301327370108,\n",
      "                -0.00095388582936823,\n",
      "                -0.0011055349764101166,\n",
      "                -0.0011937224431168994\n",
      "            ],\n",
      "            [\n",
      "                -0.0008228002743050263,\n",
      "                -0.0008328886201660796,\n",
      "                -0.0008738383657564867,\n",
      "                -0.0009068839801809095,\n",
      "                0.011775970007665651,\n",
      "                -0.0009565445868496006,\n",
      "                -0.0009198250798602173,\n",
      "                -0.0009858807764914369,\n",
      "                -0.0011375299235333234,\n",
      "                -0.001225717390240106\n",
      "            ],\n",
      "            [\n",
      "                -0.000840465933850511,\n",
      "                -0.0008505542797115642,\n",
      "                -0.0008915040253019713,\n",
      "                -0.0009245496397263939,\n",
      "                -0.0009565445868496004,\n",
      "                0.010671555426396924,\n",
      "                -0.000937490739405702,\n",
      "                -0.0010035464360369213,\n",
      "                -0.0011551955830788078,\n",
      "                -0.0012433830497855906\n",
      "            ],\n",
      "            [\n",
      "                -0.0008037464268611276,\n",
      "                -0.0008138347727221809,\n",
      "                -0.000854784518312588,\n",
      "                -0.0008878301327370108,\n",
      "                -0.0009198250798602173,\n",
      "                -0.000937490739405702,\n",
      "                0.006652172738368729,\n",
      "                -0.0009668269290475379,\n",
      "                -0.0011184760760894245,\n",
      "                -0.0012066635427962072\n",
      "            ],\n",
      "            [\n",
      "                -0.0008698021234923469,\n",
      "                -0.0008798904693534001,\n",
      "                -0.0009208402149438072,\n",
      "                -0.00095388582936823,\n",
      "                -0.0009858807764914366,\n",
      "                -0.0010035464360369213,\n",
      "                -0.0009668269290475379,\n",
      "                0.007398565161314697,\n",
      "                -0.0011845317727206437,\n",
      "                -0.0012727192394274265\n",
      "            ],\n",
      "            [\n",
      "                -0.0010214512705342337,\n",
      "                -0.001031539616395287,\n",
      "                -0.001072489361985694,\n",
      "                -0.0011055349764101169,\n",
      "                -0.0011375299235333234,\n",
      "                -0.001155195583078808,\n",
      "                -0.0011184760760894247,\n",
      "                -0.001184531772720644,\n",
      "                0.009162710698112494,\n",
      "                -0.001424368386469313\n",
      "            ],\n",
      "            [\n",
      "                -0.0011096387372410163,\n",
      "                -0.0011197270831020695,\n",
      "                -0.0011606768286924766,\n",
      "                -0.0011937224431168994,\n",
      "                -0.001225717390240106,\n",
      "                -0.0012433830497855906,\n",
      "                -0.0012066635427962072,\n",
      "                -0.0012727192394274265,\n",
      "                -0.001424368386469313,\n",
      "                0.0056493761765432655\n",
      "            ]\n",
      "        ],\n",
      "        \"statistic\": {\n",
      "            \"chi_square\": 36.4913616499367\n",
      "        },\n",
      "        \"parameter\": {\n",
      "            \"degrees_of_freedom\": 9\n",
      "        }\n",
      "    }\n",
      "}\n"
     ]
    }
   ],
   "source": [
    "calibration = results['calibration']\n",
    "print(json.dumps(calibration, indent=4))"
   ],
   "metadata": {
    "collapsed": false,
    "ExecuteTime": {
     "end_time": "2023-05-27T05:25:28.625431Z",
     "start_time": "2023-05-27T05:25:28.623591Z"
    }
   }
  },
  {
   "cell_type": "markdown",
   "source": [
    "Category-specific calibration results."
   ],
   "metadata": {
    "collapsed": false
   }
  },
  {
   "cell_type": "code",
   "execution_count": 27,
   "outputs": [
    {
     "data": {
      "text/plain": "                   observed_absolute_risk  predicted_absolute_risk  \\\ncategory                                                             \n(-1.462, -0.371]                 0.020303                 0.014367   \n(-0.371, -0.185]                 0.028261                 0.019598   \n(-0.185, -0.0552]                0.025613                 0.022342   \n(-0.0552, 0.0606]                0.025025                 0.024468   \n(0.0606, 0.176]                  0.026821                 0.027974   \n\n                   lower_ci_absolute_risk  upper_ci_absolute_risk  \\\ncategory                                                            \n(-1.462, -0.371]                 0.015456                0.025150   \n(-0.371, -0.185]                 0.022509                0.034012   \n(-0.185, -0.0552]                0.020013                0.031213   \n(-0.0552, 0.0606]                0.019392                0.030658   \n(0.0606, 0.176]                  0.020893                0.032748   \n\n                   observed_relative_risk  predicted_relative_risk  \\\ncategory                                                             \n(-1.462, -0.371]                 0.592296                 0.432519   \n(-0.371, -0.185]                 0.824461                 0.589979   \n(-0.185, -0.0552]                0.747215                 0.672594   \n(-0.0552, 0.0606]                0.730068                 0.736580   \n(0.0606, 0.176]                  0.782445                 0.842143   \n\n                   lower_ci_relative_risk  upper_ci_relative_risk  \ncategory                                                           \n(-1.462, -0.371]                 0.469196                0.747694  \n(-0.371, -0.185]                 0.677356                1.003513  \n(-0.185, -0.0552]                0.604823                0.923130  \n(-0.0552, 0.0606]                0.587362                0.907447  \n(0.0606, 0.176]                  0.632532                0.967889  ",
      "text/html": "<div>\n<style scoped>\n    .dataframe tbody tr th:only-of-type {\n        vertical-align: middle;\n    }\n\n    .dataframe tbody tr th {\n        vertical-align: top;\n    }\n\n    .dataframe thead th {\n        text-align: right;\n    }\n</style>\n<table border=\"1\" class=\"dataframe\">\n  <thead>\n    <tr style=\"text-align: right;\">\n      <th></th>\n      <th>observed_absolute_risk</th>\n      <th>predicted_absolute_risk</th>\n      <th>lower_ci_absolute_risk</th>\n      <th>upper_ci_absolute_risk</th>\n      <th>observed_relative_risk</th>\n      <th>predicted_relative_risk</th>\n      <th>lower_ci_relative_risk</th>\n      <th>upper_ci_relative_risk</th>\n    </tr>\n    <tr>\n      <th>category</th>\n      <th></th>\n      <th></th>\n      <th></th>\n      <th></th>\n      <th></th>\n      <th></th>\n      <th></th>\n      <th></th>\n    </tr>\n  </thead>\n  <tbody>\n    <tr>\n      <th>(-1.462, -0.371]</th>\n      <td>0.020303</td>\n      <td>0.014367</td>\n      <td>0.015456</td>\n      <td>0.025150</td>\n      <td>0.592296</td>\n      <td>0.432519</td>\n      <td>0.469196</td>\n      <td>0.747694</td>\n    </tr>\n    <tr>\n      <th>(-0.371, -0.185]</th>\n      <td>0.028261</td>\n      <td>0.019598</td>\n      <td>0.022509</td>\n      <td>0.034012</td>\n      <td>0.824461</td>\n      <td>0.589979</td>\n      <td>0.677356</td>\n      <td>1.003513</td>\n    </tr>\n    <tr>\n      <th>(-0.185, -0.0552]</th>\n      <td>0.025613</td>\n      <td>0.022342</td>\n      <td>0.020013</td>\n      <td>0.031213</td>\n      <td>0.747215</td>\n      <td>0.672594</td>\n      <td>0.604823</td>\n      <td>0.923130</td>\n    </tr>\n    <tr>\n      <th>(-0.0552, 0.0606]</th>\n      <td>0.025025</td>\n      <td>0.024468</td>\n      <td>0.019392</td>\n      <td>0.030658</td>\n      <td>0.730068</td>\n      <td>0.736580</td>\n      <td>0.587362</td>\n      <td>0.907447</td>\n    </tr>\n    <tr>\n      <th>(0.0606, 0.176]</th>\n      <td>0.026821</td>\n      <td>0.027974</td>\n      <td>0.020893</td>\n      <td>0.032748</td>\n      <td>0.782445</td>\n      <td>0.842143</td>\n      <td>0.632532</td>\n      <td>0.967889</td>\n    </tr>\n  </tbody>\n</table>\n</div>"
     },
     "execution_count": 27,
     "metadata": {},
     "output_type": "execute_result"
    }
   ],
   "source": [
    "category_specific_calibration = pd.read_json(results['category_specific_calibration'])\n",
    "category_specific_calibration = category_specific_calibration.set_index('category')\n",
    "category_specific_calibration.head()"
   ],
   "metadata": {
    "collapsed": false,
    "ExecuteTime": {
     "end_time": "2023-05-27T05:25:28.632370Z",
     "start_time": "2023-05-27T05:25:28.628148Z"
    }
   }
  },
  {
   "cell_type": "markdown",
   "source": [
    "## Visualizing the results\n",
    "\n",
    "Let us generate a summary report of some of the most important metrics calculated during model validation."
   ],
   "metadata": {
    "collapsed": false
   }
  },
  {
   "cell_type": "code",
   "execution_count": 28,
   "outputs": [
    {
     "name": "stdout",
     "output_type": "stream",
     "text": [
      "Validation results\n",
      "==================\n",
      "\n",
      "Dataset name: Example dataset\n",
      "Model name: Example model\n",
      "Risk prediction interval: Observed follow-up\n",
      "Number of subjects (cases): 5285 (1251)\n",
      "Follow-up time (years) [mean, range]: [9.706, (5, 13)]\n",
      "Baseline age (years) [mean, range]: [62.556, (50, 72)]\n",
      "E/O [estimate, 95% CI]: 0.969 (0.910, 1.032)\n",
      "\n",
      "Absolute risk calibration\n",
      "-------------------------\n",
      "\tStatistical test: Hosmer–Lemeshow goodness of fit (GOF) test for Absolute Risk\n",
      "\tTest statistic: 28.867\n",
      "\tDegrees of freedom: 10\n",
      "\tP-value: 1.309278E-03\n",
      "\n",
      "Relative risk calibration\n",
      "-------------------------\n",
      "\tStatistical test: Goodness of fit (GOF) test for Relative Risk\n",
      "\tTest statistic: 36.491\n",
      "\tDegrees of freedom: 9\n",
      "\tP-value: 3.242607E-05\n",
      "\n",
      "Model discrimination\n",
      "--------------------\n",
      "\tAUC: 0.592\n",
      "\t95% CI: (0.573, 0.610)\n"
     ]
    }
   ],
   "source": [
    "print(\"Validation results\\n==================\\n\")\n",
    "\n",
    "print(f\"Dataset name: {info['dataset_name']}\")\n",
    "print(f\"Model name: {info['model_name']}\")\n",
    "print(f\"Risk prediction interval: {info['risk_prediction_interval']}\")\n",
    "print(f\"Number of subjects (cases): {len(study_data)} ({len(study_data[study_data['observed_outcome'] == 1])})\")\n",
    "print(f\"Follow-up time (years) [mean, range]: [{study_data['followup'].mean():.3f}, ({study_data['followup'].min()}, {study_data['followup'].max()})]\")\n",
    "print(f\"Baseline age (years) [mean, range]: [{study_data['study_entry_age'].mean():.3f}, ({study_data['study_entry_age'].min()}, {study_data['study_entry_age'].max()})]\")\n",
    "print(f\"E/O [estimate, 95% CI]: {expected_by_observed_ratio['ratio']:.3f} ({expected_by_observed_ratio['lower_ci']:.3f}, {expected_by_observed_ratio['upper_ci']:.3f})\")\n",
    "\n",
    "print()\n",
    "print(\"Absolute risk calibration\\n-------------------------\")\n",
    "print(f\"\\tStatistical test: {calibration['absolute_risk']['method']}\")\n",
    "print(f\"\\tTest statistic: {calibration['absolute_risk']['statistic']['chi_square']:.3f}\")\n",
    "print(f\"\\tDegrees of freedom: {calibration['absolute_risk']['parameter']['degrees_of_freedom']}\")\n",
    "print(f\"\\tP-value: {calibration['absolute_risk']['p_value']:E}\")\n",
    "\n",
    "print()\n",
    "print(\"Relative risk calibration\\n-------------------------\")\n",
    "print(f\"\\tStatistical test: {calibration['relative_risk']['method']}\")\n",
    "print(f\"\\tTest statistic: {calibration['relative_risk']['statistic']['chi_square']:.3f}\")\n",
    "print(f\"\\tDegrees of freedom: {calibration['relative_risk']['parameter']['degrees_of_freedom']}\")\n",
    "print(f\"\\tP-value: {calibration['relative_risk']['p_value']:E}\")\n",
    "\n",
    "print()\n",
    "print(\"Model discrimination\\n--------------------\")\n",
    "print(f\"\\tAUC: {auc['auc']:.3f}\")\n",
    "print(f\"\\t95% CI: ({auc['lower_ci']:.3f}, {auc['upper_ci']:.3f})\")"
   ],
   "metadata": {
    "collapsed": false,
    "ExecuteTime": {
     "end_time": "2023-05-27T05:25:28.677011Z",
     "start_time": "2023-05-27T05:25:28.634570Z"
    }
   }
  },
  {
   "cell_type": "markdown",
   "source": [
    "Plot a calibration curves for absolute risk and relative risk."
   ],
   "metadata": {
    "collapsed": false
   }
  },
  {
   "cell_type": "code",
   "execution_count": 29,
   "outputs": [
    {
     "data": {
      "text/plain": "<Figure size 1600x600 with 2 Axes>",
      "image/png": "[encoded data removed]"
     },
     "metadata": {},
     "output_type": "display_data"
    }
   ],
   "source": [
    "observed_absolute_risk_pct = category_specific_calibration['observed_absolute_risk'] * 100\n",
    "lower_ci_absolute_risk_pct = category_specific_calibration['lower_ci_absolute_risk'] * 100\n",
    "upper_ci_absolute_risk_pct = category_specific_calibration['upper_ci_absolute_risk'] * 100\n",
    "predicted_absolute_risk_pct = category_specific_calibration['predicted_absolute_risk'] * 100\n",
    "\n",
    "observed_relative_risk = category_specific_calibration['observed_relative_risk']\n",
    "lower_ci_relative_risk = category_specific_calibration['lower_ci_relative_risk']\n",
    "upper_ci_relative_risk = category_specific_calibration['upper_ci_relative_risk']\n",
    "predicted_relative_risk = category_specific_calibration['predicted_relative_risk']\n",
    "\n",
    "yerr_ar = [observed_absolute_risk_pct - lower_ci_absolute_risk_pct, upper_ci_absolute_risk_pct - observed_absolute_risk_pct]\n",
    "yerr_rr = [observed_relative_risk - lower_ci_relative_risk, upper_ci_relative_risk - observed_relative_risk]\n",
    "\n",
    "fig, (ax1, ax2) = plt.subplots(1, 2, figsize=(16, 6))\n",
    "ax1.set_facecolor('white')\n",
    "ax2.set_facecolor('white')\n",
    "\n",
    "ax1.errorbar(predicted_absolute_risk_pct, observed_absolute_risk_pct, yerr=yerr_ar, fmt='o', color='red', capsize=3)\n",
    "ax1.plot([0, 1], [0, 1], transform=ax1.transAxes, color='black', linestyle='dotted')\n",
    "\n",
    "ax1.set_xlabel('Expected absolute risk (%)')\n",
    "ax1.set_ylabel('Observed absolute risk (%)')\n",
    "ax1.set_title('Absolute risk calibration')\n",
    "\n",
    "ax2.errorbar(predicted_relative_risk, observed_relative_risk, yerr=yerr_rr, fmt='o', color='red', capsize=3)\n",
    "ax2.plot([0, 1], [0, 1], transform=ax2.transAxes, color='black', linestyle='dotted')\n",
    "\n",
    "ax2.set_xlabel('Expected relative risk')\n",
    "ax2.set_ylabel('Observed relative risk')\n",
    "ax2.set_title('Relative risk calibration')\n",
    "\n",
    "plt.show()"
   ],
   "metadata": {
    "collapsed": false,
    "ExecuteTime": {
     "end_time": "2023-05-27T05:25:28.848567Z",
     "start_time": "2023-05-27T05:25:28.639837Z"
    }
   }
  },
  {
   "cell_type": "markdown",
   "source": [
    "Plot discrimination density plots."
   ],
   "metadata": {
    "collapsed": false
   }
  },
  {
   "cell_type": "code",
   "execution_count": 30,
   "outputs": [
    {
     "data": {
      "text/plain": "<Figure size 640x480 with 1 Axes>",
      "image/png": "[encoded data removed]"
     },
     "metadata": {},
     "output_type": "display_data"
    }
   ],
   "source": [
    "sns.kdeplot(study_data.loc[study_data['observed_outcome'] == 0, 'risk_estimates'], bw_adjust=0.5, color=(42/255, 157/255, 244/255), fill=True, alpha=0.3, linewidth=1.5, label=\"Control\")\n",
    "\n",
    "sns.kdeplot(study_data.loc[study_data['observed_outcome'] == 1, 'risk_estimates'], bw_adjust=0.5, color=(254/255, 92/255, 92/255), fill=True, alpha=0.3, linewidth=1.5, label=\"Case\")\n",
    "\n",
    "plt.xlim(0.0, 0.18)\n",
    "plt.xlabel(\"Estimated risk\")\n",
    "plt.ylabel(\"Density\")\n",
    "plt.title(\"Discrimination\")\n",
    "plt.legend()\n",
    "\n",
    "plt.show()"
   ],
   "metadata": {
    "collapsed": false,
    "ExecuteTime": {
     "end_time": "2023-05-27T05:25:28.958627Z",
     "start_time": "2023-05-27T05:25:28.846457Z"
    }
   }
  },
  {
   "cell_type": "markdown",
   "source": [
    "Plot the age-specific incidence rates."
   ],
   "metadata": {
    "collapsed": false
   }
  },
  {
   "cell_type": "code",
   "execution_count": 31,
   "outputs": [
    {
     "data": {
      "text/plain": "<Figure size 1600x600 with 1 Axes>",
      "image/png": "[encoded data removed]"
     },
     "metadata": {},
     "output_type": "display_data"
    }
   ],
   "source": [
    "fig, ax = plt.subplots(figsize=(16, 6))\n",
    "ax.set_facecolor('white')\n",
    "\n",
    "ax.plot(incidence_rates.index, incidence_rates['population_rate'], color='blue', label='Population')\n",
    "ax.plot(incidence_rates.index, incidence_rates['study_rate'], color='red', label='Study')\n",
    "\n",
    "ax.set_xlabel('Age (in years)')\n",
    "ax.set_ylabel('Incidence rate')\n",
    "ax.set_title('Age-specific incidence rates')\n",
    "ax.legend()\n",
    "\n",
    "plt.show()"
   ],
   "metadata": {
    "collapsed": false,
    "ExecuteTime": {
     "end_time": "2023-05-27T05:25:29.075368Z",
     "start_time": "2023-05-27T05:25:28.970845Z"
    }
   }
  }
 ],
 "metadata": {
  "kernelspec": {
   "display_name": "Python 3",
   "language": "python",
   "name": "python3"
  },
  "language_info": {
   "codemirror_mode": {
    "name": "ipython",
    "version": 2
   },
   "file_extension": ".py",
   "mimetype": "text/x-python",
   "name": "python",
   "nbconvert_exporter": "python",
   "pygments_lexer": "ipython2",
   "version": "2.7.6"
  }
 },
 "nbformat": 4,
 "nbformat_minor": 0
}
